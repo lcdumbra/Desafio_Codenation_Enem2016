{
 "cells": [
  {
   "cell_type": "markdown",
   "metadata": {},
   "source": [
    "# DESAFIO CODENATION  - 2019 #"
   ]
  },
  {
   "cell_type": "markdown",
   "metadata": {},
   "source": [
    "O contexto do desafio gira em torno dos resultados do ENEM 2016 (disponíveis no arquivo train.csv). Este arquivo, e apenas ele, deve ser utilizado para todos os desafios. Qualquer dúvida a respeito das colunas, consulte o Dicionário dos Microdados do Enem 2016.\n",
    "\n",
    "Muitas universidades brasileiras utilizam o ENEM para selecionar seus futuros alunos e alunas. Isto é feito com uma média ponderada das notas das provas de matemática, ciências da natureza, linguagens e códigos, ciências humanas e redação, com os pesos abaixo:"
   ]
  },
  {
   "cell_type": "code",
   "execution_count": 1,
   "metadata": {},
   "outputs": [],
   "source": [
    "from time import time\n",
    "import pandas as pd\n",
    "import numpy as np\n",
    "import seaborn as sns\n",
    "import matplotlib.pyplot as plt\n",
    "%matplotlib inline"
   ]
  },
  {
   "cell_type": "code",
   "execution_count": 2,
   "metadata": {},
   "outputs": [],
   "source": [
    "df_data = pd.read_csv(\"train.csv\")\n",
    "df_test = pd.read_csv(\"test.csv\")"
   ]
  },
  {
   "cell_type": "code",
   "execution_count": 3,
   "metadata": {},
   "outputs": [
    {
     "data": {
      "text/html": [
       "<div>\n",
       "<style scoped>\n",
       "    .dataframe tbody tr th:only-of-type {\n",
       "        vertical-align: middle;\n",
       "    }\n",
       "\n",
       "    .dataframe tbody tr th {\n",
       "        vertical-align: top;\n",
       "    }\n",
       "\n",
       "    .dataframe thead th {\n",
       "        text-align: right;\n",
       "    }\n",
       "</style>\n",
       "<table border=\"1\" class=\"dataframe\">\n",
       "  <thead>\n",
       "    <tr style=\"text-align: right;\">\n",
       "      <th></th>\n",
       "      <th>Unnamed: 0</th>\n",
       "      <th>NU_INSCRICAO</th>\n",
       "      <th>NU_ANO</th>\n",
       "      <th>CO_MUNICIPIO_RESIDENCIA</th>\n",
       "      <th>NO_MUNICIPIO_RESIDENCIA</th>\n",
       "      <th>CO_UF_RESIDENCIA</th>\n",
       "      <th>SG_UF_RESIDENCIA</th>\n",
       "      <th>NU_IDADE</th>\n",
       "      <th>TP_SEXO</th>\n",
       "      <th>TP_ESTADO_CIVIL</th>\n",
       "      <th>...</th>\n",
       "      <th>Q041</th>\n",
       "      <th>Q042</th>\n",
       "      <th>Q043</th>\n",
       "      <th>Q044</th>\n",
       "      <th>Q045</th>\n",
       "      <th>Q046</th>\n",
       "      <th>Q047</th>\n",
       "      <th>Q048</th>\n",
       "      <th>Q049</th>\n",
       "      <th>Q050</th>\n",
       "    </tr>\n",
       "  </thead>\n",
       "  <tbody>\n",
       "    <tr>\n",
       "      <th>0</th>\n",
       "      <td>1</td>\n",
       "      <td>ed50e8aaa58e7a806c337585efee9ca41f1eb1ad</td>\n",
       "      <td>2016</td>\n",
       "      <td>4314902</td>\n",
       "      <td>Porto Alegre</td>\n",
       "      <td>43</td>\n",
       "      <td>RS</td>\n",
       "      <td>24</td>\n",
       "      <td>M</td>\n",
       "      <td>0.0</td>\n",
       "      <td>...</td>\n",
       "      <td>5.0</td>\n",
       "      <td>A</td>\n",
       "      <td>A</td>\n",
       "      <td>A</td>\n",
       "      <td>A</td>\n",
       "      <td>A</td>\n",
       "      <td>A</td>\n",
       "      <td>A</td>\n",
       "      <td>B</td>\n",
       "      <td>D</td>\n",
       "    </tr>\n",
       "    <tr>\n",
       "      <th>1</th>\n",
       "      <td>2</td>\n",
       "      <td>2c3acac4b33ec2b195d77e7c04a2d75727fad723</td>\n",
       "      <td>2016</td>\n",
       "      <td>2304707</td>\n",
       "      <td>Granja</td>\n",
       "      <td>23</td>\n",
       "      <td>CE</td>\n",
       "      <td>17</td>\n",
       "      <td>F</td>\n",
       "      <td>0.0</td>\n",
       "      <td>...</td>\n",
       "      <td>NaN</td>\n",
       "      <td>A</td>\n",
       "      <td>A</td>\n",
       "      <td>C</td>\n",
       "      <td>A</td>\n",
       "      <td>B</td>\n",
       "      <td>A</td>\n",
       "      <td>A</td>\n",
       "      <td>C</td>\n",
       "      <td>A</td>\n",
       "    </tr>\n",
       "    <tr>\n",
       "      <th>2</th>\n",
       "      <td>3</td>\n",
       "      <td>f4545f8ccb9ff5c8aad7d32951b3f251a26e6568</td>\n",
       "      <td>2016</td>\n",
       "      <td>2304400</td>\n",
       "      <td>Fortaleza</td>\n",
       "      <td>23</td>\n",
       "      <td>CE</td>\n",
       "      <td>21</td>\n",
       "      <td>F</td>\n",
       "      <td>0.0</td>\n",
       "      <td>...</td>\n",
       "      <td>NaN</td>\n",
       "      <td>A</td>\n",
       "      <td>A</td>\n",
       "      <td>A</td>\n",
       "      <td>A</td>\n",
       "      <td>C</td>\n",
       "      <td>A</td>\n",
       "      <td>A</td>\n",
       "      <td>B</td>\n",
       "      <td>A</td>\n",
       "    </tr>\n",
       "    <tr>\n",
       "      <th>3</th>\n",
       "      <td>4</td>\n",
       "      <td>3d6ec248fef899c414e77f82d5c6d2bffbeaf7fe</td>\n",
       "      <td>2016</td>\n",
       "      <td>3304557</td>\n",
       "      <td>Rio de Janeiro</td>\n",
       "      <td>33</td>\n",
       "      <td>RJ</td>\n",
       "      <td>25</td>\n",
       "      <td>F</td>\n",
       "      <td>0.0</td>\n",
       "      <td>...</td>\n",
       "      <td>5.0</td>\n",
       "      <td>C</td>\n",
       "      <td>A</td>\n",
       "      <td>A</td>\n",
       "      <td>A</td>\n",
       "      <td>A</td>\n",
       "      <td>D</td>\n",
       "      <td>A</td>\n",
       "      <td>A</td>\n",
       "      <td>A</td>\n",
       "    </tr>\n",
       "    <tr>\n",
       "      <th>4</th>\n",
       "      <td>5</td>\n",
       "      <td>bf896ac8d3ecadd6dba1dfbf50110afcbf5d3268</td>\n",
       "      <td>2016</td>\n",
       "      <td>1302603</td>\n",
       "      <td>Manaus</td>\n",
       "      <td>13</td>\n",
       "      <td>AM</td>\n",
       "      <td>28</td>\n",
       "      <td>M</td>\n",
       "      <td>0.0</td>\n",
       "      <td>...</td>\n",
       "      <td>NaN</td>\n",
       "      <td>A</td>\n",
       "      <td>A</td>\n",
       "      <td>A</td>\n",
       "      <td>A</td>\n",
       "      <td>A</td>\n",
       "      <td>A</td>\n",
       "      <td>A</td>\n",
       "      <td>A</td>\n",
       "      <td>A</td>\n",
       "    </tr>\n",
       "  </tbody>\n",
       "</table>\n",
       "<p>5 rows × 167 columns</p>\n",
       "</div>"
      ],
      "text/plain": [
       "   Unnamed: 0                              NU_INSCRICAO  NU_ANO  \\\n",
       "0           1  ed50e8aaa58e7a806c337585efee9ca41f1eb1ad    2016   \n",
       "1           2  2c3acac4b33ec2b195d77e7c04a2d75727fad723    2016   \n",
       "2           3  f4545f8ccb9ff5c8aad7d32951b3f251a26e6568    2016   \n",
       "3           4  3d6ec248fef899c414e77f82d5c6d2bffbeaf7fe    2016   \n",
       "4           5  bf896ac8d3ecadd6dba1dfbf50110afcbf5d3268    2016   \n",
       "\n",
       "   CO_MUNICIPIO_RESIDENCIA NO_MUNICIPIO_RESIDENCIA  CO_UF_RESIDENCIA  \\\n",
       "0                  4314902            Porto Alegre                43   \n",
       "1                  2304707                  Granja                23   \n",
       "2                  2304400               Fortaleza                23   \n",
       "3                  3304557          Rio de Janeiro                33   \n",
       "4                  1302603                  Manaus                13   \n",
       "\n",
       "  SG_UF_RESIDENCIA  NU_IDADE TP_SEXO  TP_ESTADO_CIVIL  ...   Q041  Q042  Q043  \\\n",
       "0               RS        24       M              0.0  ...    5.0     A     A   \n",
       "1               CE        17       F              0.0  ...    NaN     A     A   \n",
       "2               CE        21       F              0.0  ...    NaN     A     A   \n",
       "3               RJ        25       F              0.0  ...    5.0     C     A   \n",
       "4               AM        28       M              0.0  ...    NaN     A     A   \n",
       "\n",
       "  Q044  Q045 Q046  Q047  Q048  Q049  Q050  \n",
       "0    A     A    A     A     A     B     D  \n",
       "1    C     A    B     A     A     C     A  \n",
       "2    A     A    C     A     A     B     A  \n",
       "3    A     A    A     D     A     A     A  \n",
       "4    A     A    A     A     A     A     A  \n",
       "\n",
       "[5 rows x 167 columns]"
      ]
     },
     "execution_count": 3,
     "metadata": {},
     "output_type": "execute_result"
    }
   ],
   "source": [
    "df_data.head()"
   ]
  },
  {
   "cell_type": "code",
   "execution_count": 4,
   "metadata": {},
   "outputs": [
    {
     "data": {
      "text/html": [
       "<div>\n",
       "<style scoped>\n",
       "    .dataframe tbody tr th:only-of-type {\n",
       "        vertical-align: middle;\n",
       "    }\n",
       "\n",
       "    .dataframe tbody tr th {\n",
       "        vertical-align: top;\n",
       "    }\n",
       "\n",
       "    .dataframe thead th {\n",
       "        text-align: right;\n",
       "    }\n",
       "</style>\n",
       "<table border=\"1\" class=\"dataframe\">\n",
       "  <thead>\n",
       "    <tr style=\"text-align: right;\">\n",
       "      <th></th>\n",
       "      <th>NU_INSCRICAO</th>\n",
       "      <th>NU_ANO</th>\n",
       "      <th>CO_MUNICIPIO_RESIDENCIA</th>\n",
       "      <th>NO_MUNICIPIO_RESIDENCIA</th>\n",
       "      <th>CO_UF_RESIDENCIA</th>\n",
       "      <th>SG_UF_RESIDENCIA</th>\n",
       "      <th>NU_IDADE</th>\n",
       "      <th>TP_SEXO</th>\n",
       "      <th>TP_ESTADO_CIVIL</th>\n",
       "      <th>TP_COR_RACA</th>\n",
       "      <th>...</th>\n",
       "      <th>Q041</th>\n",
       "      <th>Q042</th>\n",
       "      <th>Q043</th>\n",
       "      <th>Q044</th>\n",
       "      <th>Q045</th>\n",
       "      <th>Q046</th>\n",
       "      <th>Q047</th>\n",
       "      <th>Q048</th>\n",
       "      <th>Q049</th>\n",
       "      <th>Q050</th>\n",
       "    </tr>\n",
       "  </thead>\n",
       "  <tbody>\n",
       "    <tr>\n",
       "      <th>0</th>\n",
       "      <td>ed50e8aaa58e7a806c337585efee9ca41f1eb1ad</td>\n",
       "      <td>2016</td>\n",
       "      <td>4314902</td>\n",
       "      <td>Porto Alegre</td>\n",
       "      <td>43</td>\n",
       "      <td>RS</td>\n",
       "      <td>24</td>\n",
       "      <td>M</td>\n",
       "      <td>0.0</td>\n",
       "      <td>1</td>\n",
       "      <td>...</td>\n",
       "      <td>5.0</td>\n",
       "      <td>A</td>\n",
       "      <td>A</td>\n",
       "      <td>A</td>\n",
       "      <td>A</td>\n",
       "      <td>A</td>\n",
       "      <td>A</td>\n",
       "      <td>A</td>\n",
       "      <td>B</td>\n",
       "      <td>D</td>\n",
       "    </tr>\n",
       "    <tr>\n",
       "      <th>1</th>\n",
       "      <td>2c3acac4b33ec2b195d77e7c04a2d75727fad723</td>\n",
       "      <td>2016</td>\n",
       "      <td>2304707</td>\n",
       "      <td>Granja</td>\n",
       "      <td>23</td>\n",
       "      <td>CE</td>\n",
       "      <td>17</td>\n",
       "      <td>F</td>\n",
       "      <td>0.0</td>\n",
       "      <td>3</td>\n",
       "      <td>...</td>\n",
       "      <td>NaN</td>\n",
       "      <td>A</td>\n",
       "      <td>A</td>\n",
       "      <td>C</td>\n",
       "      <td>A</td>\n",
       "      <td>B</td>\n",
       "      <td>A</td>\n",
       "      <td>A</td>\n",
       "      <td>C</td>\n",
       "      <td>A</td>\n",
       "    </tr>\n",
       "    <tr>\n",
       "      <th>2</th>\n",
       "      <td>f4545f8ccb9ff5c8aad7d32951b3f251a26e6568</td>\n",
       "      <td>2016</td>\n",
       "      <td>2304400</td>\n",
       "      <td>Fortaleza</td>\n",
       "      <td>23</td>\n",
       "      <td>CE</td>\n",
       "      <td>21</td>\n",
       "      <td>F</td>\n",
       "      <td>0.0</td>\n",
       "      <td>3</td>\n",
       "      <td>...</td>\n",
       "      <td>NaN</td>\n",
       "      <td>A</td>\n",
       "      <td>A</td>\n",
       "      <td>A</td>\n",
       "      <td>A</td>\n",
       "      <td>C</td>\n",
       "      <td>A</td>\n",
       "      <td>A</td>\n",
       "      <td>B</td>\n",
       "      <td>A</td>\n",
       "    </tr>\n",
       "    <tr>\n",
       "      <th>3</th>\n",
       "      <td>3d6ec248fef899c414e77f82d5c6d2bffbeaf7fe</td>\n",
       "      <td>2016</td>\n",
       "      <td>3304557</td>\n",
       "      <td>Rio de Janeiro</td>\n",
       "      <td>33</td>\n",
       "      <td>RJ</td>\n",
       "      <td>25</td>\n",
       "      <td>F</td>\n",
       "      <td>0.0</td>\n",
       "      <td>0</td>\n",
       "      <td>...</td>\n",
       "      <td>5.0</td>\n",
       "      <td>C</td>\n",
       "      <td>A</td>\n",
       "      <td>A</td>\n",
       "      <td>A</td>\n",
       "      <td>A</td>\n",
       "      <td>D</td>\n",
       "      <td>A</td>\n",
       "      <td>A</td>\n",
       "      <td>A</td>\n",
       "    </tr>\n",
       "    <tr>\n",
       "      <th>4</th>\n",
       "      <td>bf896ac8d3ecadd6dba1dfbf50110afcbf5d3268</td>\n",
       "      <td>2016</td>\n",
       "      <td>1302603</td>\n",
       "      <td>Manaus</td>\n",
       "      <td>13</td>\n",
       "      <td>AM</td>\n",
       "      <td>28</td>\n",
       "      <td>M</td>\n",
       "      <td>0.0</td>\n",
       "      <td>2</td>\n",
       "      <td>...</td>\n",
       "      <td>NaN</td>\n",
       "      <td>A</td>\n",
       "      <td>A</td>\n",
       "      <td>A</td>\n",
       "      <td>A</td>\n",
       "      <td>A</td>\n",
       "      <td>A</td>\n",
       "      <td>A</td>\n",
       "      <td>A</td>\n",
       "      <td>A</td>\n",
       "    </tr>\n",
       "  </tbody>\n",
       "</table>\n",
       "<p>5 rows × 166 columns</p>\n",
       "</div>"
      ],
      "text/plain": [
       "                               NU_INSCRICAO  NU_ANO  CO_MUNICIPIO_RESIDENCIA  \\\n",
       "0  ed50e8aaa58e7a806c337585efee9ca41f1eb1ad    2016                  4314902   \n",
       "1  2c3acac4b33ec2b195d77e7c04a2d75727fad723    2016                  2304707   \n",
       "2  f4545f8ccb9ff5c8aad7d32951b3f251a26e6568    2016                  2304400   \n",
       "3  3d6ec248fef899c414e77f82d5c6d2bffbeaf7fe    2016                  3304557   \n",
       "4  bf896ac8d3ecadd6dba1dfbf50110afcbf5d3268    2016                  1302603   \n",
       "\n",
       "  NO_MUNICIPIO_RESIDENCIA  CO_UF_RESIDENCIA SG_UF_RESIDENCIA  NU_IDADE  \\\n",
       "0            Porto Alegre                43               RS        24   \n",
       "1                  Granja                23               CE        17   \n",
       "2               Fortaleza                23               CE        21   \n",
       "3          Rio de Janeiro                33               RJ        25   \n",
       "4                  Manaus                13               AM        28   \n",
       "\n",
       "  TP_SEXO  TP_ESTADO_CIVIL  TP_COR_RACA  ...   Q041  Q042 Q043  Q044 Q045  \\\n",
       "0       M              0.0            1  ...    5.0     A    A     A    A   \n",
       "1       F              0.0            3  ...    NaN     A    A     C    A   \n",
       "2       F              0.0            3  ...    NaN     A    A     A    A   \n",
       "3       F              0.0            0  ...    5.0     C    A     A    A   \n",
       "4       M              0.0            2  ...    NaN     A    A     A    A   \n",
       "\n",
       "   Q046  Q047  Q048  Q049  Q050  \n",
       "0     A     A     A     B     D  \n",
       "1     B     A     A     C     A  \n",
       "2     C     A     A     B     A  \n",
       "3     A     D     A     A     A  \n",
       "4     A     A     A     A     A  \n",
       "\n",
       "[5 rows x 166 columns]"
      ]
     },
     "execution_count": 4,
     "metadata": {},
     "output_type": "execute_result"
    }
   ],
   "source": [
    "df_data = df_data.drop(\"Unnamed: 0\", axis=1)\n",
    "df_data.head()"
   ]
  },
  {
   "cell_type": "markdown",
   "metadata": {},
   "source": [
    "## Análise Exploratória ##"
   ]
  },
  {
   "cell_type": "code",
   "execution_count": 5,
   "metadata": {},
   "outputs": [
    {
     "name": "stdout",
     "output_type": "stream",
     "text": [
      "True\n"
     ]
    }
   ],
   "source": [
    "#Verificando se o conjunto de teste está dentro do conjunto de treino\n",
    "print(set(df_test.columns).issubset(set(df_data.columns)))"
   ]
  },
  {
   "cell_type": "code",
   "execution_count": 6,
   "metadata": {},
   "outputs": [],
   "source": [
    "#Salvando Numero de inscriçao\n",
    "df_resposta = pd.DataFrame()\n",
    "df_resposta = df_test['NU_INSCRICAO']\n",
    "df_resposta = df_resposta.to_frame()"
   ]
  },
  {
   "cell_type": "code",
   "execution_count": 7,
   "metadata": {},
   "outputs": [
    {
     "name": "stdout",
     "output_type": "stream",
     "text": [
      "Total de linhas: 13730\n",
      "Total de '2016' na coluna NU_ANO: 13730\n"
     ]
    }
   ],
   "source": [
    "#Verificando se todos os itens da coluna NU_ANO estão com o ano correto (2016)\n",
    "print(\"Total de linhas:\",df_data.shape[0])\n",
    "print(\"Total de '2016' na coluna NU_ANO:\",df_data[df_data.NU_ANO == 2016]['NU_ANO'].count())"
   ]
  },
  {
   "cell_type": "code",
   "execution_count": 8,
   "metadata": {},
   "outputs": [],
   "source": [
    "#Copiando o dataframe para realizar as alterações e preservar os dados originais\n",
    "df = df_data"
   ]
  },
  {
   "cell_type": "code",
   "execution_count": 9,
   "metadata": {},
   "outputs": [
    {
     "data": {
      "text/html": [
       "<div>\n",
       "<style scoped>\n",
       "    .dataframe tbody tr th:only-of-type {\n",
       "        vertical-align: middle;\n",
       "    }\n",
       "\n",
       "    .dataframe tbody tr th {\n",
       "        vertical-align: top;\n",
       "    }\n",
       "\n",
       "    .dataframe thead th {\n",
       "        text-align: right;\n",
       "    }\n",
       "</style>\n",
       "<table border=\"1\" class=\"dataframe\">\n",
       "  <thead>\n",
       "    <tr style=\"text-align: right;\">\n",
       "      <th></th>\n",
       "      <th>NU_INSCRICAO</th>\n",
       "      <th>CO_MUNICIPIO_RESIDENCIA</th>\n",
       "      <th>NO_MUNICIPIO_RESIDENCIA</th>\n",
       "      <th>CO_UF_RESIDENCIA</th>\n",
       "      <th>SG_UF_RESIDENCIA</th>\n",
       "      <th>NU_IDADE</th>\n",
       "      <th>TP_SEXO</th>\n",
       "      <th>TP_ESTADO_CIVIL</th>\n",
       "      <th>TP_COR_RACA</th>\n",
       "      <th>TP_NACIONALIDADE</th>\n",
       "      <th>...</th>\n",
       "      <th>Q041</th>\n",
       "      <th>Q042</th>\n",
       "      <th>Q043</th>\n",
       "      <th>Q044</th>\n",
       "      <th>Q045</th>\n",
       "      <th>Q046</th>\n",
       "      <th>Q047</th>\n",
       "      <th>Q048</th>\n",
       "      <th>Q049</th>\n",
       "      <th>Q050</th>\n",
       "    </tr>\n",
       "  </thead>\n",
       "  <tbody>\n",
       "    <tr>\n",
       "      <th>0</th>\n",
       "      <td>ed50e8aaa58e7a806c337585efee9ca41f1eb1ad</td>\n",
       "      <td>4314902</td>\n",
       "      <td>Porto Alegre</td>\n",
       "      <td>43</td>\n",
       "      <td>RS</td>\n",
       "      <td>24</td>\n",
       "      <td>M</td>\n",
       "      <td>0.0</td>\n",
       "      <td>1</td>\n",
       "      <td>1</td>\n",
       "      <td>...</td>\n",
       "      <td>5.0</td>\n",
       "      <td>A</td>\n",
       "      <td>A</td>\n",
       "      <td>A</td>\n",
       "      <td>A</td>\n",
       "      <td>A</td>\n",
       "      <td>A</td>\n",
       "      <td>A</td>\n",
       "      <td>B</td>\n",
       "      <td>D</td>\n",
       "    </tr>\n",
       "    <tr>\n",
       "      <th>1</th>\n",
       "      <td>2c3acac4b33ec2b195d77e7c04a2d75727fad723</td>\n",
       "      <td>2304707</td>\n",
       "      <td>Granja</td>\n",
       "      <td>23</td>\n",
       "      <td>CE</td>\n",
       "      <td>17</td>\n",
       "      <td>F</td>\n",
       "      <td>0.0</td>\n",
       "      <td>3</td>\n",
       "      <td>1</td>\n",
       "      <td>...</td>\n",
       "      <td>NaN</td>\n",
       "      <td>A</td>\n",
       "      <td>A</td>\n",
       "      <td>C</td>\n",
       "      <td>A</td>\n",
       "      <td>B</td>\n",
       "      <td>A</td>\n",
       "      <td>A</td>\n",
       "      <td>C</td>\n",
       "      <td>A</td>\n",
       "    </tr>\n",
       "    <tr>\n",
       "      <th>2</th>\n",
       "      <td>f4545f8ccb9ff5c8aad7d32951b3f251a26e6568</td>\n",
       "      <td>2304400</td>\n",
       "      <td>Fortaleza</td>\n",
       "      <td>23</td>\n",
       "      <td>CE</td>\n",
       "      <td>21</td>\n",
       "      <td>F</td>\n",
       "      <td>0.0</td>\n",
       "      <td>3</td>\n",
       "      <td>1</td>\n",
       "      <td>...</td>\n",
       "      <td>NaN</td>\n",
       "      <td>A</td>\n",
       "      <td>A</td>\n",
       "      <td>A</td>\n",
       "      <td>A</td>\n",
       "      <td>C</td>\n",
       "      <td>A</td>\n",
       "      <td>A</td>\n",
       "      <td>B</td>\n",
       "      <td>A</td>\n",
       "    </tr>\n",
       "    <tr>\n",
       "      <th>3</th>\n",
       "      <td>3d6ec248fef899c414e77f82d5c6d2bffbeaf7fe</td>\n",
       "      <td>3304557</td>\n",
       "      <td>Rio de Janeiro</td>\n",
       "      <td>33</td>\n",
       "      <td>RJ</td>\n",
       "      <td>25</td>\n",
       "      <td>F</td>\n",
       "      <td>0.0</td>\n",
       "      <td>0</td>\n",
       "      <td>1</td>\n",
       "      <td>...</td>\n",
       "      <td>5.0</td>\n",
       "      <td>C</td>\n",
       "      <td>A</td>\n",
       "      <td>A</td>\n",
       "      <td>A</td>\n",
       "      <td>A</td>\n",
       "      <td>D</td>\n",
       "      <td>A</td>\n",
       "      <td>A</td>\n",
       "      <td>A</td>\n",
       "    </tr>\n",
       "    <tr>\n",
       "      <th>4</th>\n",
       "      <td>bf896ac8d3ecadd6dba1dfbf50110afcbf5d3268</td>\n",
       "      <td>1302603</td>\n",
       "      <td>Manaus</td>\n",
       "      <td>13</td>\n",
       "      <td>AM</td>\n",
       "      <td>28</td>\n",
       "      <td>M</td>\n",
       "      <td>0.0</td>\n",
       "      <td>2</td>\n",
       "      <td>1</td>\n",
       "      <td>...</td>\n",
       "      <td>NaN</td>\n",
       "      <td>A</td>\n",
       "      <td>A</td>\n",
       "      <td>A</td>\n",
       "      <td>A</td>\n",
       "      <td>A</td>\n",
       "      <td>A</td>\n",
       "      <td>A</td>\n",
       "      <td>A</td>\n",
       "      <td>A</td>\n",
       "    </tr>\n",
       "  </tbody>\n",
       "</table>\n",
       "<p>5 rows × 165 columns</p>\n",
       "</div>"
      ],
      "text/plain": [
       "                               NU_INSCRICAO  CO_MUNICIPIO_RESIDENCIA  \\\n",
       "0  ed50e8aaa58e7a806c337585efee9ca41f1eb1ad                  4314902   \n",
       "1  2c3acac4b33ec2b195d77e7c04a2d75727fad723                  2304707   \n",
       "2  f4545f8ccb9ff5c8aad7d32951b3f251a26e6568                  2304400   \n",
       "3  3d6ec248fef899c414e77f82d5c6d2bffbeaf7fe                  3304557   \n",
       "4  bf896ac8d3ecadd6dba1dfbf50110afcbf5d3268                  1302603   \n",
       "\n",
       "  NO_MUNICIPIO_RESIDENCIA  CO_UF_RESIDENCIA SG_UF_RESIDENCIA  NU_IDADE  \\\n",
       "0            Porto Alegre                43               RS        24   \n",
       "1                  Granja                23               CE        17   \n",
       "2               Fortaleza                23               CE        21   \n",
       "3          Rio de Janeiro                33               RJ        25   \n",
       "4                  Manaus                13               AM        28   \n",
       "\n",
       "  TP_SEXO  TP_ESTADO_CIVIL  TP_COR_RACA  TP_NACIONALIDADE  ...   Q041 Q042  \\\n",
       "0       M              0.0            1                 1  ...    5.0    A   \n",
       "1       F              0.0            3                 1  ...    NaN    A   \n",
       "2       F              0.0            3                 1  ...    NaN    A   \n",
       "3       F              0.0            0                 1  ...    5.0    C   \n",
       "4       M              0.0            2                 1  ...    NaN    A   \n",
       "\n",
       "   Q043 Q044  Q045  Q046  Q047  Q048  Q049  Q050  \n",
       "0     A    A     A     A     A     A     B     D  \n",
       "1     A    C     A     B     A     A     C     A  \n",
       "2     A    A     A     C     A     A     B     A  \n",
       "3     A    A     A     A     D     A     A     A  \n",
       "4     A    A     A     A     A     A     A     A  \n",
       "\n",
       "[5 rows x 165 columns]"
      ]
     },
     "execution_count": 9,
     "metadata": {},
     "output_type": "execute_result"
    }
   ],
   "source": [
    "df = df.drop(\"NU_ANO\", axis=1)\n",
    "df.head()"
   ]
  },
  {
   "cell_type": "code",
   "execution_count": 10,
   "metadata": {},
   "outputs": [
    {
     "data": {
      "text/html": [
       "<div>\n",
       "<style scoped>\n",
       "    .dataframe tbody tr th:only-of-type {\n",
       "        vertical-align: middle;\n",
       "    }\n",
       "\n",
       "    .dataframe tbody tr th {\n",
       "        vertical-align: top;\n",
       "    }\n",
       "\n",
       "    .dataframe thead th {\n",
       "        text-align: right;\n",
       "    }\n",
       "</style>\n",
       "<table border=\"1\" class=\"dataframe\">\n",
       "  <thead>\n",
       "    <tr style=\"text-align: right;\">\n",
       "      <th></th>\n",
       "      <th>NU_INSCRICAO</th>\n",
       "      <th>SG_UF_RESIDENCIA</th>\n",
       "      <th>NU_IDADE</th>\n",
       "      <th>TP_SEXO</th>\n",
       "      <th>TP_ESTADO_CIVIL</th>\n",
       "      <th>TP_COR_RACA</th>\n",
       "      <th>TP_NACIONALIDADE</th>\n",
       "      <th>CO_UF_NASCIMENTO</th>\n",
       "      <th>SG_UF_NASCIMENTO</th>\n",
       "      <th>TP_ST_CONCLUSAO</th>\n",
       "      <th>...</th>\n",
       "      <th>Q041</th>\n",
       "      <th>Q042</th>\n",
       "      <th>Q043</th>\n",
       "      <th>Q044</th>\n",
       "      <th>Q045</th>\n",
       "      <th>Q046</th>\n",
       "      <th>Q047</th>\n",
       "      <th>Q048</th>\n",
       "      <th>Q049</th>\n",
       "      <th>Q050</th>\n",
       "    </tr>\n",
       "  </thead>\n",
       "  <tbody>\n",
       "    <tr>\n",
       "      <th>0</th>\n",
       "      <td>ed50e8aaa58e7a806c337585efee9ca41f1eb1ad</td>\n",
       "      <td>RS</td>\n",
       "      <td>24</td>\n",
       "      <td>M</td>\n",
       "      <td>0.0</td>\n",
       "      <td>1</td>\n",
       "      <td>1</td>\n",
       "      <td>43.0</td>\n",
       "      <td>RS</td>\n",
       "      <td>1</td>\n",
       "      <td>...</td>\n",
       "      <td>5.0</td>\n",
       "      <td>A</td>\n",
       "      <td>A</td>\n",
       "      <td>A</td>\n",
       "      <td>A</td>\n",
       "      <td>A</td>\n",
       "      <td>A</td>\n",
       "      <td>A</td>\n",
       "      <td>B</td>\n",
       "      <td>D</td>\n",
       "    </tr>\n",
       "    <tr>\n",
       "      <th>1</th>\n",
       "      <td>2c3acac4b33ec2b195d77e7c04a2d75727fad723</td>\n",
       "      <td>CE</td>\n",
       "      <td>17</td>\n",
       "      <td>F</td>\n",
       "      <td>0.0</td>\n",
       "      <td>3</td>\n",
       "      <td>1</td>\n",
       "      <td>23.0</td>\n",
       "      <td>CE</td>\n",
       "      <td>2</td>\n",
       "      <td>...</td>\n",
       "      <td>NaN</td>\n",
       "      <td>A</td>\n",
       "      <td>A</td>\n",
       "      <td>C</td>\n",
       "      <td>A</td>\n",
       "      <td>B</td>\n",
       "      <td>A</td>\n",
       "      <td>A</td>\n",
       "      <td>C</td>\n",
       "      <td>A</td>\n",
       "    </tr>\n",
       "    <tr>\n",
       "      <th>2</th>\n",
       "      <td>f4545f8ccb9ff5c8aad7d32951b3f251a26e6568</td>\n",
       "      <td>CE</td>\n",
       "      <td>21</td>\n",
       "      <td>F</td>\n",
       "      <td>0.0</td>\n",
       "      <td>3</td>\n",
       "      <td>1</td>\n",
       "      <td>23.0</td>\n",
       "      <td>CE</td>\n",
       "      <td>3</td>\n",
       "      <td>...</td>\n",
       "      <td>NaN</td>\n",
       "      <td>A</td>\n",
       "      <td>A</td>\n",
       "      <td>A</td>\n",
       "      <td>A</td>\n",
       "      <td>C</td>\n",
       "      <td>A</td>\n",
       "      <td>A</td>\n",
       "      <td>B</td>\n",
       "      <td>A</td>\n",
       "    </tr>\n",
       "    <tr>\n",
       "      <th>3</th>\n",
       "      <td>3d6ec248fef899c414e77f82d5c6d2bffbeaf7fe</td>\n",
       "      <td>RJ</td>\n",
       "      <td>25</td>\n",
       "      <td>F</td>\n",
       "      <td>0.0</td>\n",
       "      <td>0</td>\n",
       "      <td>1</td>\n",
       "      <td>33.0</td>\n",
       "      <td>RJ</td>\n",
       "      <td>1</td>\n",
       "      <td>...</td>\n",
       "      <td>5.0</td>\n",
       "      <td>C</td>\n",
       "      <td>A</td>\n",
       "      <td>A</td>\n",
       "      <td>A</td>\n",
       "      <td>A</td>\n",
       "      <td>D</td>\n",
       "      <td>A</td>\n",
       "      <td>A</td>\n",
       "      <td>A</td>\n",
       "    </tr>\n",
       "    <tr>\n",
       "      <th>4</th>\n",
       "      <td>bf896ac8d3ecadd6dba1dfbf50110afcbf5d3268</td>\n",
       "      <td>AM</td>\n",
       "      <td>28</td>\n",
       "      <td>M</td>\n",
       "      <td>0.0</td>\n",
       "      <td>2</td>\n",
       "      <td>1</td>\n",
       "      <td>15.0</td>\n",
       "      <td>PA</td>\n",
       "      <td>1</td>\n",
       "      <td>...</td>\n",
       "      <td>NaN</td>\n",
       "      <td>A</td>\n",
       "      <td>A</td>\n",
       "      <td>A</td>\n",
       "      <td>A</td>\n",
       "      <td>A</td>\n",
       "      <td>A</td>\n",
       "      <td>A</td>\n",
       "      <td>A</td>\n",
       "      <td>A</td>\n",
       "    </tr>\n",
       "  </tbody>\n",
       "</table>\n",
       "<p>5 rows × 160 columns</p>\n",
       "</div>"
      ],
      "text/plain": [
       "                               NU_INSCRICAO SG_UF_RESIDENCIA  NU_IDADE  \\\n",
       "0  ed50e8aaa58e7a806c337585efee9ca41f1eb1ad               RS        24   \n",
       "1  2c3acac4b33ec2b195d77e7c04a2d75727fad723               CE        17   \n",
       "2  f4545f8ccb9ff5c8aad7d32951b3f251a26e6568               CE        21   \n",
       "3  3d6ec248fef899c414e77f82d5c6d2bffbeaf7fe               RJ        25   \n",
       "4  bf896ac8d3ecadd6dba1dfbf50110afcbf5d3268               AM        28   \n",
       "\n",
       "  TP_SEXO  TP_ESTADO_CIVIL  TP_COR_RACA  TP_NACIONALIDADE  CO_UF_NASCIMENTO  \\\n",
       "0       M              0.0            1                 1              43.0   \n",
       "1       F              0.0            3                 1              23.0   \n",
       "2       F              0.0            3                 1              23.0   \n",
       "3       F              0.0            0                 1              33.0   \n",
       "4       M              0.0            2                 1              15.0   \n",
       "\n",
       "  SG_UF_NASCIMENTO  TP_ST_CONCLUSAO  ...   Q041  Q042  Q043  Q044  Q045  Q046  \\\n",
       "0               RS                1  ...    5.0     A     A     A     A     A   \n",
       "1               CE                2  ...    NaN     A     A     C     A     B   \n",
       "2               CE                3  ...    NaN     A     A     A     A     C   \n",
       "3               RJ                1  ...    5.0     C     A     A     A     A   \n",
       "4               PA                1  ...    NaN     A     A     A     A     A   \n",
       "\n",
       "  Q047  Q048 Q049  Q050  \n",
       "0    A     A    B     D  \n",
       "1    A     A    C     A  \n",
       "2    A     A    B     A  \n",
       "3    D     A    A     A  \n",
       "4    A     A    A     A  \n",
       "\n",
       "[5 rows x 160 columns]"
      ]
     },
     "execution_count": 10,
     "metadata": {},
     "output_type": "execute_result"
    }
   ],
   "source": [
    "columns = [\"CO_MUNICIPIO_RESIDENCIA\", \"CO_UF_RESIDENCIA\", \"NO_MUNICIPIO_RESIDENCIA\", \"CO_MUNICIPIO_NASCIMENTO\",\n",
    "           \"NO_MUNICIPIO_NASCIMENTO\"]\n",
    "df = df.drop(columns, axis=1)\n",
    "df.head()"
   ]
  },
  {
   "cell_type": "code",
   "execution_count": 11,
   "metadata": {},
   "outputs": [
    {
     "name": "stdout",
     "output_type": "stream",
     "text": [
      "Total de linhas: 13730\n",
      "Total de '1' na coluna TP_NACIONALIDADE: 13121\n"
     ]
    }
   ],
   "source": [
    "#Verificando se todos os itens da coluna TP_NACIONALIDADE estão com o tipo 1\n",
    "print(\"Total de linhas:\",df.shape[0])\n",
    "print(\"Total de '1' na coluna TP_NACIONALIDADE:\",df[df.TP_NACIONALIDADE == 1]['TP_NACIONALIDADE'].count())"
   ]
  },
  {
   "cell_type": "code",
   "execution_count": 12,
   "metadata": {},
   "outputs": [
    {
     "data": {
      "text/html": [
       "<div>\n",
       "<style scoped>\n",
       "    .dataframe tbody tr th:only-of-type {\n",
       "        vertical-align: middle;\n",
       "    }\n",
       "\n",
       "    .dataframe tbody tr th {\n",
       "        vertical-align: top;\n",
       "    }\n",
       "\n",
       "    .dataframe thead th {\n",
       "        text-align: right;\n",
       "    }\n",
       "</style>\n",
       "<table border=\"1\" class=\"dataframe\">\n",
       "  <thead>\n",
       "    <tr style=\"text-align: right;\">\n",
       "      <th></th>\n",
       "      <th>NU_INSCRICAO</th>\n",
       "      <th>SG_UF_RESIDENCIA</th>\n",
       "      <th>NU_IDADE</th>\n",
       "      <th>TP_SEXO</th>\n",
       "      <th>TP_ESTADO_CIVIL</th>\n",
       "      <th>TP_COR_RACA</th>\n",
       "      <th>CO_UF_NASCIMENTO</th>\n",
       "      <th>SG_UF_NASCIMENTO</th>\n",
       "      <th>TP_ST_CONCLUSAO</th>\n",
       "      <th>TP_ANO_CONCLUIU</th>\n",
       "      <th>...</th>\n",
       "      <th>Q041</th>\n",
       "      <th>Q042</th>\n",
       "      <th>Q043</th>\n",
       "      <th>Q044</th>\n",
       "      <th>Q045</th>\n",
       "      <th>Q046</th>\n",
       "      <th>Q047</th>\n",
       "      <th>Q048</th>\n",
       "      <th>Q049</th>\n",
       "      <th>Q050</th>\n",
       "    </tr>\n",
       "  </thead>\n",
       "  <tbody>\n",
       "    <tr>\n",
       "      <th>0</th>\n",
       "      <td>ed50e8aaa58e7a806c337585efee9ca41f1eb1ad</td>\n",
       "      <td>RS</td>\n",
       "      <td>24</td>\n",
       "      <td>M</td>\n",
       "      <td>0.0</td>\n",
       "      <td>1</td>\n",
       "      <td>43.0</td>\n",
       "      <td>RS</td>\n",
       "      <td>1</td>\n",
       "      <td>4</td>\n",
       "      <td>...</td>\n",
       "      <td>5.0</td>\n",
       "      <td>A</td>\n",
       "      <td>A</td>\n",
       "      <td>A</td>\n",
       "      <td>A</td>\n",
       "      <td>A</td>\n",
       "      <td>A</td>\n",
       "      <td>A</td>\n",
       "      <td>B</td>\n",
       "      <td>D</td>\n",
       "    </tr>\n",
       "    <tr>\n",
       "      <th>1</th>\n",
       "      <td>2c3acac4b33ec2b195d77e7c04a2d75727fad723</td>\n",
       "      <td>CE</td>\n",
       "      <td>17</td>\n",
       "      <td>F</td>\n",
       "      <td>0.0</td>\n",
       "      <td>3</td>\n",
       "      <td>23.0</td>\n",
       "      <td>CE</td>\n",
       "      <td>2</td>\n",
       "      <td>0</td>\n",
       "      <td>...</td>\n",
       "      <td>NaN</td>\n",
       "      <td>A</td>\n",
       "      <td>A</td>\n",
       "      <td>C</td>\n",
       "      <td>A</td>\n",
       "      <td>B</td>\n",
       "      <td>A</td>\n",
       "      <td>A</td>\n",
       "      <td>C</td>\n",
       "      <td>A</td>\n",
       "    </tr>\n",
       "    <tr>\n",
       "      <th>2</th>\n",
       "      <td>f4545f8ccb9ff5c8aad7d32951b3f251a26e6568</td>\n",
       "      <td>CE</td>\n",
       "      <td>21</td>\n",
       "      <td>F</td>\n",
       "      <td>0.0</td>\n",
       "      <td>3</td>\n",
       "      <td>23.0</td>\n",
       "      <td>CE</td>\n",
       "      <td>3</td>\n",
       "      <td>0</td>\n",
       "      <td>...</td>\n",
       "      <td>NaN</td>\n",
       "      <td>A</td>\n",
       "      <td>A</td>\n",
       "      <td>A</td>\n",
       "      <td>A</td>\n",
       "      <td>C</td>\n",
       "      <td>A</td>\n",
       "      <td>A</td>\n",
       "      <td>B</td>\n",
       "      <td>A</td>\n",
       "    </tr>\n",
       "    <tr>\n",
       "      <th>3</th>\n",
       "      <td>3d6ec248fef899c414e77f82d5c6d2bffbeaf7fe</td>\n",
       "      <td>RJ</td>\n",
       "      <td>25</td>\n",
       "      <td>F</td>\n",
       "      <td>0.0</td>\n",
       "      <td>0</td>\n",
       "      <td>33.0</td>\n",
       "      <td>RJ</td>\n",
       "      <td>1</td>\n",
       "      <td>9</td>\n",
       "      <td>...</td>\n",
       "      <td>5.0</td>\n",
       "      <td>C</td>\n",
       "      <td>A</td>\n",
       "      <td>A</td>\n",
       "      <td>A</td>\n",
       "      <td>A</td>\n",
       "      <td>D</td>\n",
       "      <td>A</td>\n",
       "      <td>A</td>\n",
       "      <td>A</td>\n",
       "    </tr>\n",
       "    <tr>\n",
       "      <th>4</th>\n",
       "      <td>bf896ac8d3ecadd6dba1dfbf50110afcbf5d3268</td>\n",
       "      <td>AM</td>\n",
       "      <td>28</td>\n",
       "      <td>M</td>\n",
       "      <td>0.0</td>\n",
       "      <td>2</td>\n",
       "      <td>15.0</td>\n",
       "      <td>PA</td>\n",
       "      <td>1</td>\n",
       "      <td>4</td>\n",
       "      <td>...</td>\n",
       "      <td>NaN</td>\n",
       "      <td>A</td>\n",
       "      <td>A</td>\n",
       "      <td>A</td>\n",
       "      <td>A</td>\n",
       "      <td>A</td>\n",
       "      <td>A</td>\n",
       "      <td>A</td>\n",
       "      <td>A</td>\n",
       "      <td>A</td>\n",
       "    </tr>\n",
       "  </tbody>\n",
       "</table>\n",
       "<p>5 rows × 159 columns</p>\n",
       "</div>"
      ],
      "text/plain": [
       "                               NU_INSCRICAO SG_UF_RESIDENCIA  NU_IDADE  \\\n",
       "0  ed50e8aaa58e7a806c337585efee9ca41f1eb1ad               RS        24   \n",
       "1  2c3acac4b33ec2b195d77e7c04a2d75727fad723               CE        17   \n",
       "2  f4545f8ccb9ff5c8aad7d32951b3f251a26e6568               CE        21   \n",
       "3  3d6ec248fef899c414e77f82d5c6d2bffbeaf7fe               RJ        25   \n",
       "4  bf896ac8d3ecadd6dba1dfbf50110afcbf5d3268               AM        28   \n",
       "\n",
       "  TP_SEXO  TP_ESTADO_CIVIL  TP_COR_RACA  CO_UF_NASCIMENTO SG_UF_NASCIMENTO  \\\n",
       "0       M              0.0            1              43.0               RS   \n",
       "1       F              0.0            3              23.0               CE   \n",
       "2       F              0.0            3              23.0               CE   \n",
       "3       F              0.0            0              33.0               RJ   \n",
       "4       M              0.0            2              15.0               PA   \n",
       "\n",
       "   TP_ST_CONCLUSAO  TP_ANO_CONCLUIU  ...   Q041  Q042  Q043  Q044  Q045 Q046  \\\n",
       "0                1                4  ...    5.0     A     A     A     A    A   \n",
       "1                2                0  ...    NaN     A     A     C     A    B   \n",
       "2                3                0  ...    NaN     A     A     A     A    C   \n",
       "3                1                9  ...    5.0     C     A     A     A    A   \n",
       "4                1                4  ...    NaN     A     A     A     A    A   \n",
       "\n",
       "   Q047 Q048  Q049  Q050  \n",
       "0     A    A     B     D  \n",
       "1     A    A     C     A  \n",
       "2     A    A     B     A  \n",
       "3     D    A     A     A  \n",
       "4     A    A     A     A  \n",
       "\n",
       "[5 rows x 159 columns]"
      ]
     },
     "execution_count": 12,
     "metadata": {},
     "output_type": "execute_result"
    }
   ],
   "source": [
    "#95% são do tipo 1\n",
    "remove_other_types = df[(df.TP_NACIONALIDADE!=1)].index\n",
    "df = df.drop(remove_other_types, axis=0)\n",
    "df = df.drop(\"TP_NACIONALIDADE\", axis=1)\n",
    "df.head()"
   ]
  },
  {
   "cell_type": "code",
   "execution_count": 13,
   "metadata": {},
   "outputs": [
    {
     "name": "stdout",
     "output_type": "stream",
     "text": [
      "9058\n",
      "9058\n",
      "9058\n"
     ]
    }
   ],
   "source": [
    "#Verificando quantidade de dados faltantes\n",
    "print(df.CO_ESCOLA.isnull().sum())\n",
    "print(df.NO_MUNICIPIO_ESC.isnull().sum())\n",
    "print(df.CO_UF_ESC.isnull().sum())"
   ]
  },
  {
   "cell_type": "code",
   "execution_count": 14,
   "metadata": {},
   "outputs": [
    {
     "data": {
      "text/html": [
       "<div>\n",
       "<style scoped>\n",
       "    .dataframe tbody tr th:only-of-type {\n",
       "        vertical-align: middle;\n",
       "    }\n",
       "\n",
       "    .dataframe tbody tr th {\n",
       "        vertical-align: top;\n",
       "    }\n",
       "\n",
       "    .dataframe thead th {\n",
       "        text-align: right;\n",
       "    }\n",
       "</style>\n",
       "<table border=\"1\" class=\"dataframe\">\n",
       "  <thead>\n",
       "    <tr style=\"text-align: right;\">\n",
       "      <th></th>\n",
       "      <th>NU_INSCRICAO</th>\n",
       "      <th>SG_UF_RESIDENCIA</th>\n",
       "      <th>NU_IDADE</th>\n",
       "      <th>TP_SEXO</th>\n",
       "      <th>TP_ESTADO_CIVIL</th>\n",
       "      <th>TP_COR_RACA</th>\n",
       "      <th>SG_UF_NASCIMENTO</th>\n",
       "      <th>TP_ST_CONCLUSAO</th>\n",
       "      <th>TP_ANO_CONCLUIU</th>\n",
       "      <th>TP_ESCOLA</th>\n",
       "      <th>...</th>\n",
       "      <th>Q041</th>\n",
       "      <th>Q042</th>\n",
       "      <th>Q043</th>\n",
       "      <th>Q044</th>\n",
       "      <th>Q045</th>\n",
       "      <th>Q046</th>\n",
       "      <th>Q047</th>\n",
       "      <th>Q048</th>\n",
       "      <th>Q049</th>\n",
       "      <th>Q050</th>\n",
       "    </tr>\n",
       "  </thead>\n",
       "  <tbody>\n",
       "    <tr>\n",
       "      <th>0</th>\n",
       "      <td>ed50e8aaa58e7a806c337585efee9ca41f1eb1ad</td>\n",
       "      <td>RS</td>\n",
       "      <td>24</td>\n",
       "      <td>M</td>\n",
       "      <td>0.0</td>\n",
       "      <td>1</td>\n",
       "      <td>RS</td>\n",
       "      <td>1</td>\n",
       "      <td>4</td>\n",
       "      <td>1</td>\n",
       "      <td>...</td>\n",
       "      <td>5.0</td>\n",
       "      <td>A</td>\n",
       "      <td>A</td>\n",
       "      <td>A</td>\n",
       "      <td>A</td>\n",
       "      <td>A</td>\n",
       "      <td>A</td>\n",
       "      <td>A</td>\n",
       "      <td>B</td>\n",
       "      <td>D</td>\n",
       "    </tr>\n",
       "    <tr>\n",
       "      <th>1</th>\n",
       "      <td>2c3acac4b33ec2b195d77e7c04a2d75727fad723</td>\n",
       "      <td>CE</td>\n",
       "      <td>17</td>\n",
       "      <td>F</td>\n",
       "      <td>0.0</td>\n",
       "      <td>3</td>\n",
       "      <td>CE</td>\n",
       "      <td>2</td>\n",
       "      <td>0</td>\n",
       "      <td>2</td>\n",
       "      <td>...</td>\n",
       "      <td>NaN</td>\n",
       "      <td>A</td>\n",
       "      <td>A</td>\n",
       "      <td>C</td>\n",
       "      <td>A</td>\n",
       "      <td>B</td>\n",
       "      <td>A</td>\n",
       "      <td>A</td>\n",
       "      <td>C</td>\n",
       "      <td>A</td>\n",
       "    </tr>\n",
       "    <tr>\n",
       "      <th>2</th>\n",
       "      <td>f4545f8ccb9ff5c8aad7d32951b3f251a26e6568</td>\n",
       "      <td>CE</td>\n",
       "      <td>21</td>\n",
       "      <td>F</td>\n",
       "      <td>0.0</td>\n",
       "      <td>3</td>\n",
       "      <td>CE</td>\n",
       "      <td>3</td>\n",
       "      <td>0</td>\n",
       "      <td>1</td>\n",
       "      <td>...</td>\n",
       "      <td>NaN</td>\n",
       "      <td>A</td>\n",
       "      <td>A</td>\n",
       "      <td>A</td>\n",
       "      <td>A</td>\n",
       "      <td>C</td>\n",
       "      <td>A</td>\n",
       "      <td>A</td>\n",
       "      <td>B</td>\n",
       "      <td>A</td>\n",
       "    </tr>\n",
       "    <tr>\n",
       "      <th>3</th>\n",
       "      <td>3d6ec248fef899c414e77f82d5c6d2bffbeaf7fe</td>\n",
       "      <td>RJ</td>\n",
       "      <td>25</td>\n",
       "      <td>F</td>\n",
       "      <td>0.0</td>\n",
       "      <td>0</td>\n",
       "      <td>RJ</td>\n",
       "      <td>1</td>\n",
       "      <td>9</td>\n",
       "      <td>1</td>\n",
       "      <td>...</td>\n",
       "      <td>5.0</td>\n",
       "      <td>C</td>\n",
       "      <td>A</td>\n",
       "      <td>A</td>\n",
       "      <td>A</td>\n",
       "      <td>A</td>\n",
       "      <td>D</td>\n",
       "      <td>A</td>\n",
       "      <td>A</td>\n",
       "      <td>A</td>\n",
       "    </tr>\n",
       "    <tr>\n",
       "      <th>4</th>\n",
       "      <td>bf896ac8d3ecadd6dba1dfbf50110afcbf5d3268</td>\n",
       "      <td>AM</td>\n",
       "      <td>28</td>\n",
       "      <td>M</td>\n",
       "      <td>0.0</td>\n",
       "      <td>2</td>\n",
       "      <td>PA</td>\n",
       "      <td>1</td>\n",
       "      <td>4</td>\n",
       "      <td>1</td>\n",
       "      <td>...</td>\n",
       "      <td>NaN</td>\n",
       "      <td>A</td>\n",
       "      <td>A</td>\n",
       "      <td>A</td>\n",
       "      <td>A</td>\n",
       "      <td>A</td>\n",
       "      <td>A</td>\n",
       "      <td>A</td>\n",
       "      <td>A</td>\n",
       "      <td>A</td>\n",
       "    </tr>\n",
       "  </tbody>\n",
       "</table>\n",
       "<p>5 rows × 153 columns</p>\n",
       "</div>"
      ],
      "text/plain": [
       "                               NU_INSCRICAO SG_UF_RESIDENCIA  NU_IDADE  \\\n",
       "0  ed50e8aaa58e7a806c337585efee9ca41f1eb1ad               RS        24   \n",
       "1  2c3acac4b33ec2b195d77e7c04a2d75727fad723               CE        17   \n",
       "2  f4545f8ccb9ff5c8aad7d32951b3f251a26e6568               CE        21   \n",
       "3  3d6ec248fef899c414e77f82d5c6d2bffbeaf7fe               RJ        25   \n",
       "4  bf896ac8d3ecadd6dba1dfbf50110afcbf5d3268               AM        28   \n",
       "\n",
       "  TP_SEXO  TP_ESTADO_CIVIL  TP_COR_RACA SG_UF_NASCIMENTO  TP_ST_CONCLUSAO  \\\n",
       "0       M              0.0            1               RS                1   \n",
       "1       F              0.0            3               CE                2   \n",
       "2       F              0.0            3               CE                3   \n",
       "3       F              0.0            0               RJ                1   \n",
       "4       M              0.0            2               PA                1   \n",
       "\n",
       "   TP_ANO_CONCLUIU  TP_ESCOLA  ...   Q041  Q042  Q043  Q044  Q045  Q046  Q047  \\\n",
       "0                4          1  ...    5.0     A     A     A     A     A     A   \n",
       "1                0          2  ...    NaN     A     A     C     A     B     A   \n",
       "2                0          1  ...    NaN     A     A     A     A     C     A   \n",
       "3                9          1  ...    5.0     C     A     A     A     A     D   \n",
       "4                4          1  ...    NaN     A     A     A     A     A     A   \n",
       "\n",
       "   Q048  Q049  Q050  \n",
       "0     A     B     D  \n",
       "1     A     C     A  \n",
       "2     A     B     A  \n",
       "3     A     A     A  \n",
       "4     A     A     A  \n",
       "\n",
       "[5 rows x 153 columns]"
      ]
     },
     "execution_count": 14,
     "metadata": {},
     "output_type": "execute_result"
    }
   ],
   "source": [
    "columns_drop = [\"CO_UF_NASCIMENTO\",\"CO_ESCOLA\", \"CO_MUNICIPIO_ESC\", \"NO_MUNICIPIO_ESC\", \"CO_UF_ESC\", \"SG_UF_ESC\"]\n",
    "df = df.drop(columns_drop, axis=1)\n",
    "df.head()"
   ]
  },
  {
   "cell_type": "code",
   "execution_count": 15,
   "metadata": {},
   "outputs": [
    {
     "name": "stdout",
     "output_type": "stream",
     "text": [
      "9058\n",
      "9058\n",
      "9058\n",
      "9058\n"
     ]
    }
   ],
   "source": [
    "#Verificando quantidade de dados faltantes\n",
    "print(df.TP_DEPENDENCIA_ADM_ESC.isnull().sum())\n",
    "print(df.TP_LOCALIZACAO_ESC.isnull().sum())\n",
    "print(df.TP_SIT_FUNC_ESC.isnull().sum())\n",
    "print(df.TP_ENSINO.isnull().sum())"
   ]
  },
  {
   "cell_type": "code",
   "execution_count": 16,
   "metadata": {},
   "outputs": [
    {
     "name": "stdout",
     "output_type": "stream",
     "text": [
      "11583\n",
      "11583\n",
      "11583\n"
     ]
    }
   ],
   "source": [
    "#Verificando quantidade de dados faltantes\n",
    "print(df.NO_ENTIDADE_CERTIFICACAO.isnull().sum())\n",
    "print(df.CO_UF_ENTIDADE_CERTIFICACAO.isnull().sum())\n",
    "print(df.SG_UF_ENTIDADE_CERTIFICACAO.isnull().sum())"
   ]
  },
  {
   "cell_type": "code",
   "execution_count": 17,
   "metadata": {},
   "outputs": [
    {
     "name": "stdout",
     "output_type": "stream",
     "text": [
      "0\n",
      "0\n"
     ]
    }
   ],
   "source": [
    "#Verificando quantidade de dados faltantes\n",
    "print(df.CO_MUNICIPIO_PROVA.isnull().sum())\n",
    "print(df.CO_UF_PROVA.isnull().sum())"
   ]
  },
  {
   "cell_type": "code",
   "execution_count": 18,
   "metadata": {},
   "outputs": [
    {
     "data": {
      "text/html": [
       "<div>\n",
       "<style scoped>\n",
       "    .dataframe tbody tr th:only-of-type {\n",
       "        vertical-align: middle;\n",
       "    }\n",
       "\n",
       "    .dataframe tbody tr th {\n",
       "        vertical-align: top;\n",
       "    }\n",
       "\n",
       "    .dataframe thead th {\n",
       "        text-align: right;\n",
       "    }\n",
       "</style>\n",
       "<table border=\"1\" class=\"dataframe\">\n",
       "  <thead>\n",
       "    <tr style=\"text-align: right;\">\n",
       "      <th></th>\n",
       "      <th>NU_INSCRICAO</th>\n",
       "      <th>SG_UF_RESIDENCIA</th>\n",
       "      <th>NU_IDADE</th>\n",
       "      <th>TP_SEXO</th>\n",
       "      <th>TP_ESTADO_CIVIL</th>\n",
       "      <th>TP_COR_RACA</th>\n",
       "      <th>SG_UF_NASCIMENTO</th>\n",
       "      <th>TP_ST_CONCLUSAO</th>\n",
       "      <th>TP_ANO_CONCLUIU</th>\n",
       "      <th>TP_ESCOLA</th>\n",
       "      <th>...</th>\n",
       "      <th>Q041</th>\n",
       "      <th>Q042</th>\n",
       "      <th>Q043</th>\n",
       "      <th>Q044</th>\n",
       "      <th>Q045</th>\n",
       "      <th>Q046</th>\n",
       "      <th>Q047</th>\n",
       "      <th>Q048</th>\n",
       "      <th>Q049</th>\n",
       "      <th>Q050</th>\n",
       "    </tr>\n",
       "  </thead>\n",
       "  <tbody>\n",
       "    <tr>\n",
       "      <th>0</th>\n",
       "      <td>ed50e8aaa58e7a806c337585efee9ca41f1eb1ad</td>\n",
       "      <td>RS</td>\n",
       "      <td>24</td>\n",
       "      <td>M</td>\n",
       "      <td>0.0</td>\n",
       "      <td>1</td>\n",
       "      <td>RS</td>\n",
       "      <td>1</td>\n",
       "      <td>4</td>\n",
       "      <td>1</td>\n",
       "      <td>...</td>\n",
       "      <td>5.0</td>\n",
       "      <td>A</td>\n",
       "      <td>A</td>\n",
       "      <td>A</td>\n",
       "      <td>A</td>\n",
       "      <td>A</td>\n",
       "      <td>A</td>\n",
       "      <td>A</td>\n",
       "      <td>B</td>\n",
       "      <td>D</td>\n",
       "    </tr>\n",
       "    <tr>\n",
       "      <th>1</th>\n",
       "      <td>2c3acac4b33ec2b195d77e7c04a2d75727fad723</td>\n",
       "      <td>CE</td>\n",
       "      <td>17</td>\n",
       "      <td>F</td>\n",
       "      <td>0.0</td>\n",
       "      <td>3</td>\n",
       "      <td>CE</td>\n",
       "      <td>2</td>\n",
       "      <td>0</td>\n",
       "      <td>2</td>\n",
       "      <td>...</td>\n",
       "      <td>NaN</td>\n",
       "      <td>A</td>\n",
       "      <td>A</td>\n",
       "      <td>C</td>\n",
       "      <td>A</td>\n",
       "      <td>B</td>\n",
       "      <td>A</td>\n",
       "      <td>A</td>\n",
       "      <td>C</td>\n",
       "      <td>A</td>\n",
       "    </tr>\n",
       "    <tr>\n",
       "      <th>2</th>\n",
       "      <td>f4545f8ccb9ff5c8aad7d32951b3f251a26e6568</td>\n",
       "      <td>CE</td>\n",
       "      <td>21</td>\n",
       "      <td>F</td>\n",
       "      <td>0.0</td>\n",
       "      <td>3</td>\n",
       "      <td>CE</td>\n",
       "      <td>3</td>\n",
       "      <td>0</td>\n",
       "      <td>1</td>\n",
       "      <td>...</td>\n",
       "      <td>NaN</td>\n",
       "      <td>A</td>\n",
       "      <td>A</td>\n",
       "      <td>A</td>\n",
       "      <td>A</td>\n",
       "      <td>C</td>\n",
       "      <td>A</td>\n",
       "      <td>A</td>\n",
       "      <td>B</td>\n",
       "      <td>A</td>\n",
       "    </tr>\n",
       "    <tr>\n",
       "      <th>3</th>\n",
       "      <td>3d6ec248fef899c414e77f82d5c6d2bffbeaf7fe</td>\n",
       "      <td>RJ</td>\n",
       "      <td>25</td>\n",
       "      <td>F</td>\n",
       "      <td>0.0</td>\n",
       "      <td>0</td>\n",
       "      <td>RJ</td>\n",
       "      <td>1</td>\n",
       "      <td>9</td>\n",
       "      <td>1</td>\n",
       "      <td>...</td>\n",
       "      <td>5.0</td>\n",
       "      <td>C</td>\n",
       "      <td>A</td>\n",
       "      <td>A</td>\n",
       "      <td>A</td>\n",
       "      <td>A</td>\n",
       "      <td>D</td>\n",
       "      <td>A</td>\n",
       "      <td>A</td>\n",
       "      <td>A</td>\n",
       "    </tr>\n",
       "    <tr>\n",
       "      <th>4</th>\n",
       "      <td>bf896ac8d3ecadd6dba1dfbf50110afcbf5d3268</td>\n",
       "      <td>AM</td>\n",
       "      <td>28</td>\n",
       "      <td>M</td>\n",
       "      <td>0.0</td>\n",
       "      <td>2</td>\n",
       "      <td>PA</td>\n",
       "      <td>1</td>\n",
       "      <td>4</td>\n",
       "      <td>1</td>\n",
       "      <td>...</td>\n",
       "      <td>NaN</td>\n",
       "      <td>A</td>\n",
       "      <td>A</td>\n",
       "      <td>A</td>\n",
       "      <td>A</td>\n",
       "      <td>A</td>\n",
       "      <td>A</td>\n",
       "      <td>A</td>\n",
       "      <td>A</td>\n",
       "      <td>A</td>\n",
       "    </tr>\n",
       "  </tbody>\n",
       "</table>\n",
       "<p>5 rows × 144 columns</p>\n",
       "</div>"
      ],
      "text/plain": [
       "                               NU_INSCRICAO SG_UF_RESIDENCIA  NU_IDADE  \\\n",
       "0  ed50e8aaa58e7a806c337585efee9ca41f1eb1ad               RS        24   \n",
       "1  2c3acac4b33ec2b195d77e7c04a2d75727fad723               CE        17   \n",
       "2  f4545f8ccb9ff5c8aad7d32951b3f251a26e6568               CE        21   \n",
       "3  3d6ec248fef899c414e77f82d5c6d2bffbeaf7fe               RJ        25   \n",
       "4  bf896ac8d3ecadd6dba1dfbf50110afcbf5d3268               AM        28   \n",
       "\n",
       "  TP_SEXO  TP_ESTADO_CIVIL  TP_COR_RACA SG_UF_NASCIMENTO  TP_ST_CONCLUSAO  \\\n",
       "0       M              0.0            1               RS                1   \n",
       "1       F              0.0            3               CE                2   \n",
       "2       F              0.0            3               CE                3   \n",
       "3       F              0.0            0               RJ                1   \n",
       "4       M              0.0            2               PA                1   \n",
       "\n",
       "   TP_ANO_CONCLUIU  TP_ESCOLA  ...   Q041  Q042  Q043  Q044  Q045  Q046  Q047  \\\n",
       "0                4          1  ...    5.0     A     A     A     A     A     A   \n",
       "1                0          2  ...    NaN     A     A     C     A     B     A   \n",
       "2                0          1  ...    NaN     A     A     A     A     C     A   \n",
       "3                9          1  ...    5.0     C     A     A     A     A     D   \n",
       "4                4          1  ...    NaN     A     A     A     A     A     A   \n",
       "\n",
       "   Q048  Q049  Q050  \n",
       "0     A     B     D  \n",
       "1     A     C     A  \n",
       "2     A     B     A  \n",
       "3     A     A     A  \n",
       "4     A     A     A  \n",
       "\n",
       "[5 rows x 144 columns]"
      ]
     },
     "execution_count": 18,
     "metadata": {},
     "output_type": "execute_result"
    }
   ],
   "source": [
    "lista_colunas = [\"TP_DEPENDENCIA_ADM_ESC\", \"TP_LOCALIZACAO_ESC\", \"TP_SIT_FUNC_ESC\", \"TP_ENSINO\", \"NO_ENTIDADE_CERTIFICACAO\",\n",
    "                 \"CO_UF_ENTIDADE_CERTIFICACAO\", \"SG_UF_ENTIDADE_CERTIFICACAO\", \"CO_MUNICIPIO_PROVA\", \"CO_UF_PROVA\"]\n",
    "df = df.drop(lista_colunas, axis=1)\n",
    "df.head()"
   ]
  },
  {
   "cell_type": "code",
   "execution_count": 19,
   "metadata": {},
   "outputs": [
    {
     "name": "stdout",
     "output_type": "stream",
     "text": [
      "13121\n",
      "9922\n"
     ]
    }
   ],
   "source": [
    "#Removendo quem faltou\n",
    "rows_to_remove = df[(df.TP_PRESENCA_CN == 0)].index\n",
    "print(df.shape[0])\n",
    "df = df.drop(rows_to_remove)\n",
    "print(df.shape[0])"
   ]
  },
  {
   "cell_type": "code",
   "execution_count": 20,
   "metadata": {},
   "outputs": [
    {
     "name": "stdout",
     "output_type": "stream",
     "text": [
      "0\n",
      "226\n",
      "9696\n",
      "0\n"
     ]
    }
   ],
   "source": [
    "rows_to_remove = df[(df.TP_PRESENCA_CH == 0)].index\n",
    "print(len(rows_to_remove))\n",
    "rows_to_remove = df[(df.TP_PRESENCA_LC == 0)].index\n",
    "print(len(rows_to_remove))\n",
    "df = df.drop(rows_to_remove)\n",
    "print(df.shape[0])\n",
    "rows_to_remove = df[(df.TP_PRESENCA_MT == 0)].index\n",
    "print(len(rows_to_remove))"
   ]
  },
  {
   "cell_type": "code",
   "execution_count": 21,
   "metadata": {},
   "outputs": [
    {
     "name": "stdout",
     "output_type": "stream",
     "text": [
      "9696\n",
      "4\n",
      "9692\n",
      "0\n",
      "9692\n",
      "5\n",
      "9687\n",
      "0\n"
     ]
    }
   ],
   "source": [
    "# Removendo quem foi eliminidao\n",
    "rows_to_remove = df[(df.TP_PRESENCA_CN == 2)].index\n",
    "print(df.shape[0])\n",
    "print(len(rows_to_remove))\n",
    "df = df.drop(rows_to_remove)\n",
    "print(df.shape[0])\n",
    "rows_to_remove = df[(df.TP_PRESENCA_CH == 2)].index\n",
    "print(len(rows_to_remove))\n",
    "rows_to_remove = df[(df.TP_PRESENCA_LC == 2)].index\n",
    "print(df.shape[0])\n",
    "print(len(rows_to_remove))\n",
    "df = df.drop(rows_to_remove)\n",
    "print(df.shape[0])\n",
    "rows_to_remove = df[(df.TP_PRESENCA_MT == 0)].index\n",
    "print(len(rows_to_remove))"
   ]
  },
  {
   "cell_type": "code",
   "execution_count": 22,
   "metadata": {},
   "outputs": [
    {
     "data": {
      "text/html": [
       "<div>\n",
       "<style scoped>\n",
       "    .dataframe tbody tr th:only-of-type {\n",
       "        vertical-align: middle;\n",
       "    }\n",
       "\n",
       "    .dataframe tbody tr th {\n",
       "        vertical-align: top;\n",
       "    }\n",
       "\n",
       "    .dataframe thead th {\n",
       "        text-align: right;\n",
       "    }\n",
       "</style>\n",
       "<table border=\"1\" class=\"dataframe\">\n",
       "  <thead>\n",
       "    <tr style=\"text-align: right;\">\n",
       "      <th></th>\n",
       "      <th>NU_INSCRICAO</th>\n",
       "      <th>SG_UF_RESIDENCIA</th>\n",
       "      <th>NU_IDADE</th>\n",
       "      <th>TP_SEXO</th>\n",
       "      <th>TP_ESTADO_CIVIL</th>\n",
       "      <th>TP_COR_RACA</th>\n",
       "      <th>SG_UF_NASCIMENTO</th>\n",
       "      <th>TP_ST_CONCLUSAO</th>\n",
       "      <th>TP_ANO_CONCLUIU</th>\n",
       "      <th>TP_ESCOLA</th>\n",
       "      <th>...</th>\n",
       "      <th>Q041</th>\n",
       "      <th>Q042</th>\n",
       "      <th>Q043</th>\n",
       "      <th>Q044</th>\n",
       "      <th>Q045</th>\n",
       "      <th>Q046</th>\n",
       "      <th>Q047</th>\n",
       "      <th>Q048</th>\n",
       "      <th>Q049</th>\n",
       "      <th>Q050</th>\n",
       "    </tr>\n",
       "  </thead>\n",
       "  <tbody>\n",
       "    <tr>\n",
       "      <th>0</th>\n",
       "      <td>ed50e8aaa58e7a806c337585efee9ca41f1eb1ad</td>\n",
       "      <td>RS</td>\n",
       "      <td>24</td>\n",
       "      <td>M</td>\n",
       "      <td>0.0</td>\n",
       "      <td>1</td>\n",
       "      <td>RS</td>\n",
       "      <td>1</td>\n",
       "      <td>4</td>\n",
       "      <td>1</td>\n",
       "      <td>...</td>\n",
       "      <td>5.0</td>\n",
       "      <td>A</td>\n",
       "      <td>A</td>\n",
       "      <td>A</td>\n",
       "      <td>A</td>\n",
       "      <td>A</td>\n",
       "      <td>A</td>\n",
       "      <td>A</td>\n",
       "      <td>B</td>\n",
       "      <td>D</td>\n",
       "    </tr>\n",
       "    <tr>\n",
       "      <th>1</th>\n",
       "      <td>2c3acac4b33ec2b195d77e7c04a2d75727fad723</td>\n",
       "      <td>CE</td>\n",
       "      <td>17</td>\n",
       "      <td>F</td>\n",
       "      <td>0.0</td>\n",
       "      <td>3</td>\n",
       "      <td>CE</td>\n",
       "      <td>2</td>\n",
       "      <td>0</td>\n",
       "      <td>2</td>\n",
       "      <td>...</td>\n",
       "      <td>NaN</td>\n",
       "      <td>A</td>\n",
       "      <td>A</td>\n",
       "      <td>C</td>\n",
       "      <td>A</td>\n",
       "      <td>B</td>\n",
       "      <td>A</td>\n",
       "      <td>A</td>\n",
       "      <td>C</td>\n",
       "      <td>A</td>\n",
       "    </tr>\n",
       "    <tr>\n",
       "      <th>5</th>\n",
       "      <td>a37c99ec251d4f6e8ddbeabadf1c87fdbfddc4d1</td>\n",
       "      <td>BA</td>\n",
       "      <td>18</td>\n",
       "      <td>F</td>\n",
       "      <td>0.0</td>\n",
       "      <td>1</td>\n",
       "      <td>BA</td>\n",
       "      <td>1</td>\n",
       "      <td>1</td>\n",
       "      <td>1</td>\n",
       "      <td>...</td>\n",
       "      <td>NaN</td>\n",
       "      <td>A</td>\n",
       "      <td>A</td>\n",
       "      <td>A</td>\n",
       "      <td>A</td>\n",
       "      <td>A</td>\n",
       "      <td>A</td>\n",
       "      <td>A</td>\n",
       "      <td>A</td>\n",
       "      <td>A</td>\n",
       "    </tr>\n",
       "    <tr>\n",
       "      <th>6</th>\n",
       "      <td>63b4e128e9ffe8ab27f5d093db1976ef4f353e0a</td>\n",
       "      <td>MT</td>\n",
       "      <td>18</td>\n",
       "      <td>F</td>\n",
       "      <td>0.0</td>\n",
       "      <td>3</td>\n",
       "      <td>SE</td>\n",
       "      <td>2</td>\n",
       "      <td>0</td>\n",
       "      <td>2</td>\n",
       "      <td>...</td>\n",
       "      <td>0.0</td>\n",
       "      <td>A</td>\n",
       "      <td>A</td>\n",
       "      <td>A</td>\n",
       "      <td>B</td>\n",
       "      <td>B</td>\n",
       "      <td>A</td>\n",
       "      <td>A</td>\n",
       "      <td>A</td>\n",
       "      <td>A</td>\n",
       "    </tr>\n",
       "    <tr>\n",
       "      <th>7</th>\n",
       "      <td>2eb189d4912f64b19d1967e8e84b6141aba18770</td>\n",
       "      <td>RS</td>\n",
       "      <td>18</td>\n",
       "      <td>F</td>\n",
       "      <td>0.0</td>\n",
       "      <td>1</td>\n",
       "      <td>SP</td>\n",
       "      <td>1</td>\n",
       "      <td>1</td>\n",
       "      <td>1</td>\n",
       "      <td>...</td>\n",
       "      <td>NaN</td>\n",
       "      <td>C</td>\n",
       "      <td>A</td>\n",
       "      <td>A</td>\n",
       "      <td>A</td>\n",
       "      <td>A</td>\n",
       "      <td>D</td>\n",
       "      <td>A</td>\n",
       "      <td>A</td>\n",
       "      <td>A</td>\n",
       "    </tr>\n",
       "  </tbody>\n",
       "</table>\n",
       "<p>5 rows × 140 columns</p>\n",
       "</div>"
      ],
      "text/plain": [
       "                               NU_INSCRICAO SG_UF_RESIDENCIA  NU_IDADE  \\\n",
       "0  ed50e8aaa58e7a806c337585efee9ca41f1eb1ad               RS        24   \n",
       "1  2c3acac4b33ec2b195d77e7c04a2d75727fad723               CE        17   \n",
       "5  a37c99ec251d4f6e8ddbeabadf1c87fdbfddc4d1               BA        18   \n",
       "6  63b4e128e9ffe8ab27f5d093db1976ef4f353e0a               MT        18   \n",
       "7  2eb189d4912f64b19d1967e8e84b6141aba18770               RS        18   \n",
       "\n",
       "  TP_SEXO  TP_ESTADO_CIVIL  TP_COR_RACA SG_UF_NASCIMENTO  TP_ST_CONCLUSAO  \\\n",
       "0       M              0.0            1               RS                1   \n",
       "1       F              0.0            3               CE                2   \n",
       "5       F              0.0            1               BA                1   \n",
       "6       F              0.0            3               SE                2   \n",
       "7       F              0.0            1               SP                1   \n",
       "\n",
       "   TP_ANO_CONCLUIU  TP_ESCOLA  ...   Q041  Q042  Q043  Q044  Q045  Q046  Q047  \\\n",
       "0                4          1  ...    5.0     A     A     A     A     A     A   \n",
       "1                0          2  ...    NaN     A     A     C     A     B     A   \n",
       "5                1          1  ...    NaN     A     A     A     A     A     A   \n",
       "6                0          2  ...    0.0     A     A     A     B     B     A   \n",
       "7                1          1  ...    NaN     C     A     A     A     A     D   \n",
       "\n",
       "   Q048  Q049  Q050  \n",
       "0     A     B     D  \n",
       "1     A     C     A  \n",
       "5     A     A     A  \n",
       "6     A     A     A  \n",
       "7     A     A     A  \n",
       "\n",
       "[5 rows x 140 columns]"
      ]
     },
     "execution_count": 22,
     "metadata": {},
     "output_type": "execute_result"
    }
   ],
   "source": [
    "columns = [\"TP_PRESENCA_CN\", \"TP_PRESENCA_CH\", \"TP_PRESENCA_LC\", \"TP_PRESENCA_MT\"]\n",
    "df = df.drop(columns, axis=1)\n",
    "df.head()"
   ]
  },
  {
   "cell_type": "code",
   "execution_count": 23,
   "metadata": {},
   "outputs": [
    {
     "data": {
      "text/html": [
       "<div>\n",
       "<style scoped>\n",
       "    .dataframe tbody tr th:only-of-type {\n",
       "        vertical-align: middle;\n",
       "    }\n",
       "\n",
       "    .dataframe tbody tr th {\n",
       "        vertical-align: top;\n",
       "    }\n",
       "\n",
       "    .dataframe thead th {\n",
       "        text-align: right;\n",
       "    }\n",
       "</style>\n",
       "<table border=\"1\" class=\"dataframe\">\n",
       "  <thead>\n",
       "    <tr style=\"text-align: right;\">\n",
       "      <th></th>\n",
       "      <th>NU_INSCRICAO</th>\n",
       "      <th>SG_UF_RESIDENCIA</th>\n",
       "      <th>NU_IDADE</th>\n",
       "      <th>TP_SEXO</th>\n",
       "      <th>TP_ESTADO_CIVIL</th>\n",
       "      <th>TP_COR_RACA</th>\n",
       "      <th>SG_UF_NASCIMENTO</th>\n",
       "      <th>TP_ST_CONCLUSAO</th>\n",
       "      <th>TP_ANO_CONCLUIU</th>\n",
       "      <th>TP_ESCOLA</th>\n",
       "      <th>...</th>\n",
       "      <th>Q041</th>\n",
       "      <th>Q042</th>\n",
       "      <th>Q043</th>\n",
       "      <th>Q044</th>\n",
       "      <th>Q045</th>\n",
       "      <th>Q046</th>\n",
       "      <th>Q047</th>\n",
       "      <th>Q048</th>\n",
       "      <th>Q049</th>\n",
       "      <th>Q050</th>\n",
       "    </tr>\n",
       "  </thead>\n",
       "  <tbody>\n",
       "    <tr>\n",
       "      <th>0</th>\n",
       "      <td>ed50e8aaa58e7a806c337585efee9ca41f1eb1ad</td>\n",
       "      <td>RS</td>\n",
       "      <td>24</td>\n",
       "      <td>M</td>\n",
       "      <td>0.0</td>\n",
       "      <td>1</td>\n",
       "      <td>RS</td>\n",
       "      <td>1</td>\n",
       "      <td>4</td>\n",
       "      <td>1</td>\n",
       "      <td>...</td>\n",
       "      <td>5.0</td>\n",
       "      <td>A</td>\n",
       "      <td>A</td>\n",
       "      <td>A</td>\n",
       "      <td>A</td>\n",
       "      <td>A</td>\n",
       "      <td>A</td>\n",
       "      <td>A</td>\n",
       "      <td>B</td>\n",
       "      <td>D</td>\n",
       "    </tr>\n",
       "    <tr>\n",
       "      <th>1</th>\n",
       "      <td>2c3acac4b33ec2b195d77e7c04a2d75727fad723</td>\n",
       "      <td>CE</td>\n",
       "      <td>17</td>\n",
       "      <td>F</td>\n",
       "      <td>0.0</td>\n",
       "      <td>3</td>\n",
       "      <td>CE</td>\n",
       "      <td>2</td>\n",
       "      <td>0</td>\n",
       "      <td>2</td>\n",
       "      <td>...</td>\n",
       "      <td>NaN</td>\n",
       "      <td>A</td>\n",
       "      <td>A</td>\n",
       "      <td>C</td>\n",
       "      <td>A</td>\n",
       "      <td>B</td>\n",
       "      <td>A</td>\n",
       "      <td>A</td>\n",
       "      <td>C</td>\n",
       "      <td>A</td>\n",
       "    </tr>\n",
       "    <tr>\n",
       "      <th>5</th>\n",
       "      <td>a37c99ec251d4f6e8ddbeabadf1c87fdbfddc4d1</td>\n",
       "      <td>BA</td>\n",
       "      <td>18</td>\n",
       "      <td>F</td>\n",
       "      <td>0.0</td>\n",
       "      <td>1</td>\n",
       "      <td>BA</td>\n",
       "      <td>1</td>\n",
       "      <td>1</td>\n",
       "      <td>1</td>\n",
       "      <td>...</td>\n",
       "      <td>NaN</td>\n",
       "      <td>A</td>\n",
       "      <td>A</td>\n",
       "      <td>A</td>\n",
       "      <td>A</td>\n",
       "      <td>A</td>\n",
       "      <td>A</td>\n",
       "      <td>A</td>\n",
       "      <td>A</td>\n",
       "      <td>A</td>\n",
       "    </tr>\n",
       "    <tr>\n",
       "      <th>6</th>\n",
       "      <td>63b4e128e9ffe8ab27f5d093db1976ef4f353e0a</td>\n",
       "      <td>MT</td>\n",
       "      <td>18</td>\n",
       "      <td>F</td>\n",
       "      <td>0.0</td>\n",
       "      <td>3</td>\n",
       "      <td>SE</td>\n",
       "      <td>2</td>\n",
       "      <td>0</td>\n",
       "      <td>2</td>\n",
       "      <td>...</td>\n",
       "      <td>0.0</td>\n",
       "      <td>A</td>\n",
       "      <td>A</td>\n",
       "      <td>A</td>\n",
       "      <td>B</td>\n",
       "      <td>B</td>\n",
       "      <td>A</td>\n",
       "      <td>A</td>\n",
       "      <td>A</td>\n",
       "      <td>A</td>\n",
       "    </tr>\n",
       "    <tr>\n",
       "      <th>7</th>\n",
       "      <td>2eb189d4912f64b19d1967e8e84b6141aba18770</td>\n",
       "      <td>RS</td>\n",
       "      <td>18</td>\n",
       "      <td>F</td>\n",
       "      <td>0.0</td>\n",
       "      <td>1</td>\n",
       "      <td>SP</td>\n",
       "      <td>1</td>\n",
       "      <td>1</td>\n",
       "      <td>1</td>\n",
       "      <td>...</td>\n",
       "      <td>NaN</td>\n",
       "      <td>C</td>\n",
       "      <td>A</td>\n",
       "      <td>A</td>\n",
       "      <td>A</td>\n",
       "      <td>A</td>\n",
       "      <td>D</td>\n",
       "      <td>A</td>\n",
       "      <td>A</td>\n",
       "      <td>A</td>\n",
       "    </tr>\n",
       "  </tbody>\n",
       "</table>\n",
       "<p>5 rows × 131 columns</p>\n",
       "</div>"
      ],
      "text/plain": [
       "                               NU_INSCRICAO SG_UF_RESIDENCIA  NU_IDADE  \\\n",
       "0  ed50e8aaa58e7a806c337585efee9ca41f1eb1ad               RS        24   \n",
       "1  2c3acac4b33ec2b195d77e7c04a2d75727fad723               CE        17   \n",
       "5  a37c99ec251d4f6e8ddbeabadf1c87fdbfddc4d1               BA        18   \n",
       "6  63b4e128e9ffe8ab27f5d093db1976ef4f353e0a               MT        18   \n",
       "7  2eb189d4912f64b19d1967e8e84b6141aba18770               RS        18   \n",
       "\n",
       "  TP_SEXO  TP_ESTADO_CIVIL  TP_COR_RACA SG_UF_NASCIMENTO  TP_ST_CONCLUSAO  \\\n",
       "0       M              0.0            1               RS                1   \n",
       "1       F              0.0            3               CE                2   \n",
       "5       F              0.0            1               BA                1   \n",
       "6       F              0.0            3               SE                2   \n",
       "7       F              0.0            1               SP                1   \n",
       "\n",
       "   TP_ANO_CONCLUIU  TP_ESCOLA  ...   Q041  Q042  Q043  Q044  Q045  Q046  Q047  \\\n",
       "0                4          1  ...    5.0     A     A     A     A     A     A   \n",
       "1                0          2  ...    NaN     A     A     C     A     B     A   \n",
       "5                1          1  ...    NaN     A     A     A     A     A     A   \n",
       "6                0          2  ...    0.0     A     A     A     B     B     A   \n",
       "7                1          1  ...    NaN     C     A     A     A     A     D   \n",
       "\n",
       "   Q048  Q049  Q050  \n",
       "0     A     B     D  \n",
       "1     A     C     A  \n",
       "5     A     A     A  \n",
       "6     A     A     A  \n",
       "7     A     A     A  \n",
       "\n",
       "[5 rows x 131 columns]"
      ]
     },
     "execution_count": 23,
     "metadata": {},
     "output_type": "execute_result"
    }
   ],
   "source": [
    "columns = [\"TX_RESPOSTAS_CN\", \"TX_RESPOSTAS_CH\", \"TX_RESPOSTAS_LC\", \"TX_RESPOSTAS_MT\", \"TP_LINGUA\",\n",
    "           \"TX_GABARITO_CN\", \"TX_GABARITO_CH\", \"TX_GABARITO_LC\", \"TX_GABARITO_MT\"]\n",
    "df = df.drop(columns, axis=1)\n",
    "df.head()"
   ]
  },
  {
   "cell_type": "code",
   "execution_count": 24,
   "metadata": {},
   "outputs": [
    {
     "data": {
      "text/html": [
       "<div>\n",
       "<style scoped>\n",
       "    .dataframe tbody tr th:only-of-type {\n",
       "        vertical-align: middle;\n",
       "    }\n",
       "\n",
       "    .dataframe tbody tr th {\n",
       "        vertical-align: top;\n",
       "    }\n",
       "\n",
       "    .dataframe thead th {\n",
       "        text-align: right;\n",
       "    }\n",
       "</style>\n",
       "<table border=\"1\" class=\"dataframe\">\n",
       "  <thead>\n",
       "    <tr style=\"text-align: right;\">\n",
       "      <th></th>\n",
       "      <th>NU_INSCRICAO</th>\n",
       "      <th>SG_UF_RESIDENCIA</th>\n",
       "      <th>NU_IDADE</th>\n",
       "      <th>TP_SEXO</th>\n",
       "      <th>TP_ESTADO_CIVIL</th>\n",
       "      <th>TP_COR_RACA</th>\n",
       "      <th>SG_UF_NASCIMENTO</th>\n",
       "      <th>TP_ST_CONCLUSAO</th>\n",
       "      <th>TP_ANO_CONCLUIU</th>\n",
       "      <th>TP_ESCOLA</th>\n",
       "      <th>...</th>\n",
       "      <th>Q041</th>\n",
       "      <th>Q042</th>\n",
       "      <th>Q043</th>\n",
       "      <th>Q044</th>\n",
       "      <th>Q045</th>\n",
       "      <th>Q046</th>\n",
       "      <th>Q047</th>\n",
       "      <th>Q048</th>\n",
       "      <th>Q049</th>\n",
       "      <th>Q050</th>\n",
       "    </tr>\n",
       "  </thead>\n",
       "  <tbody>\n",
       "    <tr>\n",
       "      <th>0</th>\n",
       "      <td>ed50e8aaa58e7a806c337585efee9ca41f1eb1ad</td>\n",
       "      <td>RS</td>\n",
       "      <td>24</td>\n",
       "      <td>M</td>\n",
       "      <td>0.0</td>\n",
       "      <td>1</td>\n",
       "      <td>RS</td>\n",
       "      <td>1</td>\n",
       "      <td>4</td>\n",
       "      <td>1</td>\n",
       "      <td>...</td>\n",
       "      <td>5.0</td>\n",
       "      <td>A</td>\n",
       "      <td>A</td>\n",
       "      <td>A</td>\n",
       "      <td>A</td>\n",
       "      <td>A</td>\n",
       "      <td>A</td>\n",
       "      <td>A</td>\n",
       "      <td>B</td>\n",
       "      <td>D</td>\n",
       "    </tr>\n",
       "    <tr>\n",
       "      <th>1</th>\n",
       "      <td>2c3acac4b33ec2b195d77e7c04a2d75727fad723</td>\n",
       "      <td>CE</td>\n",
       "      <td>17</td>\n",
       "      <td>F</td>\n",
       "      <td>0.0</td>\n",
       "      <td>3</td>\n",
       "      <td>CE</td>\n",
       "      <td>2</td>\n",
       "      <td>0</td>\n",
       "      <td>2</td>\n",
       "      <td>...</td>\n",
       "      <td>NaN</td>\n",
       "      <td>A</td>\n",
       "      <td>A</td>\n",
       "      <td>C</td>\n",
       "      <td>A</td>\n",
       "      <td>B</td>\n",
       "      <td>A</td>\n",
       "      <td>A</td>\n",
       "      <td>C</td>\n",
       "      <td>A</td>\n",
       "    </tr>\n",
       "    <tr>\n",
       "      <th>5</th>\n",
       "      <td>a37c99ec251d4f6e8ddbeabadf1c87fdbfddc4d1</td>\n",
       "      <td>BA</td>\n",
       "      <td>18</td>\n",
       "      <td>F</td>\n",
       "      <td>0.0</td>\n",
       "      <td>1</td>\n",
       "      <td>BA</td>\n",
       "      <td>1</td>\n",
       "      <td>1</td>\n",
       "      <td>1</td>\n",
       "      <td>...</td>\n",
       "      <td>NaN</td>\n",
       "      <td>A</td>\n",
       "      <td>A</td>\n",
       "      <td>A</td>\n",
       "      <td>A</td>\n",
       "      <td>A</td>\n",
       "      <td>A</td>\n",
       "      <td>A</td>\n",
       "      <td>A</td>\n",
       "      <td>A</td>\n",
       "    </tr>\n",
       "    <tr>\n",
       "      <th>6</th>\n",
       "      <td>63b4e128e9ffe8ab27f5d093db1976ef4f353e0a</td>\n",
       "      <td>MT</td>\n",
       "      <td>18</td>\n",
       "      <td>F</td>\n",
       "      <td>0.0</td>\n",
       "      <td>3</td>\n",
       "      <td>SE</td>\n",
       "      <td>2</td>\n",
       "      <td>0</td>\n",
       "      <td>2</td>\n",
       "      <td>...</td>\n",
       "      <td>0.0</td>\n",
       "      <td>A</td>\n",
       "      <td>A</td>\n",
       "      <td>A</td>\n",
       "      <td>B</td>\n",
       "      <td>B</td>\n",
       "      <td>A</td>\n",
       "      <td>A</td>\n",
       "      <td>A</td>\n",
       "      <td>A</td>\n",
       "    </tr>\n",
       "    <tr>\n",
       "      <th>7</th>\n",
       "      <td>2eb189d4912f64b19d1967e8e84b6141aba18770</td>\n",
       "      <td>RS</td>\n",
       "      <td>18</td>\n",
       "      <td>F</td>\n",
       "      <td>0.0</td>\n",
       "      <td>1</td>\n",
       "      <td>SP</td>\n",
       "      <td>1</td>\n",
       "      <td>1</td>\n",
       "      <td>1</td>\n",
       "      <td>...</td>\n",
       "      <td>NaN</td>\n",
       "      <td>C</td>\n",
       "      <td>A</td>\n",
       "      <td>A</td>\n",
       "      <td>A</td>\n",
       "      <td>A</td>\n",
       "      <td>D</td>\n",
       "      <td>A</td>\n",
       "      <td>A</td>\n",
       "      <td>A</td>\n",
       "    </tr>\n",
       "  </tbody>\n",
       "</table>\n",
       "<p>5 rows × 125 columns</p>\n",
       "</div>"
      ],
      "text/plain": [
       "                               NU_INSCRICAO SG_UF_RESIDENCIA  NU_IDADE  \\\n",
       "0  ed50e8aaa58e7a806c337585efee9ca41f1eb1ad               RS        24   \n",
       "1  2c3acac4b33ec2b195d77e7c04a2d75727fad723               CE        17   \n",
       "5  a37c99ec251d4f6e8ddbeabadf1c87fdbfddc4d1               BA        18   \n",
       "6  63b4e128e9ffe8ab27f5d093db1976ef4f353e0a               MT        18   \n",
       "7  2eb189d4912f64b19d1967e8e84b6141aba18770               RS        18   \n",
       "\n",
       "  TP_SEXO  TP_ESTADO_CIVIL  TP_COR_RACA SG_UF_NASCIMENTO  TP_ST_CONCLUSAO  \\\n",
       "0       M              0.0            1               RS                1   \n",
       "1       F              0.0            3               CE                2   \n",
       "5       F              0.0            1               BA                1   \n",
       "6       F              0.0            3               SE                2   \n",
       "7       F              0.0            1               SP                1   \n",
       "\n",
       "   TP_ANO_CONCLUIU  TP_ESCOLA  ...   Q041  Q042  Q043  Q044  Q045  Q046  Q047  \\\n",
       "0                4          1  ...    5.0     A     A     A     A     A     A   \n",
       "1                0          2  ...    NaN     A     A     C     A     B     A   \n",
       "5                1          1  ...    NaN     A     A     A     A     A     A   \n",
       "6                0          2  ...    0.0     A     A     A     B     B     A   \n",
       "7                1          1  ...    NaN     C     A     A     A     A     D   \n",
       "\n",
       "   Q048  Q049  Q050  \n",
       "0     A     B     D  \n",
       "1     A     C     A  \n",
       "5     A     A     A  \n",
       "6     A     A     A  \n",
       "7     A     A     A  \n",
       "\n",
       "[5 rows x 125 columns]"
      ]
     },
     "execution_count": 24,
     "metadata": {},
     "output_type": "execute_result"
    }
   ],
   "source": [
    "columns = [\"TP_STATUS_REDACAO\", \"NU_NOTA_COMP1\", \"NU_NOTA_COMP2\", \"NU_NOTA_COMP3\", \"NU_NOTA_COMP4\", \"NU_NOTA_COMP5\"]\n",
    "df = df.drop(columns, axis=1)\n",
    "df.head()"
   ]
  },
  {
   "cell_type": "code",
   "execution_count": 25,
   "metadata": {},
   "outputs": [
    {
     "data": {
      "image/png": "[encoded data removed]",
      "text/plain": [
       "<Figure size 432x288 with 1 Axes>"
      ]
     },
     "metadata": {
      "needs_background": "light"
     },
     "output_type": "display_data"
    }
   ],
   "source": [
    "plt.scatter(df['NU_IDADE'], df['NU_NOTA_MT'] ,color = 'blue', label = 'Number of students')\n",
    "plt.xlabel(\"Idade\")\n",
    "plt.ylabel(\"Nota Matemática\")\n",
    "plt.title(\"Idade X Nota Matemática\")\n",
    "plt.legend(loc='best')\n",
    "plt.show()"
   ]
  },
  {
   "cell_type": "code",
   "execution_count": 26,
   "metadata": {},
   "outputs": [
    {
     "data": {
      "image/png": "[encoded data removed]",
      "text/plain": [
       "<Figure size 432x288 with 1 Axes>"
      ]
     },
     "metadata": {
      "needs_background": "light"
     },
     "output_type": "display_data"
    }
   ],
   "source": [
    "#Removendo os outliers\n",
    "lista = df[(df.NU_NOTA_MT==0)].index\n",
    "lista\n",
    "df = df.drop(lista, axis=0)\n",
    "plt.scatter(df['NU_IDADE'], df['NU_NOTA_MT'] ,color = 'blue', label = 'Number of students')\n",
    "plt.xlabel(\"Idade\")\n",
    "plt.ylabel(\"Nota Matemática\")\n",
    "plt.title(\"Idade X Nota Matemática\")\n",
    "plt.legend(loc='best')\n",
    "plt.show()"
   ]
  },
  {
   "cell_type": "code",
   "execution_count": 27,
   "metadata": {},
   "outputs": [
    {
     "data": {
      "image/png": "[encoded data removed]",
      "text/plain": [
       "<Figure size 432x288 with 1 Axes>"
      ]
     },
     "metadata": {
      "needs_background": "light"
     },
     "output_type": "display_data"
    }
   ],
   "source": [
    "plt.scatter(df['SG_UF_PROVA'], df['NU_NOTA_MT'] ,color = 'blue', label = 'Number of students')\n",
    "plt.xlabel(\"UF_Prova\")\n",
    "plt.ylabel(\"Nota Matemática\")\n",
    "plt.title(\"UF_Prova X Nota Matemática\")\n",
    "plt.legend(loc='best')\n",
    "plt.show()"
   ]
  },
  {
   "cell_type": "code",
   "execution_count": 28,
   "metadata": {},
   "outputs": [
    {
     "name": "stdout",
     "output_type": "stream",
     "text": [
      "Quantidade de alunos que não tem UF de nascimento: 0\n",
      "Quantidade de alunos que não tem UF de nascimento: 0\n"
     ]
    },
    {
     "data": {
      "image/png": "[encoded data removed]",
      "text/plain": [
       "<Figure size 432x288 with 1 Axes>"
      ]
     },
     "metadata": {
      "needs_background": "light"
     },
     "output_type": "display_data"
    }
   ],
   "source": [
    "print(\"Quantidade de alunos que não tem UF de nascimento:\", df.SG_UF_NASCIMENTO.isnull().sum())\n",
    "df.SG_UF_NASCIMENTO.fillna(\"XX\", inplace=True)\n",
    "print(\"Quantidade de alunos que não tem UF de nascimento:\", df.SG_UF_NASCIMENTO.isnull().sum())\n",
    "plt.scatter(df['SG_UF_NASCIMENTO'], df['NU_NOTA_MT'] ,color = 'blue', label = 'Number of students')\n",
    "plt.xlabel(\"UF_Nascimento\")\n",
    "plt.ylabel(\"Nota Matemática\")\n",
    "plt.title(\"UF_Nascimento X Nota Matemática\")\n",
    "plt.legend(loc='best')\n",
    "plt.show()"
   ]
  },
  {
   "cell_type": "code",
   "execution_count": 29,
   "metadata": {},
   "outputs": [
    {
     "data": {
      "text/html": [
       "<div>\n",
       "<style scoped>\n",
       "    .dataframe tbody tr th:only-of-type {\n",
       "        vertical-align: middle;\n",
       "    }\n",
       "\n",
       "    .dataframe tbody tr th {\n",
       "        vertical-align: top;\n",
       "    }\n",
       "\n",
       "    .dataframe thead th {\n",
       "        text-align: right;\n",
       "    }\n",
       "</style>\n",
       "<table border=\"1\" class=\"dataframe\">\n",
       "  <thead>\n",
       "    <tr style=\"text-align: right;\">\n",
       "      <th></th>\n",
       "      <th>NU_INSCRICAO</th>\n",
       "      <th>NU_IDADE</th>\n",
       "      <th>TP_SEXO</th>\n",
       "      <th>TP_ESTADO_CIVIL</th>\n",
       "      <th>TP_COR_RACA</th>\n",
       "      <th>TP_ST_CONCLUSAO</th>\n",
       "      <th>TP_ANO_CONCLUIU</th>\n",
       "      <th>TP_ESCOLA</th>\n",
       "      <th>IN_TREINEIRO</th>\n",
       "      <th>IN_BAIXA_VISAO</th>\n",
       "      <th>...</th>\n",
       "      <th>Q041</th>\n",
       "      <th>Q042</th>\n",
       "      <th>Q043</th>\n",
       "      <th>Q044</th>\n",
       "      <th>Q045</th>\n",
       "      <th>Q046</th>\n",
       "      <th>Q047</th>\n",
       "      <th>Q048</th>\n",
       "      <th>Q049</th>\n",
       "      <th>Q050</th>\n",
       "    </tr>\n",
       "  </thead>\n",
       "  <tbody>\n",
       "    <tr>\n",
       "      <th>0</th>\n",
       "      <td>ed50e8aaa58e7a806c337585efee9ca41f1eb1ad</td>\n",
       "      <td>24</td>\n",
       "      <td>M</td>\n",
       "      <td>0.0</td>\n",
       "      <td>1</td>\n",
       "      <td>1</td>\n",
       "      <td>4</td>\n",
       "      <td>1</td>\n",
       "      <td>0</td>\n",
       "      <td>0</td>\n",
       "      <td>...</td>\n",
       "      <td>5.0</td>\n",
       "      <td>A</td>\n",
       "      <td>A</td>\n",
       "      <td>A</td>\n",
       "      <td>A</td>\n",
       "      <td>A</td>\n",
       "      <td>A</td>\n",
       "      <td>A</td>\n",
       "      <td>B</td>\n",
       "      <td>D</td>\n",
       "    </tr>\n",
       "    <tr>\n",
       "      <th>1</th>\n",
       "      <td>2c3acac4b33ec2b195d77e7c04a2d75727fad723</td>\n",
       "      <td>17</td>\n",
       "      <td>F</td>\n",
       "      <td>0.0</td>\n",
       "      <td>3</td>\n",
       "      <td>2</td>\n",
       "      <td>0</td>\n",
       "      <td>2</td>\n",
       "      <td>0</td>\n",
       "      <td>0</td>\n",
       "      <td>...</td>\n",
       "      <td>NaN</td>\n",
       "      <td>A</td>\n",
       "      <td>A</td>\n",
       "      <td>C</td>\n",
       "      <td>A</td>\n",
       "      <td>B</td>\n",
       "      <td>A</td>\n",
       "      <td>A</td>\n",
       "      <td>C</td>\n",
       "      <td>A</td>\n",
       "    </tr>\n",
       "    <tr>\n",
       "      <th>5</th>\n",
       "      <td>a37c99ec251d4f6e8ddbeabadf1c87fdbfddc4d1</td>\n",
       "      <td>18</td>\n",
       "      <td>F</td>\n",
       "      <td>0.0</td>\n",
       "      <td>1</td>\n",
       "      <td>1</td>\n",
       "      <td>1</td>\n",
       "      <td>1</td>\n",
       "      <td>0</td>\n",
       "      <td>0</td>\n",
       "      <td>...</td>\n",
       "      <td>NaN</td>\n",
       "      <td>A</td>\n",
       "      <td>A</td>\n",
       "      <td>A</td>\n",
       "      <td>A</td>\n",
       "      <td>A</td>\n",
       "      <td>A</td>\n",
       "      <td>A</td>\n",
       "      <td>A</td>\n",
       "      <td>A</td>\n",
       "    </tr>\n",
       "    <tr>\n",
       "      <th>6</th>\n",
       "      <td>63b4e128e9ffe8ab27f5d093db1976ef4f353e0a</td>\n",
       "      <td>18</td>\n",
       "      <td>F</td>\n",
       "      <td>0.0</td>\n",
       "      <td>3</td>\n",
       "      <td>2</td>\n",
       "      <td>0</td>\n",
       "      <td>2</td>\n",
       "      <td>0</td>\n",
       "      <td>0</td>\n",
       "      <td>...</td>\n",
       "      <td>0.0</td>\n",
       "      <td>A</td>\n",
       "      <td>A</td>\n",
       "      <td>A</td>\n",
       "      <td>B</td>\n",
       "      <td>B</td>\n",
       "      <td>A</td>\n",
       "      <td>A</td>\n",
       "      <td>A</td>\n",
       "      <td>A</td>\n",
       "    </tr>\n",
       "    <tr>\n",
       "      <th>7</th>\n",
       "      <td>2eb189d4912f64b19d1967e8e84b6141aba18770</td>\n",
       "      <td>18</td>\n",
       "      <td>F</td>\n",
       "      <td>0.0</td>\n",
       "      <td>1</td>\n",
       "      <td>1</td>\n",
       "      <td>1</td>\n",
       "      <td>1</td>\n",
       "      <td>0</td>\n",
       "      <td>0</td>\n",
       "      <td>...</td>\n",
       "      <td>NaN</td>\n",
       "      <td>C</td>\n",
       "      <td>A</td>\n",
       "      <td>A</td>\n",
       "      <td>A</td>\n",
       "      <td>A</td>\n",
       "      <td>D</td>\n",
       "      <td>A</td>\n",
       "      <td>A</td>\n",
       "      <td>A</td>\n",
       "    </tr>\n",
       "  </tbody>\n",
       "</table>\n",
       "<p>5 rows × 123 columns</p>\n",
       "</div>"
      ],
      "text/plain": [
       "                               NU_INSCRICAO  NU_IDADE TP_SEXO  \\\n",
       "0  ed50e8aaa58e7a806c337585efee9ca41f1eb1ad        24       M   \n",
       "1  2c3acac4b33ec2b195d77e7c04a2d75727fad723        17       F   \n",
       "5  a37c99ec251d4f6e8ddbeabadf1c87fdbfddc4d1        18       F   \n",
       "6  63b4e128e9ffe8ab27f5d093db1976ef4f353e0a        18       F   \n",
       "7  2eb189d4912f64b19d1967e8e84b6141aba18770        18       F   \n",
       "\n",
       "   TP_ESTADO_CIVIL  TP_COR_RACA  TP_ST_CONCLUSAO  TP_ANO_CONCLUIU  TP_ESCOLA  \\\n",
       "0              0.0            1                1                4          1   \n",
       "1              0.0            3                2                0          2   \n",
       "5              0.0            1                1                1          1   \n",
       "6              0.0            3                2                0          2   \n",
       "7              0.0            1                1                1          1   \n",
       "\n",
       "   IN_TREINEIRO  IN_BAIXA_VISAO  ...   Q041  Q042  Q043  Q044  Q045  Q046  \\\n",
       "0             0               0  ...    5.0     A     A     A     A     A   \n",
       "1             0               0  ...    NaN     A     A     C     A     B   \n",
       "5             0               0  ...    NaN     A     A     A     A     A   \n",
       "6             0               0  ...    0.0     A     A     A     B     B   \n",
       "7             0               0  ...    NaN     C     A     A     A     A   \n",
       "\n",
       "   Q047  Q048  Q049  Q050  \n",
       "0     A     A     B     D  \n",
       "1     A     A     C     A  \n",
       "5     A     A     A     A  \n",
       "6     A     A     A     A  \n",
       "7     D     A     A     A  \n",
       "\n",
       "[5 rows x 123 columns]"
      ]
     },
     "execution_count": 29,
     "metadata": {},
     "output_type": "execute_result"
    }
   ],
   "source": [
    "columns = [\"SG_UF_RESIDENCIA\", \"SG_UF_NASCIMENTO\"]\n",
    "df = df.drop(columns, axis=1)\n",
    "df.head()"
   ]
  },
  {
   "cell_type": "code",
   "execution_count": 30,
   "metadata": {},
   "outputs": [
    {
     "data": {
      "image/png": "[encoded data removed]",
      "text/plain": [
       "<Figure size 432x288 with 1 Axes>"
      ]
     },
     "metadata": {
      "needs_background": "light"
     },
     "output_type": "display_data"
    }
   ],
   "source": [
    "plt.hist(df['NU_NOTA_MT'][df['TP_SEXO'] == 'M'],color = 'blue', label = 'Masculino', alpha=0.5)\n",
    "plt.hist(df['NU_NOTA_MT'][df['TP_SEXO'] == 'F'], color = 'red', label = 'Feminino', alpha=0.2)\n",
    "plt.xlabel(\"Quantidade\")\n",
    "plt.ylabel(\"Nota Matemática\")\n",
    "plt.title(\"Sexo\")\n",
    "plt.legend(loc='best')\n",
    "plt.show()"
   ]
  },
  {
   "cell_type": "code",
   "execution_count": 31,
   "metadata": {},
   "outputs": [
    {
     "name": "stdout",
     "output_type": "stream",
     "text": [
      "float64\n",
      "Quantidade de alunos que não tem estado civil: 302\n",
      "Quantidade de alunos que não tem estado civil: 0\n",
      "int32\n"
     ]
    },
    {
     "data": {
      "image/png": "[encoded data removed]",
      "text/plain": [
       "<Figure size 432x288 with 1 Axes>"
      ]
     },
     "metadata": {
      "needs_background": "light"
     },
     "output_type": "display_data"
    }
   ],
   "source": [
    "print(df.TP_ESTADO_CIVIL.dtype)\n",
    "print(\"Quantidade de alunos que não tem estado civil:\", df.TP_ESTADO_CIVIL.isnull().sum())\n",
    "df.TP_ESTADO_CIVIL.fillna(\"4\", inplace=True)\n",
    "print(\"Quantidade de alunos que não tem estado civil:\", df.TP_ESTADO_CIVIL.isnull().sum())\n",
    "df.TP_ESTADO_CIVIL = df.TP_ESTADO_CIVIL.astype(int)\n",
    "print(df.TP_ESTADO_CIVIL.dtype)\n",
    "plt.hist(df['NU_NOTA_MT'][df['TP_ESTADO_CIVIL'] == 0],color = 'blue', label = 'Solteiro', alpha=0.5)\n",
    "plt.hist(df['NU_NOTA_MT'][df['TP_ESTADO_CIVIL'] == 1],color = 'red', label = 'Casado', alpha=0.2)\n",
    "plt.hist(df['NU_NOTA_MT'][df['TP_ESTADO_CIVIL'] == 2],color = 'green', label = 'Divorciado', alpha=1)\n",
    "plt.hist(df['NU_NOTA_MT'][df['TP_ESTADO_CIVIL'] == 3],color = 'blue', label = 'Viúvo', alpha=1)\n",
    "plt.xlabel(\"Nota Matemática\")\n",
    "plt.ylabel(\"Quantidade\")\n",
    "plt.title(\"Estado Civil\")\n",
    "plt.legend(loc='best')\n",
    "plt.show()"
   ]
  },
  {
   "cell_type": "markdown",
   "metadata": {},
   "source": [
    "Podemos notar, verificando os gráficos de Idade e Estado Civil, que a maioria das notas de matemática foram entre 300 e 600 pontos.<br>\n",
    "Mas em ambos os casos não foi verificada nenhuma discrepância entre as categorias."
   ]
  },
  {
   "cell_type": "code",
   "execution_count": 32,
   "metadata": {},
   "outputs": [
    {
     "data": {
      "text/html": [
       "<div>\n",
       "<style scoped>\n",
       "    .dataframe tbody tr th:only-of-type {\n",
       "        vertical-align: middle;\n",
       "    }\n",
       "\n",
       "    .dataframe tbody tr th {\n",
       "        vertical-align: top;\n",
       "    }\n",
       "\n",
       "    .dataframe thead th {\n",
       "        text-align: right;\n",
       "    }\n",
       "</style>\n",
       "<table border=\"1\" class=\"dataframe\">\n",
       "  <thead>\n",
       "    <tr style=\"text-align: right;\">\n",
       "      <th></th>\n",
       "      <th>NU_INSCRICAO</th>\n",
       "      <th>NU_IDADE</th>\n",
       "      <th>TP_SEXO</th>\n",
       "      <th>TP_COR_RACA</th>\n",
       "      <th>TP_ST_CONCLUSAO</th>\n",
       "      <th>TP_ANO_CONCLUIU</th>\n",
       "      <th>TP_ESCOLA</th>\n",
       "      <th>IN_TREINEIRO</th>\n",
       "      <th>IN_BAIXA_VISAO</th>\n",
       "      <th>IN_CEGUEIRA</th>\n",
       "      <th>...</th>\n",
       "      <th>Q041</th>\n",
       "      <th>Q042</th>\n",
       "      <th>Q043</th>\n",
       "      <th>Q044</th>\n",
       "      <th>Q045</th>\n",
       "      <th>Q046</th>\n",
       "      <th>Q047</th>\n",
       "      <th>Q048</th>\n",
       "      <th>Q049</th>\n",
       "      <th>Q050</th>\n",
       "    </tr>\n",
       "  </thead>\n",
       "  <tbody>\n",
       "    <tr>\n",
       "      <th>0</th>\n",
       "      <td>ed50e8aaa58e7a806c337585efee9ca41f1eb1ad</td>\n",
       "      <td>24</td>\n",
       "      <td>M</td>\n",
       "      <td>1</td>\n",
       "      <td>1</td>\n",
       "      <td>4</td>\n",
       "      <td>1</td>\n",
       "      <td>0</td>\n",
       "      <td>0</td>\n",
       "      <td>0</td>\n",
       "      <td>...</td>\n",
       "      <td>5.0</td>\n",
       "      <td>A</td>\n",
       "      <td>A</td>\n",
       "      <td>A</td>\n",
       "      <td>A</td>\n",
       "      <td>A</td>\n",
       "      <td>A</td>\n",
       "      <td>A</td>\n",
       "      <td>B</td>\n",
       "      <td>D</td>\n",
       "    </tr>\n",
       "    <tr>\n",
       "      <th>1</th>\n",
       "      <td>2c3acac4b33ec2b195d77e7c04a2d75727fad723</td>\n",
       "      <td>17</td>\n",
       "      <td>F</td>\n",
       "      <td>3</td>\n",
       "      <td>2</td>\n",
       "      <td>0</td>\n",
       "      <td>2</td>\n",
       "      <td>0</td>\n",
       "      <td>0</td>\n",
       "      <td>0</td>\n",
       "      <td>...</td>\n",
       "      <td>NaN</td>\n",
       "      <td>A</td>\n",
       "      <td>A</td>\n",
       "      <td>C</td>\n",
       "      <td>A</td>\n",
       "      <td>B</td>\n",
       "      <td>A</td>\n",
       "      <td>A</td>\n",
       "      <td>C</td>\n",
       "      <td>A</td>\n",
       "    </tr>\n",
       "    <tr>\n",
       "      <th>5</th>\n",
       "      <td>a37c99ec251d4f6e8ddbeabadf1c87fdbfddc4d1</td>\n",
       "      <td>18</td>\n",
       "      <td>F</td>\n",
       "      <td>1</td>\n",
       "      <td>1</td>\n",
       "      <td>1</td>\n",
       "      <td>1</td>\n",
       "      <td>0</td>\n",
       "      <td>0</td>\n",
       "      <td>0</td>\n",
       "      <td>...</td>\n",
       "      <td>NaN</td>\n",
       "      <td>A</td>\n",
       "      <td>A</td>\n",
       "      <td>A</td>\n",
       "      <td>A</td>\n",
       "      <td>A</td>\n",
       "      <td>A</td>\n",
       "      <td>A</td>\n",
       "      <td>A</td>\n",
       "      <td>A</td>\n",
       "    </tr>\n",
       "    <tr>\n",
       "      <th>6</th>\n",
       "      <td>63b4e128e9ffe8ab27f5d093db1976ef4f353e0a</td>\n",
       "      <td>18</td>\n",
       "      <td>F</td>\n",
       "      <td>3</td>\n",
       "      <td>2</td>\n",
       "      <td>0</td>\n",
       "      <td>2</td>\n",
       "      <td>0</td>\n",
       "      <td>0</td>\n",
       "      <td>0</td>\n",
       "      <td>...</td>\n",
       "      <td>0.0</td>\n",
       "      <td>A</td>\n",
       "      <td>A</td>\n",
       "      <td>A</td>\n",
       "      <td>B</td>\n",
       "      <td>B</td>\n",
       "      <td>A</td>\n",
       "      <td>A</td>\n",
       "      <td>A</td>\n",
       "      <td>A</td>\n",
       "    </tr>\n",
       "    <tr>\n",
       "      <th>7</th>\n",
       "      <td>2eb189d4912f64b19d1967e8e84b6141aba18770</td>\n",
       "      <td>18</td>\n",
       "      <td>F</td>\n",
       "      <td>1</td>\n",
       "      <td>1</td>\n",
       "      <td>1</td>\n",
       "      <td>1</td>\n",
       "      <td>0</td>\n",
       "      <td>0</td>\n",
       "      <td>0</td>\n",
       "      <td>...</td>\n",
       "      <td>NaN</td>\n",
       "      <td>C</td>\n",
       "      <td>A</td>\n",
       "      <td>A</td>\n",
       "      <td>A</td>\n",
       "      <td>A</td>\n",
       "      <td>D</td>\n",
       "      <td>A</td>\n",
       "      <td>A</td>\n",
       "      <td>A</td>\n",
       "    </tr>\n",
       "  </tbody>\n",
       "</table>\n",
       "<p>5 rows × 122 columns</p>\n",
       "</div>"
      ],
      "text/plain": [
       "                               NU_INSCRICAO  NU_IDADE TP_SEXO  TP_COR_RACA  \\\n",
       "0  ed50e8aaa58e7a806c337585efee9ca41f1eb1ad        24       M            1   \n",
       "1  2c3acac4b33ec2b195d77e7c04a2d75727fad723        17       F            3   \n",
       "5  a37c99ec251d4f6e8ddbeabadf1c87fdbfddc4d1        18       F            1   \n",
       "6  63b4e128e9ffe8ab27f5d093db1976ef4f353e0a        18       F            3   \n",
       "7  2eb189d4912f64b19d1967e8e84b6141aba18770        18       F            1   \n",
       "\n",
       "   TP_ST_CONCLUSAO  TP_ANO_CONCLUIU  TP_ESCOLA  IN_TREINEIRO  IN_BAIXA_VISAO  \\\n",
       "0                1                4          1             0               0   \n",
       "1                2                0          2             0               0   \n",
       "5                1                1          1             0               0   \n",
       "6                2                0          2             0               0   \n",
       "7                1                1          1             0               0   \n",
       "\n",
       "   IN_CEGUEIRA  ...   Q041  Q042  Q043  Q044  Q045  Q046  Q047  Q048  Q049  \\\n",
       "0            0  ...    5.0     A     A     A     A     A     A     A     B   \n",
       "1            0  ...    NaN     A     A     C     A     B     A     A     C   \n",
       "5            0  ...    NaN     A     A     A     A     A     A     A     A   \n",
       "6            0  ...    0.0     A     A     A     B     B     A     A     A   \n",
       "7            0  ...    NaN     C     A     A     A     A     D     A     A   \n",
       "\n",
       "   Q050  \n",
       "0     D  \n",
       "1     A  \n",
       "5     A  \n",
       "6     A  \n",
       "7     A  \n",
       "\n",
       "[5 rows x 122 columns]"
      ]
     },
     "execution_count": 32,
     "metadata": {},
     "output_type": "execute_result"
    }
   ],
   "source": [
    "df = df.drop('TP_ESTADO_CIVIL', axis=1)\n",
    "df.head()"
   ]
  },
  {
   "cell_type": "code",
   "execution_count": 33,
   "metadata": {},
   "outputs": [
    {
     "data": {
      "image/png": "[encoded data removed]",
      "text/plain": [
       "<Figure size 432x288 with 1 Axes>"
      ]
     },
     "metadata": {
      "needs_background": "light"
     },
     "output_type": "display_data"
    }
   ],
   "source": [
    "plt.hist(df['NU_NOTA_MT'][df['TP_COR_RACA'] == 1],color = 'blue', label = 'Branco', alpha=0.5)\n",
    "plt.hist(df['NU_NOTA_MT'][df['TP_COR_RACA'] == 2],color = 'red', label = 'Preto', alpha=1)\n",
    "plt.hist(df['NU_NOTA_MT'][df['TP_COR_RACA'] == 3],color = 'green', label = 'Pardo', alpha=0.3)\n",
    "plt.hist(df['NU_NOTA_MT'][df['TP_COR_RACA'] == 4],color = 'blue', label = 'Amarelo', alpha=1)\n",
    "plt.hist(df['NU_NOTA_MT'][df['TP_COR_RACA'] == 5],color = 'yellow', label = 'Indígena', alpha=1)\n",
    "plt.xlabel(\"Nota Matemática\")\n",
    "plt.ylabel(\"Quantidade\")\n",
    "plt.title(\"Raça\")\n",
    "plt.legend(loc='best')\n",
    "plt.show()"
   ]
  },
  {
   "cell_type": "code",
   "execution_count": 34,
   "metadata": {},
   "outputs": [
    {
     "data": {
      "image/png": "[encoded data removed]",
      "text/plain": [
       "<Figure size 432x288 with 1 Axes>"
      ]
     },
     "metadata": {
      "needs_background": "light"
     },
     "output_type": "display_data"
    }
   ],
   "source": [
    "plt.hist(df['NU_NOTA_MT'][df['TP_ST_CONCLUSAO'] == 1],color = 'blue', label = 'Concluído', alpha=0.5)\n",
    "plt.hist(df['NU_NOTA_MT'][df['TP_ST_CONCLUSAO'] == 2],color = 'red', label = 'Conclusão em 2016', alpha=1)\n",
    "plt.hist(df['NU_NOTA_MT'][df['TP_ST_CONCLUSAO'] == 3],color = 'green', label = 'Conclusão após 2016', alpha=0.5)\n",
    "plt.hist(df['NU_NOTA_MT'][df['TP_ST_CONCLUSAO'] == 4],color = 'blue', label = 'Não concluído', alpha=1)\n",
    "plt.xlabel(\"Nota Matemática\")\n",
    "plt.ylabel(\"Quantidade\")\n",
    "plt.title(\"Situação de conclusão\")\n",
    "plt.legend(loc='best')\n",
    "plt.show()"
   ]
  },
  {
   "cell_type": "code",
   "execution_count": 35,
   "metadata": {},
   "outputs": [],
   "source": [
    "df = df.drop('TP_ANO_CONCLUIU', axis=1)"
   ]
  },
  {
   "cell_type": "code",
   "execution_count": 36,
   "metadata": {},
   "outputs": [
    {
     "data": {
      "image/png": "[encoded data removed]",
      "text/plain": [
       "<Figure size 432x288 with 1 Axes>"
      ]
     },
     "metadata": {
      "needs_background": "light"
     },
     "output_type": "display_data"
    }
   ],
   "source": [
    "plt.hist(df['NU_NOTA_MT'][df['TP_ESCOLA'] == 1],color = 'blue', label = 'Não Respondeu', alpha=0.5)\n",
    "plt.hist(df['NU_NOTA_MT'][df['TP_ESCOLA'] == 2],color = 'red', label = 'Pública', alpha=1)\n",
    "plt.hist(df['NU_NOTA_MT'][df['TP_ESCOLA'] == 3],color = 'green', label = 'Privada', alpha=0.6)\n",
    "plt.hist(df['NU_NOTA_MT'][df['TP_ESCOLA'] == 4],color = 'blue', label = 'Exterior', alpha=1)\n",
    "plt.xlabel(\"Nota Matemática\")\n",
    "plt.ylabel(\"Quantidade\")\n",
    "plt.title(\"Tipo de Escola\")\n",
    "plt.legend(loc='best')\n",
    "plt.show()"
   ]
  },
  {
   "cell_type": "code",
   "execution_count": 37,
   "metadata": {},
   "outputs": [
    {
     "data": {
      "image/png": "[encoded data removed]",
      "text/plain": [
       "<Figure size 432x288 with 1 Axes>"
      ]
     },
     "metadata": {
      "needs_background": "light"
     },
     "output_type": "display_data"
    }
   ],
   "source": [
    "plt.hist(df['NU_NOTA_MT'][df['IN_TREINEIRO'] == 0],color = 'blue', label = 'Não', alpha=0.5)\n",
    "plt.hist(df['NU_NOTA_MT'][df['IN_TREINEIRO'] == 1],color = 'red', label = 'Sim', alpha=1)\n",
    "plt.xlabel(\"Nota Matemática\")\n",
    "plt.ylabel(\"Quantidade\")\n",
    "plt.title(\"Treineiro ou não\")\n",
    "plt.legend(loc='best')\n",
    "plt.show()"
   ]
  },
  {
   "cell_type": "markdown",
   "metadata": {},
   "source": [
    "#### Dados dos pedidos de atendimento especializado ####"
   ]
  },
  {
   "cell_type": "code",
   "execution_count": 38,
   "metadata": {},
   "outputs": [
    {
     "name": "stdout",
     "output_type": "stream",
     "text": [
      "Inscritos com baixa visão: 10\n",
      "Int64Index([1310, 3761, 4736, 6137, 7643, 7937, 9610, 11698, 12783, 13322], dtype='int64')\n"
     ]
    },
    {
     "data": {
      "image/png": "[encoded data removed]",
      "text/plain": [
       "<Figure size 432x288 with 1 Axes>"
      ]
     },
     "metadata": {
      "needs_background": "light"
     },
     "output_type": "display_data"
    }
   ],
   "source": [
    "print(\"Inscritos com baixa visão:\",df.IN_BAIXA_VISAO.sum())\n",
    "baixa_visao = df[(df.IN_BAIXA_VISAO == 1)].index\n",
    "print(baixa_visao)\n",
    "plt.hist(df['NU_NOTA_MT'][df['IN_BAIXA_VISAO'] == 1],color = 'blue', label = 'Baixa Visão')\n",
    "plt.xlabel(\"Nota Matemática\")\n",
    "plt.ylabel(\"Quantidade\")\n",
    "plt.title(\"Alunos com baixa visão\")\n",
    "plt.legend(loc='best')\n",
    "plt.show()"
   ]
  },
  {
   "cell_type": "code",
   "execution_count": 39,
   "metadata": {},
   "outputs": [],
   "source": [
    "df = df.drop(baixa_visao, axis=0)\n",
    "df = df.drop('IN_BAIXA_VISAO', axis=1)\n",
    "#Colunas sem informações relevantes\n",
    "df = df.drop('IN_CEGUEIRA', axis=1)\n",
    "df = df.drop('IN_SURDO_CEGUEIRA', axis=1)\n",
    "df = df.drop('IN_AUTISMO', axis=1)\n",
    "df = df.drop('IN_ESTUDA_CLASSE_HOSPITALAR', axis=1)\n",
    "df = df.drop('IN_BRAILLE', axis=1)\n",
    "df = df.drop('IN_GUIA_INTERPRETE', axis=1)\n",
    "df = df.drop('IN_MACA', axis=1)\n",
    "df = df.drop('IN_COMPUTADOR', axis=1)\n",
    "df = df.drop('IN_CADEIRA_ESPECIAL', axis=1)\n",
    "df = df.drop('IN_CADEIRA_CANHOTO', axis=1)\n",
    "df = df.drop('IN_CADEIRA_ACOLCHOADA', axis=1)\n",
    "df = df.drop('IN_PROVA_DEITADO', axis=1)\n",
    "df = df.drop('IN_MOBILIARIO_OBESO', axis=1)\n",
    "df = df.drop('IN_LAMINA_OVERLAY', axis=1)\n",
    "df = df.drop('IN_PROTETOR_AURICULAR', axis=1)\n",
    "df = df.drop('IN_MEDIDOR_GLICOSE', axis=1)\n",
    "df = df.drop('IN_MAQUINA_BRAILE', axis=1)\n",
    "df = df.drop('IN_SOROBAN', axis=1)\n",
    "df = df.drop('IN_MARCA_PASSO', axis=1)\n",
    "df = df.drop('IN_SONDA', axis=1)\n",
    "df = df.drop('IN_MEDICAMENTOS', axis=1)\n",
    "df = df.drop('IN_SALA_INDIVIDUAL', axis=1)\n",
    "df = df.drop('IN_SALA_ESPECIAL', axis=1)\n",
    "df = df.drop('IN_SALA_ACOMPANHANTE', axis=1)\n",
    "df = df.drop('IN_MOBILIARIO_ESPECIFICO', axis=1)\n",
    "df = df.drop('IN_MATERIAL_ESPECIFICO', axis=1)\n",
    "df = df.drop('IN_DISLEXIA', axis=1)\n",
    "df = df.drop('IN_DISCALCULIA', axis=1)\n",
    "df = df.drop('IN_AMPLIADA_24', axis=1)\n",
    "df = df.drop('IN_AMPLIADA_18', axis=1)\n",
    "df = df.drop('IN_TRANSCRICAO', axis=1)\n",
    "df = df.drop('IN_LIBRAS', axis=1)\n",
    "df = df.drop('IN_LEITURA_LABIAL', axis=1)\n",
    "df = df.drop('IN_MESA_CADEIRA_RODAS', axis=1)\n",
    "df = df.drop('IN_MESA_CADEIRA_SEPARADA', axis=1)\n",
    "df = df.drop('IN_APOIO_PERNA', axis=1)"
   ]
  },
  {
   "cell_type": "code",
   "execution_count": 40,
   "metadata": {},
   "outputs": [
    {
     "name": "stdout",
     "output_type": "stream",
     "text": [
      "Inscritos com surdez: 4\n",
      "Int64Index([372, 3439, 8459, 8869], dtype='int64')\n"
     ]
    },
    {
     "data": {
      "image/png": "[encoded data removed]",
      "text/plain": [
       "<Figure size 432x288 with 1 Axes>"
      ]
     },
     "metadata": {
      "needs_background": "light"
     },
     "output_type": "display_data"
    }
   ],
   "source": [
    "print(\"Inscritos com surdez:\",df.IN_SURDEZ.sum())\n",
    "surdez = df[(df.IN_SURDEZ == 1)].index\n",
    "print(surdez)\n",
    "plt.hist(df['NU_NOTA_MT'][df['IN_SURDEZ'] == 1],color = 'blue', label = 'Surdez')\n",
    "plt.xlabel(\"Nota Matemática\")\n",
    "plt.ylabel(\"Quantidade\")\n",
    "plt.title(\"Alunos com surdez\")\n",
    "plt.legend(loc='best')\n",
    "plt.show()"
   ]
  },
  {
   "cell_type": "code",
   "execution_count": 41,
   "metadata": {},
   "outputs": [],
   "source": [
    "df = df.drop(surdez, axis=0)\n",
    "df = df.drop('IN_SURDEZ', axis=1)"
   ]
  },
  {
   "cell_type": "code",
   "execution_count": 42,
   "metadata": {},
   "outputs": [
    {
     "name": "stdout",
     "output_type": "stream",
     "text": [
      "Inscritos com deficiencia auditiva: 7\n",
      "Int64Index([2014, 4119, 5778, 7552, 10185, 12345, 12370], dtype='int64')\n"
     ]
    },
    {
     "data": {
      "image/png": "[encoded data removed]",
      "text/plain": [
       "<Figure size 432x288 with 1 Axes>"
      ]
     },
     "metadata": {
      "needs_background": "light"
     },
     "output_type": "display_data"
    }
   ],
   "source": [
    "print(\"Inscritos com deficiencia auditiva:\",df.IN_DEFICIENCIA_AUDITIVA.sum())\n",
    "def_aud = df[(df.IN_DEFICIENCIA_AUDITIVA == 1)].index\n",
    "print(def_aud)\n",
    "plt.hist(df['NU_NOTA_MT'][df['IN_DEFICIENCIA_AUDITIVA'] == 1],color = 'blue', label = 'Deficiencia_Auditiva')\n",
    "plt.xlabel(\"Nota Matemática\")\n",
    "plt.ylabel(\"Quantidade\")\n",
    "plt.title(\"Alunos com Deficiencia Auditiva\")\n",
    "plt.legend(loc='best')\n",
    "plt.show()"
   ]
  },
  {
   "cell_type": "code",
   "execution_count": 43,
   "metadata": {},
   "outputs": [],
   "source": [
    "df = df.drop(def_aud, axis=0)\n",
    "df = df.drop('IN_DEFICIENCIA_AUDITIVA', axis=1)"
   ]
  },
  {
   "cell_type": "code",
   "execution_count": 44,
   "metadata": {},
   "outputs": [
    {
     "name": "stdout",
     "output_type": "stream",
     "text": [
      "Inscritos com deficiencia fisica: 17\n",
      "Int64Index([   94,  1296,  2086,  2270,  4383,  5055,  5532,  7277,  7637,\n",
      "             8040,  8087,  8624, 11344, 12658, 12807, 13224, 13705],\n",
      "           dtype='int64')\n"
     ]
    },
    {
     "data": {
      "image/png": "[encoded data removed]",
      "text/plain": [
       "<Figure size 432x288 with 1 Axes>"
      ]
     },
     "metadata": {
      "needs_background": "light"
     },
     "output_type": "display_data"
    }
   ],
   "source": [
    "print(\"Inscritos com deficiencia fisica:\",df.IN_DEFICIENCIA_FISICA.sum())\n",
    "def_fis = df[(df.IN_DEFICIENCIA_FISICA == 1)].index\n",
    "print(def_fis)\n",
    "plt.hist(df['NU_NOTA_MT'][df['IN_DEFICIENCIA_FISICA'] == 1],color = 'blue', label = 'Deficiencia Fisica')\n",
    "plt.xlabel(\"Nota Matemática\")\n",
    "plt.ylabel(\"Quantidade\")\n",
    "plt.title(\"Alunos com Deficiencia Fisica\")\n",
    "plt.legend(loc='best')\n",
    "plt.show()"
   ]
  },
  {
   "cell_type": "code",
   "execution_count": 45,
   "metadata": {},
   "outputs": [
    {
     "name": "stdout",
     "output_type": "stream",
     "text": [
      "Inscritos com deficiencia mental: 2\n",
      "Int64Index([4081, 10631], dtype='int64')\n"
     ]
    },
    {
     "data": {
      "image/png": "[encoded data removed]",
      "text/plain": [
       "<Figure size 432x288 with 1 Axes>"
      ]
     },
     "metadata": {
      "needs_background": "light"
     },
     "output_type": "display_data"
    }
   ],
   "source": [
    "print(\"Inscritos com deficiencia mental:\",df.IN_DEFICIENCIA_MENTAL.sum())\n",
    "def_men = df[(df.IN_DEFICIENCIA_MENTAL == 1)].index\n",
    "print(def_men)\n",
    "plt.hist(df['NU_NOTA_MT'][df['IN_DEFICIENCIA_MENTAL'] == 1],color = 'blue', label = 'Deficiencia Mental')\n",
    "plt.xlabel(\"Nota Matemática\")\n",
    "plt.ylabel(\"Quantidade\")\n",
    "plt.title(\"Alunos com Deficiencia Mental\")\n",
    "plt.legend(loc='best')\n",
    "plt.show()"
   ]
  },
  {
   "cell_type": "code",
   "execution_count": 46,
   "metadata": {},
   "outputs": [],
   "source": [
    "df = df.drop(def_men, axis=0)\n",
    "df = df.drop('IN_DEFICIENCIA_MENTAL', axis=1)"
   ]
  },
  {
   "cell_type": "code",
   "execution_count": 47,
   "metadata": {},
   "outputs": [
    {
     "name": "stdout",
     "output_type": "stream",
     "text": [
      "Inscritos com deficit de atenção: 11\n",
      "Int64Index([713, 1509, 2874, 4112, 4181, 4785, 5913, 10716, 10951, 12688,\n",
      "            13231],\n",
      "           dtype='int64')\n"
     ]
    },
    {
     "data": {
      "image/png": "[encoded data removed]",
      "text/plain": [
       "<Figure size 432x288 with 1 Axes>"
      ]
     },
     "metadata": {
      "needs_background": "light"
     },
     "output_type": "display_data"
    }
   ],
   "source": [
    "print(\"Inscritos com deficit de atenção:\",df.IN_DEFICIT_ATENCAO.sum())\n",
    "def_ate = df[(df.IN_DEFICIT_ATENCAO == 1)].index\n",
    "print(def_ate)\n",
    "plt.hist(df['NU_NOTA_MT'][df['IN_DEFICIT_ATENCAO'] == 1],color = 'blue', label = 'Deficit Atenção')\n",
    "plt.xlabel(\"Nota Matemática\")\n",
    "plt.ylabel(\"Quantidade\")\n",
    "plt.title(\"Alunos com Deficit de atenção\")\n",
    "plt.legend(loc='best')\n",
    "plt.show()"
   ]
  },
  {
   "cell_type": "code",
   "execution_count": 48,
   "metadata": {},
   "outputs": [],
   "source": [
    "df = df.drop(def_ate, axis=0)\n",
    "df = df.drop('IN_DEFICIT_ATENCAO', axis=1)"
   ]
  },
  {
   "cell_type": "code",
   "execution_count": 49,
   "metadata": {},
   "outputs": [
    {
     "name": "stdout",
     "output_type": "stream",
     "text": [
      "Inscritos com visao monocular: 5\n",
      "Int64Index([282, 2086, 4505, 5165, 7944], dtype='int64')\n"
     ]
    },
    {
     "data": {
      "image/png": "[encoded data removed]",
      "text/plain": [
       "<Figure size 432x288 with 1 Axes>"
      ]
     },
     "metadata": {
      "needs_background": "light"
     },
     "output_type": "display_data"
    }
   ],
   "source": [
    "print(\"Inscritos com visao monocular:\",df.IN_VISAO_MONOCULAR.sum())\n",
    "vis_mon = df[(df.IN_VISAO_MONOCULAR == 1)].index\n",
    "print(vis_mon)\n",
    "plt.hist(df['NU_NOTA_MT'][df['IN_VISAO_MONOCULAR'] == 1],color = 'blue', label = 'Visao Monocular')\n",
    "plt.xlabel(\"Nota Matemática\")\n",
    "plt.ylabel(\"Quantidade\")\n",
    "plt.title(\"Alunos com Visao Monocular\")\n",
    "plt.legend(loc='best')\n",
    "plt.show()"
   ]
  },
  {
   "cell_type": "code",
   "execution_count": 50,
   "metadata": {},
   "outputs": [],
   "source": [
    "df = df.drop(vis_mon, axis=0)\n",
    "df = df.drop('IN_VISAO_MONOCULAR', axis=1)"
   ]
  },
  {
   "cell_type": "code",
   "execution_count": 51,
   "metadata": {},
   "outputs": [
    {
     "name": "stdout",
     "output_type": "stream",
     "text": [
      "Inscritos com outra deficiencia ou condição especial: 2\n",
      "Int64Index([5483, 11140], dtype='int64')\n"
     ]
    },
    {
     "data": {
      "image/png": "[encoded data removed]",
      "text/plain": [
       "<Figure size 432x288 with 1 Axes>"
      ]
     },
     "metadata": {
      "needs_background": "light"
     },
     "output_type": "display_data"
    }
   ],
   "source": [
    "print(\"Inscritos com outra deficiencia ou condição especial:\",df.IN_OUTRA_DEF.sum())\n",
    "outra_def = df[(df.IN_OUTRA_DEF == 1)].index\n",
    "print(outra_def)\n",
    "plt.hist(df['NU_NOTA_MT'][df['IN_OUTRA_DEF'] == 1],color = 'blue', label = 'Outras deficiências')\n",
    "plt.xlabel(\"Nota Matemática\")\n",
    "plt.ylabel(\"Quantidade\")\n",
    "plt.title(\"Alunos com outra deficiência ou condição especial\")\n",
    "plt.legend(loc='best')\n",
    "plt.show()"
   ]
  },
  {
   "cell_type": "code",
   "execution_count": 52,
   "metadata": {},
   "outputs": [],
   "source": [
    "df = df.drop(outra_def, axis=0)\n",
    "df = df.drop('IN_OUTRA_DEF', axis=1)"
   ]
  },
  {
   "cell_type": "markdown",
   "metadata": {},
   "source": [
    "Dados dos pedidos de Atendimento Específico"
   ]
  },
  {
   "cell_type": "code",
   "execution_count": 53,
   "metadata": {},
   "outputs": [
    {
     "name": "stdout",
     "output_type": "stream",
     "text": [
      "Inscritos com solicitação de sabatista: 92\n",
      "Int64Index([  330,   437,   919,  1020,  1023,  1070,  1267,  1975,  2205,\n",
      "             2356,  2783,  2954,  3013,  3400,  3695,  3729,  3830,  3988,\n",
      "             4003,  4275,  4418,  4786,  4866,  5060,  5200,  5250,  5275,\n",
      "             5574,  6040,  6169,  6189,  6300,  6417,  6452,  6833,  6853,\n",
      "             6884,  7050,  7123,  7220,  7355,  7402,  7490,  7580,  7650,\n",
      "             7693,  7827,  7856,  7859,  7874,  8054,  8129,  8254,  8462,\n",
      "             8501,  8625,  8704,  8777,  8846,  8934,  8945,  8959,  9046,\n",
      "             9239,  9811,  9907, 10053, 10160, 10253, 10354, 10467, 10687,\n",
      "            10891, 11036, 11145, 11425, 11595, 11628, 11692, 11817, 12129,\n",
      "            12154, 12183, 12215, 12260, 12286, 12518, 12767, 13026, 13138,\n",
      "            13246, 13625],\n",
      "           dtype='int64')\n"
     ]
    },
    {
     "data": {
      "image/png": "[encoded data removed]",
      "text/plain": [
       "<Figure size 432x288 with 1 Axes>"
      ]
     },
     "metadata": {
      "needs_background": "light"
     },
     "output_type": "display_data"
    }
   ],
   "source": [
    "print(\"Inscritos com solicitação de sabatista:\",df.IN_SABATISTA.sum())\n",
    "sabatista = df[(df.IN_SABATISTA == 1)].index\n",
    "print(sabatista)\n",
    "plt.hist(df['NU_NOTA_MT'][df['IN_SABATISTA'] == 1],color = 'blue', label = 'Sabatista')\n",
    "plt.xlabel(\"Nota Matemática\")\n",
    "plt.ylabel(\"Quantidade\")\n",
    "plt.title(\"Alunos com solicitação de sabatista\")\n",
    "plt.legend(loc='best')\n",
    "plt.show()"
   ]
  },
  {
   "cell_type": "code",
   "execution_count": 54,
   "metadata": {},
   "outputs": [
    {
     "name": "stdout",
     "output_type": "stream",
     "text": [
      "Inscritos com solicitação de gestante: 4\n",
      "Int64Index([1268, 6469, 7491, 10596], dtype='int64')\n"
     ]
    },
    {
     "data": {
      "image/png": "[encoded data removed]",
      "text/plain": [
       "<Figure size 432x288 with 1 Axes>"
      ]
     },
     "metadata": {
      "needs_background": "light"
     },
     "output_type": "display_data"
    }
   ],
   "source": [
    "print(\"Inscritos com solicitação de gestante:\",df.IN_GESTANTE.sum())\n",
    "gestante = df[(df.IN_GESTANTE == 1)].index\n",
    "print(gestante)\n",
    "plt.hist(df['NU_NOTA_MT'][df['IN_GESTANTE'] == 1],color = 'blue', label = 'Gestante')\n",
    "plt.xlabel(\"Nota Matemática\")\n",
    "plt.ylabel(\"Quantidade\")\n",
    "plt.title(\"Alunos com solicitação de gestante\")\n",
    "plt.legend(loc='best')\n",
    "plt.show()"
   ]
  },
  {
   "cell_type": "code",
   "execution_count": 55,
   "metadata": {},
   "outputs": [],
   "source": [
    "df = df.drop(gestante, axis=0)\n",
    "df = df.drop('IN_GESTANTE', axis=1)"
   ]
  },
  {
   "cell_type": "code",
   "execution_count": 56,
   "metadata": {},
   "outputs": [
    {
     "name": "stdout",
     "output_type": "stream",
     "text": [
      "Inscritos com solicitação de lactante: 7\n",
      "Int64Index([2919, 3311, 5262, 6951, 7861, 10047, 12141], dtype='int64')\n"
     ]
    },
    {
     "data": {
      "image/png": "[encoded data removed]",
      "text/plain": [
       "<Figure size 432x288 with 1 Axes>"
      ]
     },
     "metadata": {
      "needs_background": "light"
     },
     "output_type": "display_data"
    }
   ],
   "source": [
    "print(\"Inscritos com solicitação de lactante:\",df.IN_LACTANTE.sum())\n",
    "lactante = df[(df.IN_LACTANTE == 1)].index\n",
    "print(lactante)\n",
    "plt.hist(df['NU_NOTA_MT'][df['IN_LACTANTE'] == 1],color = 'blue', label = 'Lactante')\n",
    "plt.xlabel(\"Nota Matemática\")\n",
    "plt.ylabel(\"Quantidade\")\n",
    "plt.title(\"Alunos com solicitação de lactante\")\n",
    "plt.legend(loc='best')\n",
    "plt.show()"
   ]
  },
  {
   "cell_type": "code",
   "execution_count": 57,
   "metadata": {},
   "outputs": [],
   "source": [
    "df = df.drop(lactante, axis=0)\n",
    "df = df.drop('IN_LACTANTE', axis=1)"
   ]
  },
  {
   "cell_type": "code",
   "execution_count": 58,
   "metadata": {},
   "outputs": [
    {
     "name": "stdout",
     "output_type": "stream",
     "text": [
      "Inscritos com solicitação de idoso: 1\n",
      "Int64Index([2215], dtype='int64')\n"
     ]
    },
    {
     "data": {
      "image/png": "[encoded data removed]",
      "text/plain": [
       "<Figure size 432x288 with 1 Axes>"
      ]
     },
     "metadata": {
      "needs_background": "light"
     },
     "output_type": "display_data"
    }
   ],
   "source": [
    "print(\"Inscritos com solicitação de idoso:\",df.IN_IDOSO.sum())\n",
    "idoso = df[(df.IN_IDOSO == 1)].index\n",
    "print(idoso)\n",
    "plt.hist(df['NU_NOTA_MT'][df['IN_IDOSO'] == 1],color = 'blue', label = 'Idoso')\n",
    "plt.xlabel(\"Nota Matemática\")\n",
    "plt.ylabel(\"Quantidade\")\n",
    "plt.title(\"Alunos com solicitação de idoso\")\n",
    "plt.legend(loc='best')\n",
    "plt.show()"
   ]
  },
  {
   "cell_type": "code",
   "execution_count": 59,
   "metadata": {},
   "outputs": [],
   "source": [
    "df = df.drop(idoso, axis=0)\n",
    "df = df.drop('IN_IDOSO', axis=1)"
   ]
  },
  {
   "cell_type": "markdown",
   "metadata": {},
   "source": [
    "Dados de pedidos de recursos especializados e específicos para realização das provas"
   ]
  },
  {
   "cell_type": "code",
   "execution_count": 60,
   "metadata": {},
   "outputs": [],
   "source": [
    "df = df.drop(\"IN_SEM_RECURSO\", axis=1)"
   ]
  },
  {
   "cell_type": "code",
   "execution_count": 61,
   "metadata": {},
   "outputs": [
    {
     "name": "stdout",
     "output_type": "stream",
     "text": [
      "Inscritos com solicitação de auxílio para leitura 2\n",
      "Int64Index([5055, 7277], dtype='int64')\n"
     ]
    },
    {
     "data": {
      "image/png": "[encoded data removed]",
      "text/plain": [
       "<Figure size 432x288 with 1 Axes>"
      ]
     },
     "metadata": {
      "needs_background": "light"
     },
     "output_type": "display_data"
    }
   ],
   "source": [
    "print(\"Inscritos com solicitação de auxílio para leitura\",df.IN_LEDOR.sum())\n",
    "ledor = df[(df.IN_LEDOR == 1)].index\n",
    "print(ledor)\n",
    "plt.hist(df['NU_NOTA_MT'][df['IN_LEDOR'] == 1],color = 'blue', label = 'Auxílio para leitura')\n",
    "plt.xlabel(\"Nota Matemática\")\n",
    "plt.ylabel(\"Quantidade\")\n",
    "plt.title(\"Alunos com solicitação de auxílio para leitura\")\n",
    "plt.legend(loc='best')\n",
    "plt.show()"
   ]
  },
  {
   "cell_type": "code",
   "execution_count": 62,
   "metadata": {},
   "outputs": [],
   "source": [
    "df = df.drop(ledor, axis=0)\n",
    "df = df.drop('IN_LEDOR', axis=1)"
   ]
  },
  {
   "cell_type": "code",
   "execution_count": 63,
   "metadata": {},
   "outputs": [
    {
     "name": "stdout",
     "output_type": "stream",
     "text": [
      "Inscritos com solicitação de fácil acesso a sala 9\n",
      "Int64Index([1296, 2270, 4383, 7637, 8040, 8087, 8624, 12658, 13224], dtype='int64')\n"
     ]
    },
    {
     "data": {
      "image/png": "[encoded data removed]",
      "text/plain": [
       "<Figure size 432x288 with 1 Axes>"
      ]
     },
     "metadata": {
      "needs_background": "light"
     },
     "output_type": "display_data"
    }
   ],
   "source": [
    "print(\"Inscritos com solicitação de fácil acesso a sala\",df.IN_ACESSO.sum())\n",
    "acesso = df[(df.IN_ACESSO == 1)].index\n",
    "print(acesso)\n",
    "plt.hist(df['NU_NOTA_MT'][df['IN_ACESSO'] == 1],color = 'blue', label = 'Fácil acesso a sala')\n",
    "plt.xlabel(\"Nota Matemática\")\n",
    "plt.ylabel(\"Quantidade\")\n",
    "plt.title(\"Alunos com solicitação de fácil acesso a sala\")\n",
    "plt.legend(loc='best')\n",
    "plt.show()"
   ]
  },
  {
   "cell_type": "code",
   "execution_count": 64,
   "metadata": {},
   "outputs": [],
   "source": [
    "df = df.drop(acesso, axis=0)\n",
    "df = df.drop('IN_ACESSO', axis=1)"
   ]
  },
  {
   "cell_type": "code",
   "execution_count": 65,
   "metadata": {},
   "outputs": [
    {
     "name": "stdout",
     "output_type": "stream",
     "text": [
      "Inscritos com solicitação de nome social 3\n",
      "Int64Index([1130, 10539, 11760], dtype='int64')\n"
     ]
    },
    {
     "data": {
      "image/png": "[encoded data removed]",
      "text/plain": [
       "<Figure size 432x288 with 1 Axes>"
      ]
     },
     "metadata": {
      "needs_background": "light"
     },
     "output_type": "display_data"
    }
   ],
   "source": [
    "print(\"Inscritos com solicitação de nome social\",df.IN_NOME_SOCIAL.sum())\n",
    "nome_social = df[(df.IN_NOME_SOCIAL == 1)].index\n",
    "print(nome_social)\n",
    "plt.hist(df['NU_NOTA_MT'][df['IN_NOME_SOCIAL'] == 1],color = 'blue', label = 'Nome social')\n",
    "plt.xlabel(\"Nota Matemática\")\n",
    "plt.ylabel(\"Quantidade\")\n",
    "plt.title(\"Alunos com solicitação de nome social\")\n",
    "plt.legend(loc='best')\n",
    "plt.show()"
   ]
  },
  {
   "cell_type": "code",
   "execution_count": 66,
   "metadata": {},
   "outputs": [],
   "source": [
    "df = df.drop(nome_social, axis=0)\n",
    "df = df.drop('IN_NOME_SOCIAL', axis=1)"
   ]
  },
  {
   "cell_type": "code",
   "execution_count": 67,
   "metadata": {},
   "outputs": [
    {
     "name": "stdout",
     "output_type": "stream",
     "text": [
      "Inscritos com solicitação de certificação no ensino médio 935\n",
      "Int64Index([   27,    28,    32,    50,    63,    98,   102,   124,   139,\n",
      "              159,\n",
      "            ...\n",
      "            13540, 13575, 13603, 13620, 13630, 13657, 13688, 13693, 13724,\n",
      "            13728],\n",
      "           dtype='int64', length=935)\n"
     ]
    },
    {
     "data": {
      "image/png": "[encoded data removed]",
      "text/plain": [
       "<Figure size 432x288 with 1 Axes>"
      ]
     },
     "metadata": {
      "needs_background": "light"
     },
     "output_type": "display_data"
    }
   ],
   "source": [
    "print(\"Inscritos com solicitação de certificação no ensino médio\",df.IN_CERTIFICADO.sum())\n",
    "cert = df[(df.IN_CERTIFICADO == 1)].index\n",
    "print(cert)\n",
    "plt.hist(df['NU_NOTA_MT'][df['IN_CERTIFICADO'] == 1],color = 'blue', label = 'Certificação')\n",
    "plt.hist(df['NU_NOTA_MT'][df['IN_CERTIFICADO'] == 0],color = 'red', alpha = 0.5, label = 'Não Certificação')\n",
    "plt.xlabel(\"Nota Matemática\")\n",
    "plt.ylabel(\"Quantidade\")\n",
    "plt.title(\"Alunos com solicitação de certificação\")\n",
    "plt.legend(loc='best')\n",
    "plt.show()"
   ]
  },
  {
   "cell_type": "code",
   "execution_count": 68,
   "metadata": {},
   "outputs": [],
   "source": [
    "columns = [\"NO_MUNICIPIO_PROVA\"]\n",
    "df = df.drop(columns, axis=1)"
   ]
  },
  {
   "cell_type": "code",
   "execution_count": 69,
   "metadata": {},
   "outputs": [
    {
     "data": {
      "text/plain": [
       "(9611, 70)"
      ]
     },
     "execution_count": 69,
     "metadata": {},
     "output_type": "execute_result"
    }
   ],
   "source": [
    "df.shape"
   ]
  },
  {
   "cell_type": "markdown",
   "metadata": {},
   "source": [
    "### Dados do questionário socioeconômico ###"
   ]
  },
  {
   "cell_type": "markdown",
   "metadata": {},
   "source": [
    "Em um primeiro momento iremos trabalhar com as seguintes variáveis do questionátio socioeconômico:<br>\n",
    "- Q001: Nível de estudos do pai\n",
    "- Q002: Nível de estudos da mãe\n",
    "- Q006: Renda mensal familiar\n",
    "- Q026: Se trabalhou ou trabalha\n",
    "- Q027: Idade que começou a trabalhar\n",
    "- Q028: Horas semanais trabalhadas\n",
    "- Q042: Tipo de escola (ensino fundamental)\n",
    "- Q043: Modalidade (ensino fundamental)\n",
    "- Q044: Turno (ensino fundamental)\n",
    "- Q045: Se abandonou os estudos (ensino fundamental)\n",
    "- Q047: Tipo de escola (ensino médio)\n",
    "- Q048: Modalidade (ensino médio)\n",
    "- Q049: Turno (ensino médio)\n",
    "- Q050: Se abandonou os estudos (ensino médio)"
   ]
  },
  {
   "cell_type": "code",
   "execution_count": 70,
   "metadata": {},
   "outputs": [
    {
     "data": {
      "text/plain": [
       "Index(['NU_INSCRICAO', 'NU_IDADE', 'TP_SEXO', 'TP_COR_RACA', 'TP_ST_CONCLUSAO',\n",
       "       'TP_ESCOLA', 'IN_TREINEIRO', 'IN_DEFICIENCIA_FISICA', 'IN_SABATISTA',\n",
       "       'IN_CERTIFICADO', 'SG_UF_PROVA', 'CO_PROVA_CN', 'CO_PROVA_CH',\n",
       "       'CO_PROVA_LC', 'CO_PROVA_MT', 'NU_NOTA_CN', 'NU_NOTA_CH', 'NU_NOTA_LC',\n",
       "       'NU_NOTA_MT', 'NU_NOTA_REDACAO', 'Q001', 'Q002', 'Q006', 'Q026', 'Q027',\n",
       "       'Q028', 'Q042', 'Q043', 'Q044', 'Q045', 'Q047', 'Q048', 'Q049', 'Q050'],\n",
       "      dtype='object')"
      ]
     },
     "execution_count": 70,
     "metadata": {},
     "output_type": "execute_result"
    }
   ],
   "source": [
    "columns = ['Q003', 'Q004', 'Q005', 'Q007', 'Q008', 'Q009', 'Q010', 'Q011', 'Q012', 'Q013', 'Q014', 'Q015', 'Q016', 'Q017',\n",
    "           'Q018', 'Q019', 'Q020', 'Q021', 'Q022', 'Q023', 'Q024', 'Q025', 'Q029', 'Q030', 'Q031', 'Q032', 'Q033', 'Q034',\n",
    "           'Q035', 'Q036', 'Q037', 'Q038', 'Q039', 'Q040', 'Q041', 'Q046']\n",
    "df = df.drop(columns, axis=1)\n",
    "df.columns"
   ]
  },
  {
   "cell_type": "markdown",
   "metadata": {},
   "source": [
    "### Tratamento das variáveis categóricas ###"
   ]
  },
  {
   "cell_type": "code",
   "execution_count": 71,
   "metadata": {},
   "outputs": [],
   "source": [
    "df_NU_INSCRICAO = df.NU_INSCRICAO\n",
    "df = df.drop('NU_INSCRICAO', axis=1)"
   ]
  },
  {
   "cell_type": "code",
   "execution_count": 72,
   "metadata": {},
   "outputs": [
    {
     "data": {
      "text/plain": [
       "Index(['NU_IDADE', 'TP_COR_RACA', 'TP_ST_CONCLUSAO', 'TP_ESCOLA',\n",
       "       'IN_TREINEIRO', 'IN_DEFICIENCIA_FISICA', 'IN_SABATISTA',\n",
       "       'IN_CERTIFICADO', 'SG_UF_PROVA', 'CO_PROVA_CN', 'CO_PROVA_CH',\n",
       "       'CO_PROVA_LC', 'CO_PROVA_MT', 'NU_NOTA_CN', 'NU_NOTA_CH', 'NU_NOTA_LC',\n",
       "       'NU_NOTA_MT', 'NU_NOTA_REDACAO', 'Q001', 'Q002', 'Q006', 'Q026', 'Q027',\n",
       "       'Q028', 'Q042', 'Q043', 'Q044', 'Q045', 'Q047', 'Q048', 'Q049', 'Q050',\n",
       "       'Feminino', 'Masculino'],\n",
       "      dtype='object')"
      ]
     },
     "execution_count": 72,
     "metadata": {},
     "output_type": "execute_result"
    }
   ],
   "source": [
    "df_sexo = pd.get_dummies(df.TP_SEXO)\n",
    "df = pd.concat([df, df_sexo], axis=1)\n",
    "df.rename(columns={'F':'Feminino','M':'Masculino'}, inplace=True)\n",
    "df = df.drop('TP_SEXO',axis=1)\n",
    "df.columns"
   ]
  },
  {
   "cell_type": "code",
   "execution_count": 73,
   "metadata": {},
   "outputs": [
    {
     "data": {
      "text/plain": [
       "Index(['NU_IDADE', 'TP_COR_RACA', 'TP_ST_CONCLUSAO', 'TP_ESCOLA',\n",
       "       'IN_TREINEIRO', 'IN_DEFICIENCIA_FISICA', 'IN_SABATISTA',\n",
       "       'IN_CERTIFICADO', 'SG_UF_PROVA', 'CO_PROVA_CN', 'CO_PROVA_CH',\n",
       "       'CO_PROVA_LC', 'CO_PROVA_MT', 'NU_NOTA_CN', 'NU_NOTA_CH', 'NU_NOTA_LC',\n",
       "       'NU_NOTA_MT', 'NU_NOTA_REDACAO', 'Q001', 'Q002', 'Q006', 'Q026', 'Q027',\n",
       "       'Q028', 'Q042', 'Q043', 'Q044', 'Q045', 'Q047', 'Q048', 'Q049', 'Q050',\n",
       "       'Feminino', 'Masculino', 'Não declarado', 'Branca', 'Preta', 'Parda',\n",
       "       'Amarela', 'Indigena'],\n",
       "      dtype='object')"
      ]
     },
     "execution_count": 73,
     "metadata": {},
     "output_type": "execute_result"
    }
   ],
   "source": [
    "df_cor_raca = pd.get_dummies(df.TP_COR_RACA)\n",
    "df = pd.concat([df, df_cor_raca], axis=1)\n",
    "df.rename(columns={0:'Não declarado', 1:'Branca', 2:'Preta', 3:'Parda', 4:'Amarela', 5:'Indigena',\n",
    "                   6:'Não dispões da informação'},\n",
    "                   inplace=True)\n",
    "df.columns"
   ]
  },
  {
   "cell_type": "code",
   "execution_count": 74,
   "metadata": {},
   "outputs": [],
   "source": [
    "df = df.drop('TP_COR_RACA',axis=1)"
   ]
  },
  {
   "cell_type": "code",
   "execution_count": 75,
   "metadata": {},
   "outputs": [
    {
     "data": {
      "text/plain": [
       "Index(['NU_IDADE', 'TP_ST_CONCLUSAO', 'TP_ESCOLA', 'IN_TREINEIRO',\n",
       "       'IN_DEFICIENCIA_FISICA', 'IN_SABATISTA', 'IN_CERTIFICADO',\n",
       "       'SG_UF_PROVA', 'CO_PROVA_CN', 'CO_PROVA_CH', 'CO_PROVA_LC',\n",
       "       'CO_PROVA_MT', 'NU_NOTA_CN', 'NU_NOTA_CH', 'NU_NOTA_LC', 'NU_NOTA_MT',\n",
       "       'NU_NOTA_REDACAO', 'Q001', 'Q002', 'Q006', 'Q026', 'Q027', 'Q028',\n",
       "       'Q042', 'Q043', 'Q044', 'Q045', 'Q047', 'Q048', 'Q049', 'Q050',\n",
       "       'Feminino', 'Masculino', 'Não declarado', 'Branca', 'Preta', 'Parda',\n",
       "       'Amarela', 'Indigena', 'Concluido', 'Conclusao_2016',\n",
       "       'Conclusao_apos_2016', 'Nao_Concluido_nem_cursando'],\n",
       "      dtype='object')"
      ]
     },
     "execution_count": 75,
     "metadata": {},
     "output_type": "execute_result"
    }
   ],
   "source": [
    "df_st_conclusao = pd.get_dummies(df.TP_ST_CONCLUSAO)\n",
    "df = pd.concat([df, df_st_conclusao], axis=1)\n",
    "df.rename(columns={1:'Concluido', 2:'Conclusao_2016', 3:'Conclusao_apos_2016', 4:'Nao_Concluido_nem_cursando'},\n",
    "                   inplace=True)\n",
    "df.columns"
   ]
  },
  {
   "cell_type": "code",
   "execution_count": 76,
   "metadata": {},
   "outputs": [],
   "source": [
    "df = df.drop('TP_ST_CONCLUSAO',axis=1)"
   ]
  },
  {
   "cell_type": "code",
   "execution_count": 77,
   "metadata": {},
   "outputs": [
    {
     "data": {
      "text/plain": [
       "Index(['NU_IDADE', 'TP_ESCOLA', 'IN_TREINEIRO', 'IN_DEFICIENCIA_FISICA',\n",
       "       'IN_SABATISTA', 'IN_CERTIFICADO', 'SG_UF_PROVA', 'CO_PROVA_CN',\n",
       "       'CO_PROVA_CH', 'CO_PROVA_LC', 'CO_PROVA_MT', 'NU_NOTA_CN', 'NU_NOTA_CH',\n",
       "       'NU_NOTA_LC', 'NU_NOTA_MT', 'NU_NOTA_REDACAO', 'Q001', 'Q002', 'Q006',\n",
       "       'Q026', 'Q027', 'Q028', 'Q042', 'Q043', 'Q044', 'Q045', 'Q047', 'Q048',\n",
       "       'Q049', 'Q050', 'Feminino', 'Masculino', 'Não declarado', 'Branca',\n",
       "       'Preta', 'Parda', 'Amarela', 'Indigena', 'Concluido', 'Conclusao_2016',\n",
       "       'Conclusao_apos_2016', 'Nao_Concluido_nem_cursando', 'Nao_informado',\n",
       "       'Publica', 'Privada', 'Exterior'],\n",
       "      dtype='object')"
      ]
     },
     "execution_count": 77,
     "metadata": {},
     "output_type": "execute_result"
    }
   ],
   "source": [
    "df_tp_escola = pd.get_dummies(df.TP_ESCOLA)\n",
    "df = pd.concat([df, df_tp_escola], axis=1)\n",
    "df.rename(columns={1:'Nao_informado', 2:'Publica', 3:'Privada', 4:'Exterior'},\n",
    "                   inplace=True)\n",
    "df.columns"
   ]
  },
  {
   "cell_type": "code",
   "execution_count": 78,
   "metadata": {},
   "outputs": [],
   "source": [
    "df = df.drop('TP_ESCOLA',axis=1)"
   ]
  },
  {
   "cell_type": "code",
   "execution_count": 79,
   "metadata": {},
   "outputs": [
    {
     "data": {
      "text/plain": [
       "Index(['NU_IDADE', 'IN_TREINEIRO', 'IN_DEFICIENCIA_FISICA', 'IN_SABATISTA',\n",
       "       'IN_CERTIFICADO', 'SG_UF_PROVA', 'CO_PROVA_CN', 'CO_PROVA_CH',\n",
       "       'CO_PROVA_LC', 'CO_PROVA_MT', 'NU_NOTA_CN', 'NU_NOTA_CH', 'NU_NOTA_LC',\n",
       "       'NU_NOTA_MT', 'NU_NOTA_REDACAO', 'Q001', 'Q002', 'Q006', 'Q026', 'Q027',\n",
       "       'Q028', 'Q042', 'Q043', 'Q044', 'Q045', 'Q047', 'Q048', 'Q049', 'Q050',\n",
       "       'Feminino', 'Masculino', 'Não declarado', 'Branca', 'Preta', 'Parda',\n",
       "       'Amarela', 'Indigena', 'Concluido', 'Conclusao_2016',\n",
       "       'Conclusao_apos_2016', 'Nao_Concluido_nem_cursando', 'Nao_informado',\n",
       "       'Publica', 'Privada', 'Exterior', 'Nao_treineiro', 'Treineiro'],\n",
       "      dtype='object')"
      ]
     },
     "execution_count": 79,
     "metadata": {},
     "output_type": "execute_result"
    }
   ],
   "source": [
    "df_treineiro = pd.get_dummies(df.IN_TREINEIRO)\n",
    "df = pd.concat([df, df_treineiro], axis=1)\n",
    "df.rename(columns={1:'Treineiro', 0:'Nao_treineiro'},\n",
    "                   inplace=True)\n",
    "df.columns"
   ]
  },
  {
   "cell_type": "code",
   "execution_count": 80,
   "metadata": {},
   "outputs": [],
   "source": [
    "df = df.drop('IN_TREINEIRO',axis=1)"
   ]
  },
  {
   "cell_type": "code",
   "execution_count": 81,
   "metadata": {},
   "outputs": [
    {
     "data": {
      "text/plain": [
       "Index(['NU_IDADE', 'IN_DEFICIENCIA_FISICA', 'IN_SABATISTA', 'IN_CERTIFICADO',\n",
       "       'SG_UF_PROVA', 'CO_PROVA_CN', 'CO_PROVA_CH', 'CO_PROVA_LC',\n",
       "       'CO_PROVA_MT', 'NU_NOTA_CN', 'NU_NOTA_CH', 'NU_NOTA_LC', 'NU_NOTA_MT',\n",
       "       'NU_NOTA_REDACAO', 'Q001', 'Q002', 'Q006', 'Q026', 'Q027', 'Q028',\n",
       "       'Q042', 'Q043', 'Q044', 'Q045', 'Q047', 'Q048', 'Q049', 'Q050',\n",
       "       'Feminino', 'Masculino', 'Não declarado', 'Branca', 'Preta', 'Parda',\n",
       "       'Amarela', 'Indigena', 'Concluido', 'Conclusao_2016',\n",
       "       'Conclusao_apos_2016', 'Nao_Concluido_nem_cursando', 'Nao_informado',\n",
       "       'Publica', 'Privada', 'Exterior', 'Nao_treineiro', 'Treineiro',\n",
       "       'Nao_Deficiente_Fisico', 'Deficiente_Fisico'],\n",
       "      dtype='object')"
      ]
     },
     "execution_count": 81,
     "metadata": {},
     "output_type": "execute_result"
    }
   ],
   "source": [
    "df_def_fis = pd.get_dummies(df.IN_DEFICIENCIA_FISICA)\n",
    "df = pd.concat([df, df_def_fis], axis=1)\n",
    "df.rename(columns={1:'Deficiente_Fisico', 0:'Nao_Deficiente_Fisico'},\n",
    "                   inplace=True)\n",
    "df.columns"
   ]
  },
  {
   "cell_type": "code",
   "execution_count": 82,
   "metadata": {},
   "outputs": [],
   "source": [
    "df = df.drop('IN_DEFICIENCIA_FISICA',axis=1)"
   ]
  },
  {
   "cell_type": "code",
   "execution_count": 83,
   "metadata": {},
   "outputs": [
    {
     "data": {
      "text/plain": [
       "Index(['NU_IDADE', 'IN_SABATISTA', 'IN_CERTIFICADO', 'SG_UF_PROVA',\n",
       "       'CO_PROVA_CN', 'CO_PROVA_CH', 'CO_PROVA_LC', 'CO_PROVA_MT',\n",
       "       'NU_NOTA_CN', 'NU_NOTA_CH', 'NU_NOTA_LC', 'NU_NOTA_MT',\n",
       "       'NU_NOTA_REDACAO', 'Q001', 'Q002', 'Q006', 'Q026', 'Q027', 'Q028',\n",
       "       'Q042', 'Q043', 'Q044', 'Q045', 'Q047', 'Q048', 'Q049', 'Q050',\n",
       "       'Feminino', 'Masculino', 'Não declarado', 'Branca', 'Preta', 'Parda',\n",
       "       'Amarela', 'Indigena', 'Concluido', 'Conclusao_2016',\n",
       "       'Conclusao_apos_2016', 'Nao_Concluido_nem_cursando', 'Nao_informado',\n",
       "       'Publica', 'Privada', 'Exterior', 'Nao_treineiro', 'Treineiro',\n",
       "       'Nao_Deficiente_Fisico', 'Deficiente_Fisico', 'Nao_Sabatista',\n",
       "       'Sabatista'],\n",
       "      dtype='object')"
      ]
     },
     "execution_count": 83,
     "metadata": {},
     "output_type": "execute_result"
    }
   ],
   "source": [
    "df_sab = pd.get_dummies(df.IN_SABATISTA)\n",
    "df = pd.concat([df, df_sab], axis=1)\n",
    "df.rename(columns={1:'Sabatista', 0:'Nao_Sabatista'},\n",
    "                   inplace=True)\n",
    "df.columns"
   ]
  },
  {
   "cell_type": "code",
   "execution_count": 84,
   "metadata": {},
   "outputs": [],
   "source": [
    "df = df.drop('IN_SABATISTA',axis=1)"
   ]
  },
  {
   "cell_type": "code",
   "execution_count": 85,
   "metadata": {},
   "outputs": [
    {
     "data": {
      "text/plain": [
       "Index(['NU_IDADE', 'IN_CERTIFICADO', 'SG_UF_PROVA', 'CO_PROVA_CN',\n",
       "       'CO_PROVA_CH', 'CO_PROVA_LC', 'CO_PROVA_MT', 'NU_NOTA_CN', 'NU_NOTA_CH',\n",
       "       'NU_NOTA_LC', 'NU_NOTA_MT', 'NU_NOTA_REDACAO', 'Q001', 'Q002', 'Q006',\n",
       "       'Q026', 'Q027', 'Q028', 'Q042', 'Q043', 'Q044', 'Q045', 'Q047', 'Q048',\n",
       "       'Q049', 'Q050', 'Feminino', 'Masculino', 'Não declarado', 'Branca',\n",
       "       'Preta', 'Parda', 'Amarela', 'Indigena', 'Concluido', 'Conclusao_2016',\n",
       "       'Conclusao_apos_2016', 'Nao_Concluido_nem_cursando', 'Nao_informado',\n",
       "       'Publica', 'Privada', 'Exterior', 'Nao_treineiro', 'Treineiro',\n",
       "       'Nao_Deficiente_Fisico', 'Deficiente_Fisico', 'Nao_Sabatista',\n",
       "       'Sabatista', 'Nao_Certificado', 'Certificado'],\n",
       "      dtype='object')"
      ]
     },
     "execution_count": 85,
     "metadata": {},
     "output_type": "execute_result"
    }
   ],
   "source": [
    "df_cert = pd.get_dummies(df.IN_CERTIFICADO)\n",
    "df = pd.concat([df, df_cert], axis=1)\n",
    "df.rename(columns={1:'Certificado', 0:'Nao_Certificado'},\n",
    "                   inplace=True)\n",
    "df.columns"
   ]
  },
  {
   "cell_type": "code",
   "execution_count": 86,
   "metadata": {},
   "outputs": [],
   "source": [
    "df = df.drop('IN_CERTIFICADO',axis=1)"
   ]
  },
  {
   "cell_type": "code",
   "execution_count": 87,
   "metadata": {},
   "outputs": [],
   "source": [
    "df_uf = pd.get_dummies(df.SG_UF_PROVA)\n",
    "df = pd.concat([df, df_uf], axis=1)"
   ]
  },
  {
   "cell_type": "code",
   "execution_count": 88,
   "metadata": {},
   "outputs": [],
   "source": [
    "df = df.drop('SG_UF_PROVA',axis=1)"
   ]
  },
  {
   "cell_type": "code",
   "execution_count": 89,
   "metadata": {},
   "outputs": [
    {
     "data": {
      "image/png": "[encoded data removed]",
      "text/plain": [
       "<Figure size 432x288 with 1 Axes>"
      ]
     },
     "metadata": {
      "needs_background": "light"
     },
     "output_type": "display_data"
    }
   ],
   "source": [
    "plt.scatter(df['NU_NOTA_MT'][df['Masculino'] == 1],df['NU_NOTA_CN'][df['Masculino'] == 1],color = 'blue', label = 'Masculino')\n",
    "plt.scatter(df['NU_NOTA_MT'][df['Feminino'] == 1],df['NU_NOTA_CN'][df['Feminino'] == 1],color = 'red', label = 'Feminino')\n",
    "plt.xlabel(\"Matematica\")\n",
    "plt.ylabel(\"Ciencias naturais\")\n",
    "plt.title(\"Matematica X Ciencias naturais\")\n",
    "plt.legend(loc='best')\n",
    "plt.show()"
   ]
  },
  {
   "cell_type": "code",
   "execution_count": 90,
   "metadata": {},
   "outputs": [
    {
     "data": {
      "text/plain": [
       "Int64Index([2194, 10623, 12120, 13042], dtype='int64')"
      ]
     },
     "execution_count": 90,
     "metadata": {},
     "output_type": "execute_result"
    }
   ],
   "source": [
    "i = df[(df.NU_NOTA_CN == 0)].index\n",
    "i"
   ]
  },
  {
   "cell_type": "code",
   "execution_count": 91,
   "metadata": {},
   "outputs": [],
   "source": [
    "df = df.drop(i, axis=0)"
   ]
  },
  {
   "cell_type": "code",
   "execution_count": 92,
   "metadata": {},
   "outputs": [
    {
     "data": {
      "image/png": "[encoded data removed]",
      "text/plain": [
       "<Figure size 432x288 with 1 Axes>"
      ]
     },
     "metadata": {
      "needs_background": "light"
     },
     "output_type": "display_data"
    }
   ],
   "source": [
    "plt.scatter(df['NU_NOTA_MT'][df['Masculino'] == 1],df['NU_NOTA_CN'][df['Masculino'] == 1],color = 'blue', label = 'Masculino')\n",
    "plt.scatter(df['NU_NOTA_MT'][df['Feminino'] == 1],df['NU_NOTA_CN'][df['Feminino'] == 1],color = 'red', label = 'Feminino')\n",
    "plt.xlabel(\"Matematica\")\n",
    "plt.ylabel(\"Ciencias naturais\")\n",
    "plt.title(\"Matematica X Ciencias naturais\")\n",
    "plt.legend(loc='best')\n",
    "plt.show()"
   ]
  },
  {
   "cell_type": "code",
   "execution_count": 93,
   "metadata": {},
   "outputs": [
    {
     "data": {
      "image/png": "[encoded data removed]",
      "text/plain": [
       "<Figure size 432x288 with 1 Axes>"
      ]
     },
     "metadata": {
      "needs_background": "light"
     },
     "output_type": "display_data"
    }
   ],
   "source": [
    "plt.scatter(df['NU_NOTA_MT'][df['Masculino'] == 1],df['NU_NOTA_CH'][df['Masculino'] == 1],color = 'blue', label = 'Masculino')\n",
    "plt.scatter(df['NU_NOTA_MT'][df['Feminino'] == 1],df['NU_NOTA_CH'][df['Feminino'] == 1],color = 'red', label = 'Feminino')\n",
    "plt.xlabel(\"Matematica\")\n",
    "plt.ylabel(\"Ciencias humanas\")\n",
    "plt.title(\"Matematica X Ciencias humanas\")\n",
    "plt.legend(loc='best')\n",
    "plt.show()"
   ]
  },
  {
   "cell_type": "code",
   "execution_count": 94,
   "metadata": {},
   "outputs": [
    {
     "data": {
      "image/png": "[encoded data removed]",
      "text/plain": [
       "<Figure size 432x288 with 1 Axes>"
      ]
     },
     "metadata": {
      "needs_background": "light"
     },
     "output_type": "display_data"
    }
   ],
   "source": [
    "plt.scatter(df['NU_NOTA_MT'][df['Masculino'] == 1],df['NU_NOTA_LC'][df['Masculino'] == 1],color = 'blue', label = 'Masculino')\n",
    "plt.scatter(df['NU_NOTA_MT'][df['Feminino'] == 1],df['NU_NOTA_LC'][df['Feminino'] == 1],color = 'red', label = 'Feminino')\n",
    "plt.xlabel(\"Matematica\")\n",
    "plt.ylabel(\"Linguagens e Códigos\")\n",
    "plt.title(\"Matematica X Linguagens e códigos\")\n",
    "plt.legend(loc='best')\n",
    "plt.show()"
   ]
  },
  {
   "cell_type": "code",
   "execution_count": 95,
   "metadata": {},
   "outputs": [
    {
     "data": {
      "image/png": "[encoded data removed]",
      "text/plain": [
       "<Figure size 432x288 with 1 Axes>"
      ]
     },
     "metadata": {
      "needs_background": "light"
     },
     "output_type": "display_data"
    }
   ],
   "source": [
    "plt.scatter(df['NU_NOTA_MT'][df['Masculino'] == 1],df['NU_NOTA_REDACAO'][df['Masculino'] == 1],color = 'blue', label = 'Masculino')\n",
    "plt.scatter(df['NU_NOTA_MT'][df['Feminino'] == 1],df['NU_NOTA_REDACAO'][df['Feminino'] == 1],color = 'red', label = 'Feminino')\n",
    "plt.xlabel(\"Matematica\")\n",
    "plt.ylabel(\"Redação\")\n",
    "plt.title(\"Matematica X Redação\")\n",
    "plt.legend(loc='best')\n",
    "plt.show()"
   ]
  },
  {
   "cell_type": "code",
   "execution_count": 96,
   "metadata": {},
   "outputs": [
    {
     "data": {
      "image/png": "[encoded data removed]",
      "text/plain": [
       "<Figure size 432x288 with 1 Axes>"
      ]
     },
     "metadata": {
      "needs_background": "light"
     },
     "output_type": "display_data"
    }
   ],
   "source": [
    "i = df[(df.NU_NOTA_REDACAO == 0)].index\n",
    "df = df.drop(i, axis=0)\n",
    "plt.scatter(df['NU_NOTA_MT'][df['Masculino'] == 1],df['NU_NOTA_REDACAO'][df['Masculino'] == 1],color = 'blue', label = 'Masculino')\n",
    "plt.scatter(df['NU_NOTA_MT'][df['Feminino'] == 1],df['NU_NOTA_REDACAO'][df['Feminino'] == 1],color = 'red', label = 'Feminino')\n",
    "plt.xlabel(\"Matematica\")\n",
    "plt.ylabel(\"Redação\")\n",
    "plt.title(\"Matematica X Redação\")\n",
    "plt.legend(loc='best')\n",
    "plt.show()"
   ]
  },
  {
   "cell_type": "code",
   "execution_count": 97,
   "metadata": {},
   "outputs": [
    {
     "data": {
      "text/plain": [
       "Index(['NU_IDADE', 'CO_PROVA_CN', 'CO_PROVA_CH', 'CO_PROVA_LC', 'CO_PROVA_MT',\n",
       "       'NU_NOTA_CN', 'NU_NOTA_CH', 'NU_NOTA_LC', 'NU_NOTA_MT',\n",
       "       'NU_NOTA_REDACAO', 'Q001', 'Q002', 'Q006', 'Q026', 'Q027', 'Q028',\n",
       "       'Q042', 'Q043', 'Q044', 'Q045', 'Q047', 'Q048', 'Q049', 'Q050',\n",
       "       'Feminino', 'Masculino', 'Não declarado', 'Branca', 'Preta', 'Parda',\n",
       "       'Amarela', 'Indigena', 'Concluido', 'Conclusao_2016',\n",
       "       'Conclusao_apos_2016', 'Nao_Concluido_nem_cursando', 'Nao_informado',\n",
       "       'Publica', 'Privada', 'Exterior', 'Nao_treineiro', 'Treineiro',\n",
       "       'Nao_Deficiente_Fisico', 'Deficiente_Fisico', 'Nao_Sabatista',\n",
       "       'Sabatista', 'Nao_Certificado', 'Certificado', 'AC', 'AL', 'AM', 'AP',\n",
       "       'BA', 'CE', 'DF', 'ES', 'GO', 'MA', 'MG', 'MS', 'MT', 'PA', 'PB', 'PE',\n",
       "       'PI', 'PR', 'RJ', 'RN', 'RO', 'RR', 'RS', 'SC', 'SE', 'SP', 'TO'],\n",
       "      dtype='object')"
      ]
     },
     "execution_count": 97,
     "metadata": {},
     "output_type": "execute_result"
    }
   ],
   "source": [
    "df.columns"
   ]
  },
  {
   "cell_type": "code",
   "execution_count": 98,
   "metadata": {},
   "outputs": [],
   "source": [
    "columns = ['CO_PROVA_CN', 'CO_PROVA_CH', 'CO_PROVA_LC', 'CO_PROVA_MT']\n",
    "df = df.drop(columns,axis=1)"
   ]
  },
  {
   "cell_type": "code",
   "execution_count": 99,
   "metadata": {},
   "outputs": [],
   "source": [
    "df_estudo_pai = pd.get_dummies(df.Q001)\n",
    "df = pd.concat([df, df_estudo_pai], axis=1)"
   ]
  },
  {
   "cell_type": "code",
   "execution_count": 100,
   "metadata": {},
   "outputs": [],
   "source": [
    "df.rename(columns={'A':'Pai_nunca_estudou', 'B':'Pai_quinto_ano_incompleto', 'C':'Pai_oitavo_ano_incompleto',\n",
    "                   'D':'Pai_ensino_medio_incompleto', 'E':'Pai_faculdade_incompleto', 'F':'Pai_pos_incompleto',\n",
    "                   'G':'Pai_pos', 'H':'Não sabe'},\n",
    "                   inplace=True)"
   ]
  },
  {
   "cell_type": "code",
   "execution_count": 101,
   "metadata": {},
   "outputs": [],
   "source": [
    "df = df.drop('Q001',axis=1)"
   ]
  },
  {
   "cell_type": "code",
   "execution_count": 102,
   "metadata": {},
   "outputs": [],
   "source": [
    "df_estudo_mae = pd.get_dummies(df.Q002)\n",
    "df = pd.concat([df, df_estudo_mae], axis=1)\n",
    "df.rename(columns={'A':'Mae_nunca_estudou', 'B':'Mae_quinto_ano_incompleto', 'C':'Mae_oitavo_ano_incompleto',\n",
    "                   'D':'Mae_ensino_medio_incompleto', 'E':'Mae_faculdade_incompleto', 'F':'Mae_pos_incompleto',\n",
    "                   'G':'Mae_pos', 'H':'Não sabe'},\n",
    "                   inplace=True)\n",
    "df = df.drop('Q002',axis=1)"
   ]
  },
  {
   "cell_type": "code",
   "execution_count": 103,
   "metadata": {},
   "outputs": [],
   "source": [
    "df_renda = pd.get_dummies(df.Q006)\n",
    "df = pd.concat([df, df_renda], axis=1)\n",
    "df.rename(columns={'A':'Renda_nenhuma', 'B':'Renda_880', 'C':'Renda_1320', 'D':'Renda_1760', 'E':'Renda_2200',\n",
    "                   'F':'Renda_2640', 'G':'Renda_3520', 'H':'Renda_4400', 'I':'Renda_5280', 'J':'Renda_6160',\n",
    "                   'K':'Renda_7040', 'L':'Renda_7920', 'M':'Renda_8800', 'N':'Renda_10560', 'O':'Renda_13200',\n",
    "                   'P':'Renda_17600', 'Q':'Renda_mais_17600'},\n",
    "                   inplace=True)\n",
    "df = df.drop('Q006',axis=1)"
   ]
  },
  {
   "cell_type": "code",
   "execution_count": 104,
   "metadata": {},
   "outputs": [],
   "source": [
    "df_trabalho = pd.get_dummies(df.Q026)\n",
    "df = pd.concat([df, df_trabalho], axis=1)\n",
    "df.rename(columns={'A':'Trabalho_nunca', 'B':'Trabalho_nao_atualmente', 'C':'Trabalho_sim'},\n",
    "                   inplace=True)\n",
    "df = df.drop('Q026',axis=1)"
   ]
  },
  {
   "cell_type": "code",
   "execution_count": 105,
   "metadata": {},
   "outputs": [],
   "source": [
    "df_trabalho_inicio = pd.get_dummies(df.Q027)\n",
    "df = pd.concat([df, df_trabalho_inicio], axis=1)\n",
    "df.rename(columns={'A':'Trabalho_inicio_menor_14', 'B':'Trabalho_inicio_14', 'C':'Trabalho_inicio_15', 'D':'Trabalho_inicio_16',\n",
    "                   'E':'Trabalho_inicio_17', 'F':'Trabalho_inicio_18', 'G':'Trabalho_inicio_19', 'H':'Trabalho_inicio_20',\n",
    "                   'I':'Trabalho_inicio_21', 'J':'Trabalho_inicio_22', 'K':'Trabalho_inicio_23', 'L':'Trabalho_inicio_24',\n",
    "                   'M':'Trabalho_inicio_25_mais'},\n",
    "                   inplace=True)\n",
    "df = df.drop('Q027',axis=1)"
   ]
  },
  {
   "cell_type": "code",
   "execution_count": 106,
   "metadata": {},
   "outputs": [],
   "source": [
    "df_trabalho_horas = pd.get_dummies(df.Q028)\n",
    "df = pd.concat([df, df_trabalho_horas], axis=1)\n",
    "df.rename(columns={'A':'Trabalho_10_horas_semanais', 'B':'Trabalho_11_20_horas_semanais', 'C':'Trabalho_21_30_horas_semanais',\n",
    "                   'D':'Trabalho_31_40_horas_semanais', 'E':'Trabalho_40_mais_horas_semanais'},\n",
    "                   inplace=True)\n",
    "df = df.drop('Q028',axis=1)"
   ]
  },
  {
   "cell_type": "code",
   "execution_count": 107,
   "metadata": {},
   "outputs": [],
   "source": [
    "df_tipo_escola_fundamental = pd.get_dummies(df.Q042)\n",
    "df = pd.concat([df, df_tipo_escola_fundamental], axis=1)\n",
    "df.rename(columns={'A':'Tipo_Escola_Somente_Publica', 'B':'Tipo_Escola_Maioria_Publica', 'C':'Tipo_Escola_Somente_Particular',\n",
    "                   'D':'Tipo_Escola_Maioria_Particular', 'E':'Tipo_Escola_Somente_Indigena', 'F':'Tipo_Escola_Maioria_Indigena',\n",
    "                   'G':'Tipo_Escola_Somente_Quilombola', 'H':'Tipo_Escola_Maioria_Quilombola'},\n",
    "                   inplace=True)\n",
    "df = df.drop('Q042',axis=1)"
   ]
  },
  {
   "cell_type": "code",
   "execution_count": 108,
   "metadata": {},
   "outputs": [],
   "source": [
    "df_modalidade_escola_fundamental = pd.get_dummies(df.Q043)\n",
    "df = pd.concat([df, df_modalidade_escola_fundamental], axis=1)\n",
    "df.rename(columns={'A':'Mod_Escola_Somente_Regular', 'B':'Mod_Escola_Regular_EJA', 'C':'Mod_Escola_EJA','D':'Mod_Escola_Outros'},\n",
    "                   inplace=True)\n",
    "df = df.drop('Q043',axis=1)"
   ]
  },
  {
   "cell_type": "code",
   "execution_count": 109,
   "metadata": {},
   "outputs": [],
   "source": [
    "df_turno_escola_fundamental = pd.get_dummies(df.Q044)\n",
    "df = pd.concat([df, df_turno_escola_fundamental], axis=1)\n",
    "df.rename(columns={'A':'Turno_Escola_Diurno', 'B':'Turno_Escola_Diurno_Noturno', 'C':'Turno_Escola_Noturno'},\n",
    "                   inplace=True)\n",
    "df = df.drop('Q044',axis=1)"
   ]
  },
  {
   "cell_type": "code",
   "execution_count": 110,
   "metadata": {},
   "outputs": [],
   "source": [
    "df_abandono_escola_fundamental = pd.get_dummies(df.Q045)\n",
    "df = pd.concat([df, df_abandono_escola_fundamental], axis=1)\n",
    "df.rename(columns={'A':'Fundamental_Nao_Abandono_Reprovacao', 'B':'Fundamental_Nao_Abandono_Sim_Reprovacao',\n",
    "                   'C':'Fundamental_Sim_Abandono_Nao_Reprovacao', 'D':'Fundamental_Sim_Abandono_Reprovacao'},\n",
    "                   inplace=True)\n",
    "df = df.drop('Q045',axis=1)"
   ]
  },
  {
   "cell_type": "code",
   "execution_count": 111,
   "metadata": {},
   "outputs": [],
   "source": [
    "df_tipo_escola_medio = pd.get_dummies(df.Q047)\n",
    "df = pd.concat([df, df_tipo_escola_medio], axis=1)\n",
    "df.rename(columns={'A':'Tipo_Escola_Somente_Publica_Medio', 'B':'Tipo_Escola_Publica_Privada_Sem_Bolsa_Medio',\n",
    "                   'C':'Tipo_Escola_Publica_Privada_Com_Bolsa_Medio', 'D':'Tipo_Escola_Privada_Sem_Bolsa_Medio',\n",
    "                   'E':'Tipo_Escola_Privada_Com_Bolsa_Medio'},\n",
    "                   inplace=True)\n",
    "df = df.drop('Q047',axis=1)"
   ]
  },
  {
   "cell_type": "code",
   "execution_count": 112,
   "metadata": {},
   "outputs": [],
   "source": [
    "df_modalidade_escola_medio = pd.get_dummies(df.Q048)\n",
    "df = pd.concat([df, df_modalidade_escola_medio], axis=1)\n",
    "df.rename(columns={'A':'Mod_Escola_Somente_Regular_Medio', 'B':'Mod_Escola_Regular_EJA_Medio', 'C':'Mod_Escola_EJA_Medio',\n",
    "                   'D':'Mod_Escola_Outros_Medio'},\n",
    "                   inplace=True)\n",
    "df = df.drop('Q048',axis=1)"
   ]
  },
  {
   "cell_type": "code",
   "execution_count": 113,
   "metadata": {},
   "outputs": [],
   "source": [
    "df_turno_escola_medio = pd.get_dummies(df.Q049)\n",
    "df = pd.concat([df, df_turno_escola_medio], axis=1)\n",
    "df.rename(columns={'A':'Turno_Escola_Diurno_Medio', 'B':'Turno_Escola_Diurno_Noturno_Medio', 'C':'Turno_Escola_Noturno_Medio'},\n",
    "                   inplace=True)\n",
    "df = df.drop('Q049',axis=1)"
   ]
  },
  {
   "cell_type": "code",
   "execution_count": 114,
   "metadata": {},
   "outputs": [
    {
     "data": {
      "text/plain": [
       "Index(['NU_IDADE', 'NU_NOTA_CN', 'NU_NOTA_CH', 'NU_NOTA_LC', 'NU_NOTA_MT',\n",
       "       'NU_NOTA_REDACAO', 'Feminino', 'Masculino', 'Não declarado', 'Branca',\n",
       "       ...\n",
       "       'Mod_Escola_Regular_EJA_Medio', 'Mod_Escola_EJA_Medio',\n",
       "       'Mod_Escola_Outros_Medio', 'Turno_Escola_Diurno_Medio',\n",
       "       'Turno_Escola_Diurno_Noturno_Medio', 'Turno_Escola_Noturno_Medio',\n",
       "       'Fundamental_Nao_Abandono_Reprovacao_Medio',\n",
       "       'Fundamental_Nao_Abandono_Sim_Reprovacao_Medio',\n",
       "       'Fundamental_Sim_Abandono_Nao_Reprovacao_Medio',\n",
       "       'Fundamental_Sim_Abandono_Reprovacao_Medio'],\n",
       "      dtype='object', length=145)"
      ]
     },
     "execution_count": 114,
     "metadata": {},
     "output_type": "execute_result"
    }
   ],
   "source": [
    "df_abandono_escola_medio = pd.get_dummies(df.Q050)\n",
    "df = pd.concat([df, df_abandono_escola_medio], axis=1)\n",
    "df.rename(columns={'A':'Fundamental_Nao_Abandono_Reprovacao_Medio', 'B':'Fundamental_Nao_Abandono_Sim_Reprovacao_Medio',\n",
    "                   'C':'Fundamental_Sim_Abandono_Nao_Reprovacao_Medio', 'D':'Fundamental_Sim_Abandono_Reprovacao_Medio'},\n",
    "                   inplace=True)\n",
    "df = df.drop('Q050',axis=1)\n",
    "df.columns"
   ]
  },
  {
   "cell_type": "markdown",
   "metadata": {},
   "source": [
    "Para realizar a regressão devemos ter apenas dados numéricos e esse foi o motivo para obtermos os 'dummies' das variáveis categóricas.<br>\n",
    "Porém, com a exploração acima, podemos notar que as notas das outras matérias tem uma relação linear com a nota de matemática.<br>\n",
    "Isso mostra fortes candidatas para o modelo. Para ficar mais claro, veremos a correlação das variáveis."
   ]
  },
  {
   "cell_type": "code",
   "execution_count": 115,
   "metadata": {},
   "outputs": [
    {
     "data": {
      "text/html": [
       "<div>\n",
       "<style scoped>\n",
       "    .dataframe tbody tr th:only-of-type {\n",
       "        vertical-align: middle;\n",
       "    }\n",
       "\n",
       "    .dataframe tbody tr th {\n",
       "        vertical-align: top;\n",
       "    }\n",
       "\n",
       "    .dataframe thead th {\n",
       "        text-align: right;\n",
       "    }\n",
       "</style>\n",
       "<table border=\"1\" class=\"dataframe\">\n",
       "  <thead>\n",
       "    <tr style=\"text-align: right;\">\n",
       "      <th></th>\n",
       "      <th>NU_IDADE</th>\n",
       "      <th>IN_TREINEIRO</th>\n",
       "      <th>NU_NOTA_CN</th>\n",
       "      <th>NU_NOTA_CH</th>\n",
       "      <th>NU_NOTA_LC</th>\n",
       "      <th>NU_NOTA_REDACAO</th>\n",
       "    </tr>\n",
       "  </thead>\n",
       "  <tbody>\n",
       "    <tr>\n",
       "      <th>NU_IDADE</th>\n",
       "      <td>1.000000</td>\n",
       "      <td>-0.293714</td>\n",
       "      <td>-0.105278</td>\n",
       "      <td>-0.048229</td>\n",
       "      <td>-0.079171</td>\n",
       "      <td>-0.161202</td>\n",
       "    </tr>\n",
       "    <tr>\n",
       "      <th>IN_TREINEIRO</th>\n",
       "      <td>-0.293714</td>\n",
       "      <td>1.000000</td>\n",
       "      <td>-0.009669</td>\n",
       "      <td>-0.032181</td>\n",
       "      <td>-0.004934</td>\n",
       "      <td>-0.014277</td>\n",
       "    </tr>\n",
       "    <tr>\n",
       "      <th>NU_NOTA_CN</th>\n",
       "      <td>-0.105278</td>\n",
       "      <td>-0.009669</td>\n",
       "      <td>1.000000</td>\n",
       "      <td>0.598574</td>\n",
       "      <td>0.545801</td>\n",
       "      <td>0.442692</td>\n",
       "    </tr>\n",
       "    <tr>\n",
       "      <th>NU_NOTA_CH</th>\n",
       "      <td>-0.048229</td>\n",
       "      <td>-0.032181</td>\n",
       "      <td>0.598574</td>\n",
       "      <td>1.000000</td>\n",
       "      <td>0.679993</td>\n",
       "      <td>0.537141</td>\n",
       "    </tr>\n",
       "    <tr>\n",
       "      <th>NU_NOTA_LC</th>\n",
       "      <td>-0.079171</td>\n",
       "      <td>-0.004934</td>\n",
       "      <td>0.545801</td>\n",
       "      <td>0.679993</td>\n",
       "      <td>1.000000</td>\n",
       "      <td>0.495745</td>\n",
       "    </tr>\n",
       "    <tr>\n",
       "      <th>NU_NOTA_REDACAO</th>\n",
       "      <td>-0.161202</td>\n",
       "      <td>-0.014277</td>\n",
       "      <td>0.442692</td>\n",
       "      <td>0.537141</td>\n",
       "      <td>0.495745</td>\n",
       "      <td>1.000000</td>\n",
       "    </tr>\n",
       "  </tbody>\n",
       "</table>\n",
       "</div>"
      ],
      "text/plain": [
       "                 NU_IDADE  IN_TREINEIRO  NU_NOTA_CN  NU_NOTA_CH  NU_NOTA_LC  \\\n",
       "NU_IDADE         1.000000     -0.293714   -0.105278   -0.048229   -0.079171   \n",
       "IN_TREINEIRO    -0.293714      1.000000   -0.009669   -0.032181   -0.004934   \n",
       "NU_NOTA_CN      -0.105278     -0.009669    1.000000    0.598574    0.545801   \n",
       "NU_NOTA_CH      -0.048229     -0.032181    0.598574    1.000000    0.679993   \n",
       "NU_NOTA_LC      -0.079171     -0.004934    0.545801    0.679993    1.000000   \n",
       "NU_NOTA_REDACAO -0.161202     -0.014277    0.442692    0.537141    0.495745   \n",
       "\n",
       "                 NU_NOTA_REDACAO  \n",
       "NU_IDADE               -0.161202  \n",
       "IN_TREINEIRO           -0.014277  \n",
       "NU_NOTA_CN              0.442692  \n",
       "NU_NOTA_CH              0.537141  \n",
       "NU_NOTA_LC              0.495745  \n",
       "NU_NOTA_REDACAO         1.000000  "
      ]
     },
     "execution_count": 115,
     "metadata": {},
     "output_type": "execute_result"
    }
   ],
   "source": [
    "# Selecionar somente valores numéricos (inteiros e floats)\n",
    "df_test = df_test.select_dtypes(include=['int64','float64'])\n",
    "\n",
    "var = ['NU_IDADE','IN_TREINEIRO','NU_NOTA_CN','NU_NOTA_CH','NU_NOTA_LC','NU_NOTA_REDACAO']\n",
    "df_test[var].corr()"
   ]
  },
  {
   "cell_type": "code",
   "execution_count": 116,
   "metadata": {},
   "outputs": [
    {
     "data": {
      "image/png": "[encoded data removed]",
      "text/plain": [
       "<Figure size 432x288 with 2 Axes>"
      ]
     },
     "metadata": {
      "needs_background": "light"
     },
     "output_type": "display_data"
    }
   ],
   "source": [
    "features = ['NU_NOTA_CN','NU_NOTA_CH','NU_NOTA_LC','NU_NOTA_REDACAO']\n",
    "sns.heatmap(df_test[features].corr(), annot=True, linecolor='Black', cmap='Blues')\n",
    "plt.xticks(rotation=90)\n",
    "plt.show()"
   ]
  },
  {
   "cell_type": "code",
   "execution_count": 117,
   "metadata": {},
   "outputs": [
    {
     "data": {
      "text/plain": [
       "NU_NOTA_CN         1134\n",
       "NU_NOTA_CH         1134\n",
       "NU_NOTA_LC         1199\n",
       "NU_NOTA_REDACAO    1199\n",
       "dtype: int64"
      ]
     },
     "execution_count": 117,
     "metadata": {},
     "output_type": "execute_result"
    }
   ],
   "source": [
    "#Verificação de dados faltantes\n",
    "df_test[features].isnull().sum()"
   ]
  },
  {
   "cell_type": "markdown",
   "metadata": {},
   "source": [
    "Para solucionar esse problema iremos preencher os dados faltantes com a média das notas"
   ]
  },
  {
   "cell_type": "code",
   "execution_count": 118,
   "metadata": {},
   "outputs": [
    {
     "data": {
      "text/plain": [
       "NU_NOTA_CN         0\n",
       "NU_NOTA_CH         0\n",
       "NU_NOTA_LC         0\n",
       "NU_NOTA_REDACAO    0\n",
       "dtype: int64"
      ]
     },
     "execution_count": 118,
     "metadata": {},
     "output_type": "execute_result"
    }
   ],
   "source": [
    "#dataframe de treinamento\n",
    "df['NU_NOTA_CN'].fillna(df['NU_NOTA_CN'].mean(), inplace=True)\n",
    "df['NU_NOTA_CH'].fillna(df['NU_NOTA_CH'].mean(), inplace=True)\n",
    "df['NU_NOTA_LC'].fillna(df['NU_NOTA_LC'].mean(), inplace=True)\n",
    "df['NU_NOTA_REDACAO'].fillna(df['NU_NOTA_REDACAO'].mean(), inplace=True)\n",
    "#dataframe de teste\n",
    "df_test['NU_NOTA_CN'].fillna(df_test['NU_NOTA_CN'].mean(), inplace=True)\n",
    "df_test['NU_NOTA_CH'].fillna(df_test['NU_NOTA_CH'].mean(), inplace=True)\n",
    "df_test['NU_NOTA_LC'].fillna(df_test['NU_NOTA_LC'].mean(), inplace=True)\n",
    "df_test['NU_NOTA_REDACAO'].fillna(df_test['NU_NOTA_REDACAO'].mean(), inplace=True)\n",
    "#Verificação de dados faltantes\n",
    "df_test[features].isnull().sum()"
   ]
  },
  {
   "cell_type": "markdown",
   "metadata": {},
   "source": [
    "## Modelos ##"
   ]
  },
  {
   "cell_type": "code",
   "execution_count": 119,
   "metadata": {},
   "outputs": [],
   "source": [
    "from sklearn.metrics import classification_report, accuracy_score\n",
    "from sklearn.model_selection import train_test_split,  GridSearchCV\n",
    "\n",
    "\n",
    "from sklearn import preprocessing\n",
    "from sklearn.ensemble import RandomForestRegressor\n",
    "from sklearn.ensemble import AdaBoostRegressor\n",
    "from sklearn.pipeline import make_pipeline\n",
    "from sklearn.externals import joblib\n",
    "from sklearn.tree import DecisionTreeRegressor"
   ]
  },
  {
   "cell_type": "code",
   "execution_count": 120,
   "metadata": {},
   "outputs": [],
   "source": [
    "#Variavel alvo\n",
    "y = df['NU_NOTA_MT']"
   ]
  },
  {
   "cell_type": "code",
   "execution_count": 121,
   "metadata": {},
   "outputs": [],
   "source": [
    "#Dados para treinamento do modelo\n",
    "features = ['NU_NOTA_CN','NU_NOTA_CH','NU_NOTA_LC','NU_NOTA_REDACAO']\n",
    "x_train = df[features]"
   ]
  },
  {
   "cell_type": "code",
   "execution_count": 122,
   "metadata": {},
   "outputs": [],
   "source": [
    "x_test = df_test[features]"
   ]
  },
  {
   "cell_type": "markdown",
   "metadata": {},
   "source": [
    "#### Random Forest ###"
   ]
  },
  {
   "cell_type": "code",
   "execution_count": 123,
   "metadata": {},
   "outputs": [],
   "source": [
    "#n_estimators=200 (nº de nós), n_jobs=-1 (processar tudo), warm_start=True (mantém o aprendizado e reprocessa o modelo, melhorando-o)\n",
    "pipeline = make_pipeline(preprocessing.StandardScaler(), RandomForestRegressor(n_estimators=200, n_jobs=-1, warm_start=True))"
   ]
  },
  {
   "cell_type": "code",
   "execution_count": 124,
   "metadata": {},
   "outputs": [],
   "source": [
    "# max_features : O número de features a considerar quando pesquisar pela melhor separação\n",
    "# max_depth :  Profundidade máxima da árvore de decisão.\n",
    "hyperparameters = {'randomforestregressor__max_features' : ['auto', 'sqrt', 'log2'],\n",
    "                   'randomforestregressor__max_depth': [None, 5, 3, 1]}"
   ]
  },
  {
   "cell_type": "code",
   "execution_count": 125,
   "metadata": {},
   "outputs": [
    {
     "data": {
      "text/plain": [
       "GridSearchCV(cv=10, error_score='raise-deprecating',\n",
       "       estimator=Pipeline(memory=None,\n",
       "     steps=[('standardscaler', StandardScaler(copy=True, with_mean=True, with_std=True)), ('randomforestregressor', RandomForestRegressor(bootstrap=True, criterion='mse', max_depth=None,\n",
       "           max_features='auto', max_leaf_nodes=None,\n",
       "           min_impurity_decr...mators=200, n_jobs=-1,\n",
       "           oob_score=False, random_state=None, verbose=0, warm_start=True))]),\n",
       "       fit_params=None, iid='warn', n_jobs=None,\n",
       "       param_grid={'randomforestregressor__max_features': ['auto', 'sqrt', 'log2'], 'randomforestregressor__max_depth': [None, 5, 3, 1]},\n",
       "       pre_dispatch='2*n_jobs', refit=True, return_train_score='warn',\n",
       "       scoring=None, verbose=0)"
      ]
     },
     "execution_count": 125,
     "metadata": {},
     "output_type": "execute_result"
    }
   ],
   "source": [
    "# Ajustar e sintonizar o modelo\n",
    "clf = GridSearchCV(pipeline, hyperparameters, cv=10)\n",
    "clf.fit(x_train, y)"
   ]
  },
  {
   "cell_type": "code",
   "execution_count": 126,
   "metadata": {},
   "outputs": [
    {
     "name": "stdout",
     "output_type": "stream",
     "text": [
      "{'randomforestregressor__max_depth': 5, 'randomforestregressor__max_features': 'sqrt'}\n"
     ]
    }
   ],
   "source": [
    "print(clf.best_params_)"
   ]
  },
  {
   "cell_type": "code",
   "execution_count": 127,
   "metadata": {},
   "outputs": [],
   "source": [
    "pred_notas = clf.predict(x_test)"
   ]
  },
  {
   "cell_type": "code",
   "execution_count": 128,
   "metadata": {},
   "outputs": [],
   "source": [
    "df_resposta['NU_NOTA_MT'] = np.around(pred_notas,2)"
   ]
  },
  {
   "cell_type": "code",
   "execution_count": 129,
   "metadata": {},
   "outputs": [
    {
     "data": {
      "text/plain": [
       "array([431.2905102 , 452.71431935, 583.94097906, ..., 677.09441755,\n",
       "       452.51764212, 455.47443051])"
      ]
     },
     "execution_count": 129,
     "metadata": {},
     "output_type": "execute_result"
    }
   ],
   "source": [
    "#Exemplo de respostas\n",
    "pred_notas"
   ]
  },
  {
   "cell_type": "code",
   "execution_count": 130,
   "metadata": {},
   "outputs": [
    {
     "data": {
      "text/plain": [
       "3441"
      ]
     },
     "execution_count": 130,
     "metadata": {},
     "output_type": "execute_result"
    }
   ],
   "source": [
    "len(np.unique(pred_notas))"
   ]
  },
  {
   "cell_type": "code",
   "execution_count": 131,
   "metadata": {},
   "outputs": [
    {
     "data": {
      "text/html": [
       "<div>\n",
       "<style scoped>\n",
       "    .dataframe tbody tr th:only-of-type {\n",
       "        vertical-align: middle;\n",
       "    }\n",
       "\n",
       "    .dataframe tbody tr th {\n",
       "        vertical-align: top;\n",
       "    }\n",
       "\n",
       "    .dataframe thead th {\n",
       "        text-align: right;\n",
       "    }\n",
       "</style>\n",
       "<table border=\"1\" class=\"dataframe\">\n",
       "  <thead>\n",
       "    <tr style=\"text-align: right;\">\n",
       "      <th></th>\n",
       "      <th>NU_INSCRICAO</th>\n",
       "      <th>NU_NOTA_MT</th>\n",
       "    </tr>\n",
       "  </thead>\n",
       "  <tbody>\n",
       "    <tr>\n",
       "      <th>0</th>\n",
       "      <td>73ff9fcc02f0a99919906c942c2e1a1042cdcf98</td>\n",
       "      <td>431.29</td>\n",
       "    </tr>\n",
       "    <tr>\n",
       "      <th>1</th>\n",
       "      <td>71a95f9f1b91a82c65ad94abbdf9f54e6066f968</td>\n",
       "      <td>452.71</td>\n",
       "    </tr>\n",
       "    <tr>\n",
       "      <th>2</th>\n",
       "      <td>b38a03232f43b11c9d0788abaf060f7366053b6d</td>\n",
       "      <td>583.94</td>\n",
       "    </tr>\n",
       "    <tr>\n",
       "      <th>3</th>\n",
       "      <td>70b682d9a3636be23f6120fa9d6b164eb3c6002d</td>\n",
       "      <td>455.47</td>\n",
       "    </tr>\n",
       "    <tr>\n",
       "      <th>4</th>\n",
       "      <td>715494628a50142ce8cb17191cfe6d0f3cae0934</td>\n",
       "      <td>531.08</td>\n",
       "    </tr>\n",
       "  </tbody>\n",
       "</table>\n",
       "</div>"
      ],
      "text/plain": [
       "                               NU_INSCRICAO  NU_NOTA_MT\n",
       "0  73ff9fcc02f0a99919906c942c2e1a1042cdcf98      431.29\n",
       "1  71a95f9f1b91a82c65ad94abbdf9f54e6066f968      452.71\n",
       "2  b38a03232f43b11c9d0788abaf060f7366053b6d      583.94\n",
       "3  70b682d9a3636be23f6120fa9d6b164eb3c6002d      455.47\n",
       "4  715494628a50142ce8cb17191cfe6d0f3cae0934      531.08"
      ]
     },
     "execution_count": 131,
     "metadata": {},
     "output_type": "execute_result"
    }
   ],
   "source": [
    "df_resposta.head()"
   ]
  },
  {
   "cell_type": "code",
   "execution_count": 132,
   "metadata": {},
   "outputs": [],
   "source": [
    "df_resposta.to_csv('answer.csv', index=False, header=True)"
   ]
  },
  {
   "cell_type": "code",
   "execution_count": 133,
   "metadata": {},
   "outputs": [
    {
     "data": {
      "text/plain": [
       "['rf_regressor.pkl']"
      ]
     },
     "execution_count": 133,
     "metadata": {},
     "output_type": "execute_result"
    }
   ],
   "source": [
    "# Salvar o modelo preditivo\n",
    "joblib.dump(clf, 'rf_regressor.pkl')\n",
    "\n",
    "# Usar/carregar o modelo preditivo\n",
    "#clf2 = joblib.load('rf_regressor.pkl')\n",
    "#clf2.predict(x_test)"
   ]
  },
  {
   "cell_type": "markdown",
   "metadata": {},
   "source": [
    "#### Decision Tree ###"
   ]
  },
  {
   "cell_type": "code",
   "execution_count": 134,
   "metadata": {},
   "outputs": [],
   "source": [
    "pipetree = make_pipeline(preprocessing.StandardScaler(), DecisionTreeRegressor())"
   ]
  },
  {
   "cell_type": "code",
   "execution_count": 135,
   "metadata": {},
   "outputs": [],
   "source": [
    "hyperparameters_tree = {'decisiontreeregressor__max_features' : ['auto', 'sqrt', 'log2'],\n",
    "                        'decisiontreeregressor__max_depth': [None, 5, 3, 1],\n",
    "                        'decisiontreeregressor__min_samples_split': [2,3,4,5,6]},"
   ]
  },
  {
   "cell_type": "code",
   "execution_count": 136,
   "metadata": {},
   "outputs": [
    {
     "data": {
      "text/plain": [
       "GridSearchCV(cv=10, error_score='raise-deprecating',\n",
       "       estimator=Pipeline(memory=None,\n",
       "     steps=[('standardscaler', StandardScaler(copy=True, with_mean=True, with_std=True)), ('decisiontreeregressor', DecisionTreeRegressor(criterion='mse', max_depth=None, max_features=None,\n",
       "           max_leaf_nodes=None, min_impurity_decrease=0.0,\n",
       "           min_impurity_split=None, min_samples_leaf=1,\n",
       "           min_samples_split=2, min_weight_fraction_leaf=0.0,\n",
       "           presort=False, random_state=None, splitter='best'))]),\n",
       "       fit_params=None, iid='warn', n_jobs=None,\n",
       "       param_grid=({'decisiontreeregressor__max_features': ['auto', 'sqrt', 'log2'], 'decisiontreeregressor__max_depth': [None, 5, 3, 1], 'decisiontreeregressor__min_samples_split': [2, 3, 4, 5, 6]},),\n",
       "       pre_dispatch='2*n_jobs', refit=True, return_train_score='warn',\n",
       "       scoring=None, verbose=0)"
      ]
     },
     "execution_count": 136,
     "metadata": {},
     "output_type": "execute_result"
    }
   ],
   "source": [
    "# Ajustar e sintonizar o modelo\n",
    "clf = GridSearchCV(pipetree, hyperparameters_tree, cv=10)\n",
    "clf.fit(x_train, y)"
   ]
  },
  {
   "cell_type": "code",
   "execution_count": 137,
   "metadata": {},
   "outputs": [
    {
     "name": "stdout",
     "output_type": "stream",
     "text": [
      "{'decisiontreeregressor__max_depth': 5, 'decisiontreeregressor__max_features': 'auto', 'decisiontreeregressor__min_samples_split': 5}\n"
     ]
    }
   ],
   "source": [
    "print(clf.best_params_)"
   ]
  },
  {
   "cell_type": "code",
   "execution_count": 138,
   "metadata": {},
   "outputs": [
    {
     "data": {
      "text/plain": [
       "array([440.2722067 , 449.08910649, 608.06258993, ..., 664.40391061,\n",
       "       449.08910649, 463.8406278 ])"
      ]
     },
     "execution_count": 138,
     "metadata": {},
     "output_type": "execute_result"
    }
   ],
   "source": [
    "pred_tree = clf.predict(x_test)\n",
    "pred_tree"
   ]
  },
  {
   "cell_type": "code",
   "execution_count": 139,
   "metadata": {},
   "outputs": [
    {
     "name": "stdout",
     "output_type": "stream",
     "text": [
      "Notas Distintas: 30\n"
     ]
    }
   ],
   "source": [
    "print(\"Notas Distintas:\",len(np.unique(pred_tree)))"
   ]
  },
  {
   "cell_type": "markdown",
   "metadata": {},
   "source": [
    "#### AdaBoost ####"
   ]
  },
  {
   "cell_type": "code",
   "execution_count": 140,
   "metadata": {},
   "outputs": [
    {
     "name": "stderr",
     "output_type": "stream",
     "text": [
      "c:\\python37\\lib\\site-packages\\sklearn\\model_selection\\_search.py:841: DeprecationWarning: The default of the `iid` parameter will change from True to False in version 0.22 and will be removed in 0.24. This will change numeric results when test-set sizes are unequal.\n",
      "  DeprecationWarning)\n"
     ]
    },
    {
     "name": "stdout",
     "output_type": "stream",
     "text": [
      "\n",
      "{'adaboostregressor__learning_rate': 1.0, 'adaboostregressor__loss': 'linear', 'adaboostregressor__n_estimators': 100}\n",
      "\n",
      "[478.52339657 466.15879551 593.15991091 ... 640.06308725 457.86179821\n",
      " 486.68953762]\n",
      "\n",
      "Notas Distintas: 120\n"
     ]
    }
   ],
   "source": [
    "pipe_ada = make_pipeline(preprocessing.StandardScaler(), AdaBoostRegressor())\n",
    "hyperparameters_ada = {'adaboostregressor__n_estimators' : [50,100,200],\n",
    "                       'adaboostregressor__learning_rate': [1.,2.,3.,4.],\n",
    "                       'adaboostregressor__loss': ['linear', 'square', 'exponential']}\n",
    "\n",
    "# Ajustar e sintonizar o modelo\n",
    "clf = GridSearchCV(pipe_ada, hyperparameters_ada, cv=10)\n",
    "clf.fit(x_train, y)\n",
    "\n",
    "print()\n",
    "print(clf.best_params_)\n",
    "\n",
    "print()\n",
    "pred_ada = clf.predict(x_test)\n",
    "print(pred_ada)\n",
    "\n",
    "print()\n",
    "print(\"Notas Distintas:\",len(np.unique(pred_ada)))"
   ]
  },
  {
   "cell_type": "markdown",
   "metadata": {},
   "source": [
    "Dentro os modelos testados, Random Forest foi o que mostrou maior número de previsões de notas diferentes.<br>\n",
    "Isso mostra um indicativo de que devemos usá-lo."
   ]
  },
  {
   "cell_type": "markdown",
   "metadata": {},
   "source": [
    "## Resultado ##"
   ]
  },
  {
   "cell_type": "markdown",
   "metadata": {},
   "source": [
    "Após o envio, o modelo acima obteve um Score de 76.31%"
   ]
  }
 ],
 "metadata": {
  "kernelspec": {
   "display_name": "Python 3",
   "language": "python",
   "name": "python3"
  },
  "language_info": {
   "codemirror_mode": {
    "name": "ipython",
    "version": 3
   },
   "file_extension": ".py",
   "mimetype": "text/x-python",
   "name": "python",
   "nbconvert_exporter": "python",
   "pygments_lexer": "ipython3",
   "version": "3.7.0"
  }
 },
 "nbformat": 4,
 "nbformat_minor": 2
}
